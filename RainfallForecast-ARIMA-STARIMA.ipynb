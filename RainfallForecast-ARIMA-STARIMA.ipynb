{
 "cells": [
  {
   "cell_type": "markdown",
   "id": "12b4ce73",
   "metadata": {},
   "source": [
    "# Forecasting Rainfall to Anticipate Crop Failure Using ARIMA and ST-ARIMA: A Case Study of Jawa Timur, Indonesia\n",
    "\n",
    "Forecasting the future meteorological conditions,particularly rainfall, using historical time series data is essential for crop production modeling in tropical regions. This necessity arises from the fact that, in tropical lowlands regions, agricultural activities are primarily influenced by rainfall patterns. Statistical methods such as autoregressive integrated moving average (ARIMA) and space-time autoregressive integrated moving average (STARIMA) have been widely used in forecasting rainfall or other subjects. Evaluating the applicability of those two method is essential to obtain the best model. **This research aims to assess the performance of ARIMA and ST-ARIMA to predict short-term rainfall in Jawa Timur, Indonesia.**"
   ]
  },
  {
   "cell_type": "markdown",
   "id": "e72364ab",
   "metadata": {},
   "source": [
    "## Data\n",
    "\n",
    "The data used in this study is monthly rainfall data spanning a 22-year period from 2002 to 2023 in Jawa Timur (csv format) and seasonal zone maps of Jawa Timur (shapefile), which are generated from clustering based on topography, coastal proximity, and annual rainfall patterns from the Indonesian Meteorology, Climatology, and Geophysical Agency. In total, there were **264 monthly data points**. This data is then split into a **training set (comprising 258 months from January 2002 to June 2023) and a test set (spanning 6 months from July 2023 to December 2023).**\n",
    "\n",
    "*NB: This research **employs a seasonal zones polygon** produced by the Indonesian Meteorology, Climatology, and Geophysical Agency as spatial unit analysis instead of the administrative polygon, **as rainfall patterns are primarily shaped by atmospheric conditions and geographical features like topography rather than administrative boundaries.***"
   ]
  },
  {
   "cell_type": "code",
   "execution_count": 74,
   "id": "a9f37839",
   "metadata": {},
   "outputs": [],
   "source": [
    "# Set the working directory \n",
    "# Replace the path below with the directory where your shapefile data is stored\n",
    "setwd(\"E:/ADE/UCL/Kuliah/Spatio-temporal Analysis and Big Data Mining/Assignment/Script and data/Data\")"
   ]
  },
  {
   "cell_type": "code",
   "execution_count": 4,
   "id": "37893dd3",
   "metadata": {},
   "outputs": [
    {
     "name": "stderr",
     "output_type": "stream",
     "text": [
      "Installing package into 'C:/Users/LENOVO/AppData/Local/R/win-library/4.3'\n",
      "(as 'lib' is unspecified)\n",
      "\n"
     ]
    },
    {
     "name": "stdout",
     "output_type": "stream",
     "text": [
      "package 'sp' successfully unpacked and MD5 sums checked\n",
      "\n",
      "The downloaded binary packages are in\n",
      "\tC:\\Users\\LENOVO\\AppData\\Local\\Temp\\Rtmpo7n9fL\\downloaded_packages\n"
     ]
    },
    {
     "name": "stderr",
     "output_type": "stream",
     "text": [
      "Installing package into 'C:/Users/LENOVO/AppData/Local/R/win-library/4.3'\n",
      "(as 'lib' is unspecified)\n",
      "\n",
      "Warning message:\n",
      "\"package 'rgdal' is not available for this version of R\n",
      "\n",
      "A version of this package for your version of R might be available elsewhere,\n",
      "see the ideas at\n",
      "https://cran.r-project.org/doc/manuals/r-patched/R-admin.html#Installing-packages\"\n",
      "Installing package into 'C:/Users/LENOVO/AppData/Local/R/win-library/4.3'\n",
      "(as 'lib' is unspecified)\n",
      "\n",
      "also installing the dependency 'terra'\n",
      "\n",
      "\n"
     ]
    },
    {
     "name": "stdout",
     "output_type": "stream",
     "text": [
      "package 'terra' successfully unpacked and MD5 sums checked\n",
      "package 'raster' successfully unpacked and MD5 sums checked\n",
      "\n",
      "The downloaded binary packages are in\n",
      "\tC:\\Users\\LENOVO\\AppData\\Local\\Temp\\Rtmpo7n9fL\\downloaded_packages\n"
     ]
    },
    {
     "name": "stderr",
     "output_type": "stream",
     "text": [
      "Installing package into 'C:/Users/LENOVO/AppData/Local/R/win-library/4.3'\n",
      "(as 'lib' is unspecified)\n",
      "\n",
      "Warning message:\n",
      "\"package 'readGDAL' is not available for this version of R\n",
      "\n",
      "A version of this package for your version of R might be available elsewhere,\n",
      "see the ideas at\n",
      "https://cran.r-project.org/doc/manuals/r-patched/R-admin.html#Installing-packages\"\n",
      "Installing package into 'C:/Users/LENOVO/AppData/Local/R/win-library/4.3'\n",
      "(as 'lib' is unspecified)\n",
      "\n",
      "also installing the dependencies 'logger', 'later', 'promises', 'stringdist', 'spacesXYZ', 'httpuv', 'xfun', 'cols4all', 'data.table', 'leafgl', 'leaflegend', 'servr'\n",
      "\n",
      "\n"
     ]
    },
    {
     "name": "stdout",
     "output_type": "stream",
     "text": [
      "package 'logger' successfully unpacked and MD5 sums checked\n",
      "package 'later' successfully unpacked and MD5 sums checked\n",
      "package 'promises' successfully unpacked and MD5 sums checked\n",
      "package 'stringdist' successfully unpacked and MD5 sums checked\n",
      "package 'spacesXYZ' successfully unpacked and MD5 sums checked\n",
      "package 'httpuv' successfully unpacked and MD5 sums checked\n",
      "package 'xfun' successfully unpacked and MD5 sums checked\n",
      "package 'cols4all' successfully unpacked and MD5 sums checked\n",
      "package 'data.table' successfully unpacked and MD5 sums checked\n",
      "package 'leafgl' successfully unpacked and MD5 sums checked\n",
      "package 'leaflegend' successfully unpacked and MD5 sums checked\n",
      "package 'servr' successfully unpacked and MD5 sums checked\n",
      "package 'tmap' successfully unpacked and MD5 sums checked\n",
      "\n",
      "The downloaded binary packages are in\n",
      "\tC:\\Users\\LENOVO\\AppData\\Local\\Temp\\Rtmpo7n9fL\\downloaded_packages\n"
     ]
    },
    {
     "name": "stderr",
     "output_type": "stream",
     "text": [
      "Installing package into 'C:/Users/LENOVO/AppData/Local/R/win-library/4.3'\n",
      "(as 'lib' is unspecified)\n",
      "\n"
     ]
    },
    {
     "name": "stdout",
     "output_type": "stream",
     "text": [
      "package 'ggplot2' successfully unpacked and MD5 sums checked\n",
      "\n",
      "The downloaded binary packages are in\n",
      "\tC:\\Users\\LENOVO\\AppData\\Local\\Temp\\Rtmpo7n9fL\\downloaded_packages\n"
     ]
    },
    {
     "name": "stderr",
     "output_type": "stream",
     "text": [
      "Installing package into 'C:/Users/LENOVO/AppData/Local/R/win-library/4.3'\n",
      "(as 'lib' is unspecified)\n",
      "\n"
     ]
    },
    {
     "name": "stdout",
     "output_type": "stream",
     "text": [
      "package 'plyr' successfully unpacked and MD5 sums checked\n",
      "\n",
      "The downloaded binary packages are in\n",
      "\tC:\\Users\\LENOVO\\AppData\\Local\\Temp\\Rtmpo7n9fL\\downloaded_packages\n"
     ]
    },
    {
     "name": "stderr",
     "output_type": "stream",
     "text": [
      "Installing package into 'C:/Users/LENOVO/AppData/Local/R/win-library/4.3'\n",
      "(as 'lib' is unspecified)\n",
      "\n"
     ]
    },
    {
     "name": "stdout",
     "output_type": "stream",
     "text": [
      "package 'gstat' successfully unpacked and MD5 sums checked\n",
      "\n",
      "The downloaded binary packages are in\n",
      "\tC:\\Users\\LENOVO\\AppData\\Local\\Temp\\Rtmpo7n9fL\\downloaded_packages\n"
     ]
    },
    {
     "name": "stderr",
     "output_type": "stream",
     "text": [
      "Installing package into 'C:/Users/LENOVO/AppData/Local/R/win-library/4.3'\n",
      "(as 'lib' is unspecified)\n",
      "\n",
      "Warning message:\n",
      "\"package 'spDataLarge' is not available for this version of R\n",
      "\n",
      "A version of this package for your version of R might be available elsewhere,\n",
      "see the ideas at\n",
      "https://cran.r-project.org/doc/manuals/r-patched/R-admin.html#Installing-packages\"\n",
      "Installing package into 'C:/Users/LENOVO/AppData/Local/R/win-library/4.3'\n",
      "(as 'lib' is unspecified)\n",
      "\n",
      "also installing the dependency 'highr'\n",
      "\n",
      "\n"
     ]
    },
    {
     "name": "stdout",
     "output_type": "stream",
     "text": [
      "package 'highr' successfully unpacked and MD5 sums checked\n",
      "package 'knitr' successfully unpacked and MD5 sums checked\n",
      "\n",
      "The downloaded binary packages are in\n",
      "\tC:\\Users\\LENOVO\\AppData\\Local\\Temp\\Rtmpo7n9fL\\downloaded_packages\n"
     ]
    },
    {
     "name": "stderr",
     "output_type": "stream",
     "text": [
      "Installing package into 'C:/Users/LENOVO/AppData/Local/R/win-library/4.3'\n",
      "(as 'lib' is unspecified)\n",
      "\n"
     ]
    },
    {
     "name": "stdout",
     "output_type": "stream",
     "text": [
      "package 'forecast' successfully unpacked and MD5 sums checked\n",
      "\n",
      "The downloaded binary packages are in\n",
      "\tC:\\Users\\LENOVO\\AppData\\Local\\Temp\\Rtmpo7n9fL\\downloaded_packages\n"
     ]
    }
   ],
   "source": [
    "# Install necessary R packages \n",
    "install.packages(\"sp\")        # For spatial data structures and methods\n",
    "install.packages(\"rgdal\")     # For reading and writing spatial data formats\n",
    "install.packages(\"raster\")    # For working with raster data\n",
    "install.packages(\"readGDAL\")  #For reading GDAL data formats\n",
    "install.packages(\"tmap\")      # For thematic mapping\n",
    "install.packages(\"ggplot2\")   # For data visualization\n",
    "install.packages(\"plyr\")      # For data manipulation\n",
    "install.packages(\"gstat\")     # For geostatistical analysis\n",
    "install.packages(\"spDataLarge\") # For large spatial datasets\n",
    "install.packages(\"knitr\")     # For dynamic report generation\n",
    "install.packages(\"forecast\")  # For time series forecasting"
   ]
  },
  {
   "cell_type": "code",
   "execution_count": 5,
   "id": "2f8b035d",
   "metadata": {},
   "outputs": [],
   "source": [
    "# Import the 'starima' package from the specified file location\n",
    "source(\"E:/ADE/UCL/Kuliah/Spatio-temporal Analysis and Big Data Mining/Assignment/Script and data/Data/starima_package.R\")"
   ]
  },
  {
   "cell_type": "code",
   "execution_count": 6,
   "id": "2059c866",
   "metadata": {},
   "outputs": [
    {
     "name": "stderr",
     "output_type": "stream",
     "text": [
      "Warning message:\n",
      "\"package 'lattice' was built under R version 4.3.3\"\n",
      "Warning message:\n",
      "\"package 'spdep' was built under R version 4.3.2\"\n",
      "Loading required package: spData\n",
      "\n",
      "Warning message:\n",
      "\"package 'spData' was built under R version 4.3.2\"\n",
      "To access larger datasets in this package, install the spDataLarge\n",
      "package with: `install.packages('spDataLarge',\n",
      "repos='https://nowosad.github.io/drat/', type='source')`\n",
      "\n",
      "Loading required package: sf\n",
      "\n",
      "Linking to GEOS 3.11.2, GDAL 3.6.2, PROJ 9.2.0; sf_use_s2() is TRUE\n",
      "\n",
      "Warning message:\n",
      "\"package 'sftime' was built under R version 4.3.2\"\n",
      "Warning message:\n",
      "\"package 'tmap' was built under R version 4.3.3\"\n",
      "Warning message:\n",
      "\"package 'ggplot2' was built under R version 4.3.3\"\n",
      "Warning message:\n",
      "\"package 'gstat' was built under R version 4.3.3\"\n",
      "Warning message:\n",
      "\"package 'OpenStreetMap' was built under R version 4.3.2\"\n",
      "Warning message:\n",
      "\"package 'spacetime' was built under R version 4.3.2\"\n",
      "Loading required package: abind\n",
      "\n",
      "Warning message:\n",
      "\"package 'reshape' was built under R version 4.3.2\"\n",
      "Warning message:\n",
      "\"package 'knitr' was built under R version 4.3.3\"\n",
      "Warning message:\n",
      "\"package 'forecast' was built under R version 4.3.3\"\n",
      "Registered S3 method overwritten by 'quantmod':\n",
      "  method            from\n",
      "  as.zoo.data.frame zoo \n",
      "\n",
      "Warning message:\n",
      "\"package 'urca' was built under R version 4.3.3\"\n"
     ]
    }
   ],
   "source": [
    "# Load the required libraries for analysis\n",
    "library(lattice)      # For lattice plots\n",
    "library(spdep)       # For spatial dependence analysis\n",
    "library(sf)          # For spatial data handling\n",
    "library(sftime)      # For handling time in sf objects\n",
    "library(tmap)        # For thematic mapping\n",
    "library(ggplot2)     # For data visualization\n",
    "library(gridExtra)   # For arranging plots\n",
    "library(gstat)       # For geostatistical analysis\n",
    "library(OpenStreetMap)  # For accessing OpenStreetMap data\n",
    "library(spacetime)   # For space-time analysis\n",
    "library(stars)       # For handling raster data\n",
    "library(reshape)     # For reshaping data\n",
    "library(knitr)       # For dynamic report generation\n",
    "library(forecast)    # For time series forecasting\n",
    "library(urca)        # For unit root and cointegration analysis"
   ]
  },
  {
   "cell_type": "code",
   "execution_count": 7,
   "id": "c5504114",
   "metadata": {},
   "outputs": [
    {
     "name": "stdout",
     "output_type": "stream",
     "text": [
      "Reading layer `Jatim' from data source \n",
      "  `E:\\ADE\\UCL\\Kuliah\\Spatio-temporal Analysis and Big Data Mining\\Assignment\\Script and data\\Data\\Jatim.shp' \n",
      "  using driver `ESRI Shapefile'\n",
      "Simple feature collection with 3 features and 267 fields\n",
      "Geometry type: POLYGON\n",
      "Dimension:     XYZ\n",
      "Bounding box:  xmin: 111.8359 ymin: -8.16722 xmax: 112.3909 ymax: -7.57466\n",
      "z_range:       zmin: 0 zmax: 0\n",
      "Geodetic CRS:  WGS 84\n"
     ]
    }
   ],
   "source": [
    "# Read the spatial dataset for Jawa Timur (East Java)\n",
    "jatim <- st_read(dsn = \"Jatim.shp\", layer = \"Jatim\")\n"
   ]
  },
  {
   "cell_type": "code",
   "execution_count": 8,
   "id": "fcc4e1e8",
   "metadata": {},
   "outputs": [],
   "source": [
    "#--------------------------------------------------------------------------\n",
    "# Purpose: Generate column names for a spatial dataset spanning from \n",
    "#          2002 to 2023 with month numbers prefixed, and replace existing \n",
    "#          column names in the dataset accordingly.\n",
    "\n",
    "# Generate column names for the range 2002 to 2023 with month numbers prefixed\n",
    "start_year <- 2002\n",
    "end_year <- 2023\n",
    "num_years <- end_year - start_year + 1\n",
    "\n",
    "# Initialize an empty vector to store column names\n",
    "column_names <- c()\n",
    "\n",
    "# Generate column names with month numbers prefixed\n",
    "for (year in start_year:end_year) {\n",
    "  for (month in 1:12) {\n",
    "    column_names <- c(column_names, sprintf(\"%02d_%d\", month, year))\n",
    "  }\n",
    "}\n",
    "\n",
    "# Determine the number of columns to replace\n",
    "num_cols_to_replace <- min(length(column_names), ncol(jatim) - 3)\n",
    "\n",
    "# Assign the correct column names starting from the fourth column\n",
    "colnames(jatim)[4:(3 + num_cols_to_replace)] <- column_names[1:num_cols_to_replace]\n"
   ]
  },
  {
   "cell_type": "code",
   "execution_count": 9,
   "id": "3a6d3c10",
   "metadata": {},
   "outputs": [],
   "source": [
    "# Create a matrix from the data without geometry information\n",
    "jatim_rainfall_matrix <- data.matrix(st_drop_geometry(jatim[, -c(1:3)]))\n",
    "\n",
    "# Set row names of the matrix to administrative division names\n",
    "rownames(jatim_rainfall_matrix) <- st_drop_geometry(jatim[, \"NOZONA_LAM\"])[[1]]"
   ]
  },
  {
   "cell_type": "markdown",
   "id": "5c3afb17",
   "metadata": {},
   "source": [
    "## Exploratory Data Analysis"
   ]
  },
  {
   "cell_type": "markdown",
   "id": "47ac990d",
   "metadata": {},
   "source": [
    "JATIM_21 has the highest mean rainfall at 185.82 mm, while JATIM_22 has the lowest mean rainfall at 146.35 mm. In terms of\n",
    "rainfall patterns shown in Figure 2, all three zones exhibit variability and do not demonstrate any clear seasonal pattern."
   ]
  },
  {
   "cell_type": "code",
   "execution_count": 10,
   "id": "bebc620a",
   "metadata": {},
   "outputs": [
    {
     "data": {
      "text/plain": [
       "   Min. 1st Qu.  Median    Mean 3rd Qu.    Max. \n",
       "   0.00   14.57  136.80  152.61  269.90  481.60 "
      ]
     },
     "metadata": {},
     "output_type": "display_data"
    },
    {
     "data": {
      "image/png": "[encoded data removed]",
      "text/plain": [
       "Plot with title \"Histogram of rainfall data in JATIM_18 from 2002 to 2023\""
      ]
     },
     "metadata": {
      "image/png": {
       "height": 420,
       "width": 420
      }
     },
     "output_type": "display_data"
    },
    {
     "data": {
      "image/png": "[encoded data removed]",
      "text/plain": [
       "Plot with title \"Normal Q-Q Plot\""
      ]
     },
     "metadata": {
      "image/png": {
       "height": 420,
       "width": 420
      }
     },
     "output_type": "display_data"
    }
   ],
   "source": [
    "# JATIM_18\n",
    "# Calculate summary statistic \n",
    "summary(jatim_rainfall_matrix[1, ])\n",
    "# Calculate the mean rainfall\n",
    "mu_18 <- mean(jatim_rainfall_matrix[1,])\n",
    "# Calculate the standard deviation of rainfall\n",
    "sdev_18 <- sd(jatim_rainfall_matrix[1,])\n",
    "\n",
    "# Explore the distribution of the data using a histogram\n",
    "hist(jatim_rainfall_matrix[1,], main = \"Histogram of rainfall data in JATIM_18 from 2002 to 2023\", xlab = \"Rainfall (mm)\")\n",
    "# Optionally, add a vertical line at the mean (mu) on the histogram\n",
    "abline(v = mu_18, col = \"red\")\n",
    "\n",
    "# Check the deviation of the distribution from normality using a QQ plot\n",
    "qqnorm(jatim_rainfall_matrix[1,])\n",
    "qqline(jatim_rainfall_matrix[1,], col = \"red\")"
   ]
  },
  {
   "cell_type": "code",
   "execution_count": 11,
   "id": "766432d0",
   "metadata": {},
   "outputs": [
    {
     "data": {
      "text/plain": [
       "   Min. 1st Qu.  Median    Mean 3rd Qu.    Max. \n",
       "   0.00   27.77  179.35  185.82  315.93  557.50 "
      ]
     },
     "metadata": {},
     "output_type": "display_data"
    },
    {
     "data": {
      "image/png": "[encoded data removed]",
      "text/plain": [
       "Plot with title \"Histogram of rainfall data in JATIM_21 from 2002 to 2023\""
      ]
     },
     "metadata": {
      "image/png": {
       "height": 420,
       "width": 420
      }
     },
     "output_type": "display_data"
    },
    {
     "data": {
      "image/png": "[encoded data removed]",
      "text/plain": [
       "Plot with title \"Normal Q-Q Plot\""
      ]
     },
     "metadata": {
      "image/png": {
       "height": 420,
       "width": 420
      }
     },
     "output_type": "display_data"
    }
   ],
   "source": [
    "# JATIM_21---------------------------------------------------------------------\n",
    "# Calculate summary statistic \n",
    "summary(jatim_rainfall_matrix[2, ])\n",
    "# Calculate the mean rainfall\n",
    "mu_21 <- mean(jatim_rainfall_matrix[2,])\n",
    "# Calculate the standard deviation of rainfall\n",
    "sdev_21 <- sd(jatim_rainfall_matrix[2,])\n",
    "\n",
    "# Explore the distribution of the data using a histogram\n",
    "hist(jatim_rainfall_matrix[2,], main = \"Histogram of rainfall data in JATIM_21 from 2002 to 2023\", xlab = \"Rainfall (mm)\")\n",
    "# Optionally, add a vertical line at the mean (mu) on the histogram\n",
    "abline(v = mu_21, col = \"red\")\n",
    "\n",
    "# Check the deviation of the distribution from normality using a QQ plot\n",
    "qqnorm(jatim_rainfall_matrix[2,])\n",
    "qqline(jatim_rainfall_matrix[2,], col = \"red\")"
   ]
  },
  {
   "cell_type": "code",
   "execution_count": 12,
   "id": "2a9b9093",
   "metadata": {},
   "outputs": [
    {
     "data": {
      "text/plain": [
       "   Min. 1st Qu.  Median    Mean 3rd Qu.    Max. \n",
       "   0.00   14.62  114.25  146.35  256.23  452.00 "
      ]
     },
     "metadata": {},
     "output_type": "display_data"
    },
    {
     "data": {
      "image/png": "[encoded data removed]",
      "text/plain": [
       "Plot with title \"Histogram of rainfall data in JATIM_22 from 2002 to 2023\""
      ]
     },
     "metadata": {
      "image/png": {
       "height": 420,
       "width": 420
      }
     },
     "output_type": "display_data"
    },
    {
     "data": {
      "image/png": "[encoded data removed]",
      "text/plain": [
       "Plot with title \"Normal Q-Q Plot\""
      ]
     },
     "metadata": {
      "image/png": {
       "height": 420,
       "width": 420
      }
     },
     "output_type": "display_data"
    }
   ],
   "source": [
    "# JATIM_22----------------------------------------------------------------------\n",
    "# Calculate summary statistic \n",
    "summary(jatim_rainfall_matrix[3, ])\n",
    "# Calculate the mean rainfall\n",
    "mu_22 <- mean(jatim_rainfall_matrix[3,])\n",
    "# Calculate the standard deviation of rainfall\n",
    "sdev_22 <- sd(jatim_rainfall_matrix[3,])\n",
    "\n",
    "# Explore the distribution of the data using a histogram\n",
    "hist(jatim_rainfall_matrix[3,], main = \"Histogram of rainfall data in JATIM_22 from 2002 to 2023\", xlab = \"Rainfall (mm)\")\n",
    "# Optionally, add a vertical line at the mean (mu) on the histogram\n",
    "abline(v = mu_22, col = \"red\")\n",
    "\n",
    "# Check the deviation of the distribution from normality using a QQ plot\n",
    "qqnorm(jatim_rainfall_matrix[3,])\n",
    "qqline(jatim_rainfall_matrix[3,], col = \"red\")"
   ]
  },
  {
   "cell_type": "code",
   "execution_count": 13,
   "id": "bf9ca38b",
   "metadata": {},
   "outputs": [
    {
     "data": {
      "image/png": "[encoded data removed]",
      "text/plain": [
       "plot without title"
      ]
     },
     "metadata": {
      "image/png": {
       "height": 420,
       "width": 420
      }
     },
     "output_type": "display_data"
    }
   ],
   "source": [
    "# Create time series plots for selected seasonal zone in Jawa Timur \n",
    "# JATIM_18\n",
    "ts_data <- ts(jatim_rainfall_matrix[1,])\n",
    "p1 <- autoplot(ts_data) +\n",
    "  labs(x = \"Time (in months)\", y = \"Average rainfall (mm)\") +\n",
    "  ggtitle(\"JATIM_18\")\n",
    "\n",
    "# JATIM_21\n",
    "ts_data <- ts(jatim_rainfall_matrix[2,])\n",
    "p2 <- autoplot(ts_data) +\n",
    "  labs(x = \"Time (in months)\", y = \"Average rainfall (mm)\") +\n",
    "  ggtitle(\"JATIM_21\")\n",
    "\n",
    "# JATIM_22\n",
    "ts_data <- ts(jatim_rainfall_matrix[3,])\n",
    "p3 <- autoplot(ts_data) +\n",
    "  labs(x = \"Time (in months)\", y = \"Average rainfall (mm)\") +\n",
    "  ggtitle(\"JATIM_22\")\n",
    "\n",
    "# Arrange the plots in a grid layout\n",
    "grid.arrange(p1, p2, p3)"
   ]
  },
  {
   "cell_type": "markdown",
   "id": "41d757f9",
   "metadata": {},
   "source": [
    "### Temporal Autocorrelation Analysis\n",
    "\n",
    "The temporal autocorrelation for the whole dataset was calculated using the Product Moment Correlation Coefficient (PMCC). The plot on the right shows the rainfall-time trend from 2002 to 2023, while the plot on the left displays the temporal autocorrelation. Similar to the rainfall pattern in the individual zones, the full dataset exhibits variability over the time period. However, the **correlation coefficient (0.711) indicates a moderately strong positive linear relationship between the current time period (t) and the previous time period (t-1)**. Higher values of the variable at one time point tend to be\n",
    "associated with higher values at the subsequent time point. Therefore, this data could potentially be used to forecast future values, thereby providing valuable insights for future analysis."
   ]
  },
  {
   "cell_type": "code",
   "execution_count": 14,
   "id": "0d9e9a7a",
   "metadata": {},
   "outputs": [
    {
     "name": "stderr",
     "output_type": "stream",
     "text": [
      "\u001b[1m\u001b[22m`geom_smooth()` using formula = 'y ~ x'\n"
     ]
    },
    {
     "data": {
      "image/png": "[encoded data removed]",
      "text/plain": [
       "plot without title"
      ]
     },
     "metadata": {
      "image/png": {
       "height": 420,
       "width": 420
      }
     },
     "output_type": "display_data"
    }
   ],
   "source": [
    "# Analyze and visualize lagged relationships in the mean rainfall data \n",
    "\n",
    "# Calculate the column means for the rainfall data starting from column 2\n",
    "MeanRainfallJatim <- colMeans(jatim_rainfall_matrix[, 2:ncol(jatim_rainfall_matrix)])\n",
    "\n",
    "# Extract the month_year information from the column names\n",
    "month_year <- gsub(\"\\\\..*\", \"\", colnames(jatim_rainfall_matrix)[-1])\n",
    "\n",
    "# Create a lagged dataset based on the mean values\n",
    "Lagged <- data.frame(month_year = month_year[-1],  # Remove the first element as there's no lag for it\n",
    "                     t = MeanRainfallJatim[2:length(MeanRainfallJatim)], \n",
    "                     t_minus_1 = MeanRainfallJatim[1:(length(MeanRainfallJatim)-1)])\n",
    "\n",
    "# Convert month_year to a factor with appropriate levels\n",
    "Lagged$month_year <- factor(Lagged$month_year, levels = unique(Lagged$month_year))\n",
    "\n",
    "# Plotting\n",
    "p1 <- ggplot(Lagged, aes(x = month_year, y = t, group = 1)) + \n",
    "  geom_line() +\n",
    "  labs(x = \"Month_Year\", y = \"t\") +\n",
    "  scale_x_discrete(breaks = Lagged$month_year[c(1, which(as.integer(sub(\"_.*\", \"\", Lagged$month_year)) %% 12 == 0), length(Lagged$month_year))],\n",
    "                   labels = Lagged$month_year[c(1, which(as.integer(sub(\"_.*\", \"\", Lagged$month_year)) %% 12 == 0), length(Lagged$month_year))]) +\n",
    "  theme(axis.text.x = element_text(angle = 45, hjust = 1))\n",
    "\n",
    "p2 <- ggplot(Lagged, aes(x = t, y = t_minus_1)) + \n",
    "  geom_point() + \n",
    "  labs(x = \"t\", y = \"t-1\") +\n",
    "  geom_smooth(method = \"lm\") +\n",
    "  annotate(\"text\", x = 100, y = 400, label = paste(\"r =\", round(cor(Lagged$t, Lagged$t_minus_1), 3))) \n",
    "\n",
    "# Combine plots side by side\n",
    "grid.arrange(p1, p2, nrow = 1)\n"
   ]
  },
  {
   "cell_type": "markdown",
   "id": "4de56445",
   "metadata": {},
   "source": [
    "### Spatial Autocorrelation Analysis"
   ]
  },
  {
   "cell_type": "code",
   "execution_count": 79,
   "id": "7a4c2708",
   "metadata": {},
   "outputs": [
    {
     "name": "stderr",
     "output_type": "stream",
     "text": [
      "st_as_s2(): dropping Z and/or M coordinate\n",
      "\n",
      "st_as_s2(): dropping Z and/or M coordinate\n",
      "\n"
     ]
    },
    {
     "data": {
      "text/plain": [
       "Characteristics of weights list object:\n",
       "Neighbour list object:\n",
       "Number of regions: 3 \n",
       "Number of nonzero links: 4 \n",
       "Percentage nonzero weights: 44.44444 \n",
       "Average number of links: 1.333333 \n",
       "\n",
       "Weights style: W \n",
       "Weights constants summary:\n",
       "  n nn S0  S1   S2\n",
       "W 3  9  3 4.5 13.5"
      ]
     },
     "metadata": {},
     "output_type": "display_data"
    },
    {
     "data": {
      "text/plain": [
       "\n",
       "\n",
       "|    |   |    |\n",
       "|---:|--:|---:|\n",
       "| 0.0|  1| 0.0|\n",
       "| 0.5|  0| 0.5|\n",
       "| 0.0|  1| 0.0|"
      ]
     },
     "metadata": {},
     "output_type": "display_data"
    },
    {
     "ename": "ERROR",
     "evalue": "Error in if (VI < 0) warning(\"Negative variance,\\ndistribution of variable does not meet test assumptions\"): missing value where TRUE/FALSE needed\n",
     "output_type": "error",
     "traceback": [
      "Error in if (VI < 0) warning(\"Negative variance,\\ndistribution of variable does not meet test assumptions\"): missing value where TRUE/FALSE needed\nTraceback:\n",
      "1. moran.test(x = jatim_rainfall_avg, listw = W)"
     ]
    }
   ],
   "source": [
    "# Convert the polygon neighborhood list to a spatial weights matrix\n",
    "W <- nb2listw(poly2nb(jatim))\n",
    "\n",
    "# Display the spatial weights matrix\n",
    "W\n",
    "\n",
    "# Convert the spatial weights matrix to a matrix format\n",
    "kable(listw2mat(W))\n",
    "\n",
    "# Calculate global Moran's I correlation and Monte Carlo Simulation\n",
    "jatim_rainfall_avg <- rowMeans(jatim_rainfall_matrix)\n",
    "moran.test(x = jatim_rainfall_avg, listw = W)\n",
    "moran.mc(x = jatim_rainfall_avg, listw = W, nsim = 20)\n",
    "\n",
    "# Calculate local Moran's I statistics\n",
    "lm <- localmoran(x = rowMeans(jatim_rainfall_matrix), listw = W)\n",
    "lm\n"
   ]
  },
  {
   "cell_type": "markdown",
   "id": "dcbb891b",
   "metadata": {},
   "source": [
    "## Test the stationarity of time series data for selected seasonal zone in Jatim\n",
    "#### Using Augmented Dickey-Fuller (ADF) and Kwiatkowski-Phillips-Schmidt-Shin (KPSS) tests\n",
    "\n",
    "The statistic values in the ADF test for all seasonal zones are greater than the critical values at any significance level. Therefore, the null hypothesis (presence of a unit root or non-stationarity) can be rejected. This indicates that the data in all zones are stationary according to the ADF test. Furthermore, the KPSS results show that the statistic values of all regions are smaller than any critical value at any significance level, and thus, the null hypothesis of the KPSS test (stationarity) cannot be rejected. This also suggests that the data in all zones are stationary according to the KPSS test. Therefore, **since all data is stationary, it can be directly processed using ARIMA and STARIMA without any transformation or differencing.**"
   ]
  },
  {
   "cell_type": "code",
   "execution_count": 17,
   "id": "df21f8c8",
   "metadata": {},
   "outputs": [
    {
     "data": {
      "text/plain": [
       "\n",
       "############################################### \n",
       "# Augmented Dickey-Fuller Test Unit Root Test # \n",
       "############################################### \n",
       "\n",
       "Test regression none \n",
       "\n",
       "\n",
       "Call:\n",
       "lm(formula = z.diff ~ z.lag.1 - 1 + z.diff.lag)\n",
       "\n",
       "Residuals:\n",
       "    Min      1Q  Median      3Q     Max \n",
       "-207.82  -29.89    1.44   71.79  446.44 \n",
       "\n",
       "Coefficients:\n",
       "           Estimate Std. Error t value Pr(>|t|)    \n",
       "z.lag.1    -0.15219    0.03410  -4.464  1.2e-05 ***\n",
       "z.diff.lag -0.04248    0.06162  -0.689    0.491    \n",
       "---\n",
       "Signif. codes:  0 '***' 0.001 '**' 0.01 '*' 0.05 '.' 0.1 ' ' 1\n",
       "\n",
       "Residual standard error: 108.6 on 260 degrees of freedom\n",
       "Multiple R-squared:  0.08381,\tAdjusted R-squared:  0.07676 \n",
       "F-statistic: 11.89 on 2 and 260 DF,  p-value: 1.143e-05\n",
       "\n",
       "\n",
       "Value of test-statistic is: -4.4636 \n",
       "\n",
       "Critical values for test statistics: \n",
       "      1pct  5pct 10pct\n",
       "tau1 -2.58 -1.95 -1.62\n"
      ]
     },
     "metadata": {},
     "output_type": "display_data"
    },
    {
     "data": {
      "text/plain": [
       "\n",
       "####################### \n",
       "# KPSS Unit Root Test # \n",
       "####################### \n",
       "\n",
       "Test is of type: mu with 5 lags. \n",
       "\n",
       "Value of test-statistic is: 0.0767 \n",
       "\n",
       "Critical value for a significance level of: \n",
       "                10pct  5pct 2.5pct  1pct\n",
       "critical values 0.347 0.463  0.574 0.739\n"
      ]
     },
     "metadata": {},
     "output_type": "display_data"
    }
   ],
   "source": [
    "# Time series data for JATIM_18\n",
    "ts_jatim_18 <- ts(jatim_rainfall_matrix[1,])\n",
    "summary(ur.df(ts_jatim_18))  # ADF\n",
    "summary(ur.kpss(ts_jatim_18))  # KPSS"
   ]
  },
  {
   "cell_type": "code",
   "execution_count": 18,
   "id": "8989bbf1",
   "metadata": {},
   "outputs": [
    {
     "data": {
      "text/plain": [
       "\n",
       "############################################### \n",
       "# Augmented Dickey-Fuller Test Unit Root Test # \n",
       "############################################### \n",
       "\n",
       "Test regression none \n",
       "\n",
       "\n",
       "Call:\n",
       "lm(formula = z.diff ~ z.lag.1 - 1 + z.diff.lag)\n",
       "\n",
       "Residuals:\n",
       "    Min      1Q  Median      3Q     Max \n",
       "-239.41  -38.41    3.21   76.20  411.01 \n",
       "\n",
       "Coefficients:\n",
       "           Estimate Std. Error t value Pr(>|t|)    \n",
       "z.lag.1    -0.14168    0.03222  -4.397  1.6e-05 ***\n",
       "z.diff.lag  0.01758    0.06180   0.284    0.776    \n",
       "---\n",
       "Signif. codes:  0 '***' 0.001 '**' 0.01 '*' 0.05 '.' 0.1 ' ' 1\n",
       "\n",
       "Residual standard error: 121.8 on 260 degrees of freedom\n",
       "Multiple R-squared:  0.07167,\tAdjusted R-squared:  0.06453 \n",
       "F-statistic: 10.04 on 2 and 260 DF,  p-value: 6.332e-05\n",
       "\n",
       "\n",
       "Value of test-statistic is: -4.3968 \n",
       "\n",
       "Critical values for test statistics: \n",
       "      1pct  5pct 10pct\n",
       "tau1 -2.58 -1.95 -1.62\n"
      ]
     },
     "metadata": {},
     "output_type": "display_data"
    },
    {
     "data": {
      "text/plain": [
       "\n",
       "####################### \n",
       "# KPSS Unit Root Test # \n",
       "####################### \n",
       "\n",
       "Test is of type: mu with 5 lags. \n",
       "\n",
       "Value of test-statistic is: 0.0397 \n",
       "\n",
       "Critical value for a significance level of: \n",
       "                10pct  5pct 2.5pct  1pct\n",
       "critical values 0.347 0.463  0.574 0.739\n"
      ]
     },
     "metadata": {},
     "output_type": "display_data"
    }
   ],
   "source": [
    "# Time series data for JATIM_21\n",
    "ts_jatim_21 <- ts(jatim_rainfall_matrix[2,])\n",
    "summary(ur.df(ts_jatim_21))  # ADF\n",
    "summary(ur.kpss(ts_jatim_21))  # KPSS"
   ]
  },
  {
   "cell_type": "code",
   "execution_count": 19,
   "id": "199aec76",
   "metadata": {},
   "outputs": [
    {
     "data": {
      "text/plain": [
       "\n",
       "############################################### \n",
       "# Augmented Dickey-Fuller Test Unit Root Test # \n",
       "############################################### \n",
       "\n",
       "Test regression none \n",
       "\n",
       "\n",
       "Call:\n",
       "lm(formula = z.diff ~ z.lag.1 - 1 + z.diff.lag)\n",
       "\n",
       "Residuals:\n",
       "    Min      1Q  Median      3Q     Max \n",
       "-216.62  -31.90    3.98   75.33  347.63 \n",
       "\n",
       "Coefficients:\n",
       "           Estimate Std. Error t value Pr(>|t|)    \n",
       "z.lag.1    -0.15300    0.03285  -4.658  5.1e-06 ***\n",
       "z.diff.lag  0.06457    0.06154   1.049    0.295    \n",
       "---\n",
       "Signif. codes:  0 '***' 0.001 '**' 0.01 '*' 0.05 '.' 0.1 ' ' 1\n",
       "\n",
       "Residual standard error: 101.7 on 260 degrees of freedom\n",
       "Multiple R-squared:  0.0771,\tAdjusted R-squared:   0.07 \n",
       "F-statistic: 10.86 on 2 and 260 DF,  p-value: 2.952e-05\n",
       "\n",
       "\n",
       "Value of test-statistic is: -4.658 \n",
       "\n",
       "Critical values for test statistics: \n",
       "      1pct  5pct 10pct\n",
       "tau1 -2.58 -1.95 -1.62\n"
      ]
     },
     "metadata": {},
     "output_type": "display_data"
    },
    {
     "data": {
      "text/plain": [
       "\n",
       "####################### \n",
       "# KPSS Unit Root Test # \n",
       "####################### \n",
       "\n",
       "Test is of type: mu with 5 lags. \n",
       "\n",
       "Value of test-statistic is: 0.1269 \n",
       "\n",
       "Critical value for a significance level of: \n",
       "                10pct  5pct 2.5pct  1pct\n",
       "critical values 0.347 0.463  0.574 0.739\n"
      ]
     },
     "metadata": {},
     "output_type": "display_data"
    }
   ],
   "source": [
    "# Time series data for JATIM_22\n",
    "ts_jatim_22 <- ts(jatim_rainfall_matrix[3,])\n",
    "summary(ur.df(ts_jatim_22))  # ADF\n",
    "summary(ur.kpss(ts_jatim_22))  # KPSS"
   ]
  },
  {
   "cell_type": "markdown",
   "id": "077ec5d7",
   "metadata": {},
   "source": [
    "## ARIMA"
   ]
  },
  {
   "cell_type": "markdown",
   "id": "24e47b4d",
   "metadata": {},
   "source": [
    "### Jatim 18\n",
    "- Purpose: Analyze and model the time series data for rainfall in JATIM_18\n",
    "- Training set -> jatim_rainfall_matrix [1:258] -> 01_2002 - 06_2023\n",
    "- Test set -> jatim_rainfall_matrix [259:264] -> 07_2023 - 12_2023"
   ]
  },
  {
   "cell_type": "code",
   "execution_count": 36,
   "id": "4c1177c9",
   "metadata": {},
   "outputs": [
    {
     "data": {
      "image/png": "[encoded data removed]",
      "text/plain": [
       "Plot with title \"ACF JATIM_18\""
      ]
     },
     "metadata": {
      "image/png": {
       "height": 420,
       "width": 420
      }
     },
     "output_type": "display_data"
    },
    {
     "data": {
      "image/png": "[encoded data removed]",
      "text/plain": [
       "Plot with title \"PACF ACF JATIM_18\""
      ]
     },
     "metadata": {
      "image/png": {
       "height": 420,
       "width": 420
      }
     },
     "output_type": "display_data"
    }
   ],
   "source": [
    "# Plot the autocorrelation function (ACF) \n",
    "acf(jatim_rainfall_matrix[1,], lag.max=50, main=\"ACF JATIM_18\")\n",
    "\n",
    "# Plot the partial autocorrelation function (PACF)\n",
    "pacf(jatim_rainfall_matrix[1,], lag.max=50, main=\"PACF ACF JATIM_18\")\n"
   ]
  },
  {
   "cell_type": "code",
   "execution_count": 37,
   "id": "ea17dd8c",
   "metadata": {},
   "outputs": [
    {
     "data": {
      "text/plain": [
       "Series: jatim_rainfall_matrix[\"JATIM_18\", 1:258] \n",
       "ARIMA(1,0,0) with non-zero mean \n",
       "\n",
       "Coefficients:\n",
       "         ar1      mean\n",
       "      0.6494  155.6025\n",
       "s.e.  0.0473   18.2736\n",
       "\n",
       "sigma^2 = 10823:  log likelihood = -1563.7\n",
       "AIC=3133.39   AICc=3133.49   BIC=3144.05"
      ]
     },
     "metadata": {},
     "output_type": "display_data"
    },
    {
     "data": {
      "text/plain": [
       "Series: jatim_rainfall_matrix[\"JATIM_18\", 1:258] \n",
       "ARIMA(1,0,1) with non-zero mean \n",
       "\n",
       "Coefficients:\n",
       "         ar1     ma1      mean\n",
       "      0.6168  0.0574  155.5418\n",
       "s.e.  0.0647  0.0706   17.6655\n",
       "\n",
       "sigma^2 = 10837:  log likelihood = -1563.36\n",
       "AIC=3134.72   AICc=3134.88   BIC=3148.93"
      ]
     },
     "metadata": {},
     "output_type": "display_data"
    },
    {
     "data": {
      "text/plain": [
       "Series: jatim_rainfall_matrix[\"JATIM_18\", 1:258] \n",
       "ARIMA(1,0,2) with non-zero mean \n",
       "\n",
       "Coefficients:\n",
       "         ar1     ma1     ma2      mean\n",
       "      0.4904  0.1612  0.2338  155.5374\n",
       "s.e.  0.0977  0.1038  0.0670   17.1621\n",
       "\n",
       "sigma^2 = 10412:  log likelihood = -1557.75\n",
       "AIC=3125.49   AICc=3125.73   BIC=3143.26"
      ]
     },
     "metadata": {},
     "output_type": "display_data"
    },
    {
     "data": {
      "text/plain": [
       "Series: jatim_rainfall_matrix[\"JATIM_18\", 1:258] \n",
       "ARIMA(1,0,0) with non-zero mean \n",
       "\n",
       "Coefficients:\n",
       "         ar1      mean\n",
       "      0.6494  155.6025\n",
       "s.e.  0.0473   18.2736\n",
       "\n",
       "sigma^2 = 10823:  log likelihood = -1563.7\n",
       "AIC=3133.39   AICc=3133.49   BIC=3144.05"
      ]
     },
     "metadata": {},
     "output_type": "display_data"
    }
   ],
   "source": [
    "# AutoARIMA model fitting\n",
    "fit.auto.ar.18 <- auto.arima(jatim_rainfall_matrix[\"JATIM_18\",1:258])\n",
    "fit.auto.ar.18\n",
    "\n",
    "# Model fitting with different orders\n",
    "fit.ar.18.1 <- Arima(jatim_rainfall_matrix[\"JATIM_18\", 1:258], order = c(1, 0, 1))\n",
    "fit.ar.18.2 <- Arima(jatim_rainfall_matrix[\"JATIM_18\", 1:258], order = c(1, 0, 2))\n",
    "\n",
    "# Display model summaries\n",
    "fit.ar.18.1\n",
    "fit.ar.18.2\n",
    "fit.auto.ar.18"
   ]
  },
  {
   "cell_type": "code",
   "execution_count": 38,
   "id": "366c733c",
   "metadata": {},
   "outputs": [
    {
     "data": {
      "text/html": [
       "0.757957419044273"
      ],
      "text/latex": [
       "0.757957419044273"
      ],
      "text/markdown": [
       "0.757957419044273"
      ],
      "text/plain": [
       "[1] 0.7579574"
      ]
     },
     "metadata": {},
     "output_type": "display_data"
    },
    {
     "data": {
      "text/html": [
       "0.741483726379387"
      ],
      "text/latex": [
       "0.741483726379387"
      ],
      "text/markdown": [
       "0.741483726379387"
      ],
      "text/plain": [
       "[1] 0.7414837"
      ]
     },
     "metadata": {},
     "output_type": "display_data"
    },
    {
     "data": {
      "text/html": [
       "0.75895121017178"
      ],
      "text/latex": [
       "0.75895121017178"
      ],
      "text/markdown": [
       "0.75895121017178"
      ],
      "text/plain": [
       "[1] 0.7589512"
      ]
     },
     "metadata": {},
     "output_type": "display_data"
    }
   ],
   "source": [
    "# Calculate Normalized Root Mean Squared Error (NRMSE) for each model\n",
    "NRMSE_fit.ar.18.1 <- NRMSE(res=fit.ar.18.1$residuals, obs=jatim_rainfall_matrix[\"JATIM_18\",1:258])\n",
    "NRMSE_fit.ar.18.2 <- NRMSE(res=fit.ar.18.2$residuals, obs=jatim_rainfall_matrix[\"JATIM_18\",1:258])\n",
    "NRMSE_fit.auto.ar.18 <- NRMSE(res=fit.auto.ar.18$residuals, obs=jatim_rainfall_matrix[\"JATIM_18\",1:258])\n",
    "\n",
    "# Display NRMSE values for each model\n",
    "NRMSE_fit.ar.18.1\n",
    "NRMSE_fit.ar.18.2\n",
    "NRMSE_fit.auto.ar.18"
   ]
  },
  {
   "cell_type": "code",
   "execution_count": 39,
   "id": "44edbc99",
   "metadata": {},
   "outputs": [
    {
     "data": {
      "image/png": "[encoded data removed]",
      "text/plain": [
       "Plot with title \"p values for Ljung-Box statistic\""
      ]
     },
     "metadata": {
      "image/png": {
       "height": 420,
       "width": 420
      }
     },
     "output_type": "display_data"
    }
   ],
   "source": [
    "# Purpose: Check the normality of residuals for diagnostic purposes.\n",
    "# Time series diagnostics for the best ARIMA model -> ARIMA(1,0,2)\n",
    "tsdiag(fit.ar.18.2)"
   ]
  },
  {
   "cell_type": "code",
   "execution_count": 40,
   "id": "7add1806",
   "metadata": {},
   "outputs": [
    {
     "data": {
      "text/plain": [
       "\n",
       "\tBox-Pierce test\n",
       "\n",
       "data:  fit.ar.18.2$residuals\n",
       "X-squared = 0.52912, df = 3, p-value = 0.9124\n"
      ]
     },
     "metadata": {},
     "output_type": "display_data"
    }
   ],
   "source": [
    "# Box-Ljung test for residual autocorrelation\n",
    "# Setting the lag parameter to twice the order of the autoregressive part of the model\n",
    "# This allows the test to capture any residual autocorrelation in the data beyond what is captured by the ARIMA model\n",
    "Box.test(fit.ar.18.2$residuals, lag = 3)"
   ]
  },
  {
   "cell_type": "code",
   "execution_count": 41,
   "id": "9e503943",
   "metadata": {},
   "outputs": [],
   "source": [
    "# Purpose: Perform time series forecasting for rainfall in JATIM_18\n",
    "# Fit the best ARIMA model to the test set of rainfall data\n",
    "pre.Ar.18 <- Arima(jatim_rainfall_matrix[\"JATIM_18\", 259:(ncol(jatim_rainfall_matrix))], model=fit.ar.18.2)"
   ]
  },
  {
   "cell_type": "code",
   "execution_count": 42,
   "id": "e1852281",
   "metadata": {},
   "outputs": [
    {
     "data": {
      "image/png": "[encoded data removed]",
      "text/plain": [
       "Plot with title \"Prediction Rainfall of JATIM_18\""
      ]
     },
     "metadata": {
      "image/png": {
       "height": 420,
       "width": 420
      }
     },
     "output_type": "display_data"
    }
   ],
   "source": [
    "# Plot the observed and fitted values from the ARIMA model\n",
    "matplot(cbind(pre.Ar.18$fitted, pre.Ar.18$x), type=\"l\", main=\"Prediction Rainfall of JATIM_18\")"
   ]
  },
  {
   "cell_type": "code",
   "execution_count": 43,
   "id": "b51e4e02",
   "metadata": {},
   "outputs": [
    {
     "data": {
      "text/html": [
       "1.49423723807034"
      ],
      "text/latex": [
       "1.49423723807034"
      ],
      "text/markdown": [
       "1.49423723807034"
      ],
      "text/plain": [
       "[1] 1.494237"
      ]
     },
     "metadata": {},
     "output_type": "display_data"
    }
   ],
   "source": [
    "# Calculate the Normalized Root Mean Squared Error (NRMSE) for the forecasted values\n",
    "NRMSE_fit.18 <- NRMSE(res=pre.Ar.18$residuals, obs=jatim_rainfall_matrix[\"JATIM_18\", 259:264])\n",
    "NRMSE_fit.18"
   ]
  },
  {
   "cell_type": "markdown",
   "id": "bee358a6",
   "metadata": {},
   "source": [
    "### Jatim 21\n",
    "- Purpose: Analyze and model the time series data for rainfall in JATIM_21\n",
    "- Training set -> jatim_rainfall_matrix [1:258] -> 01_2002 - 06_2023\n",
    "- Test set -> jatim_rainfall_matrix [259:264] -> 07_2023 - 12_2023"
   ]
  },
  {
   "cell_type": "code",
   "execution_count": 44,
   "id": "26e97f67",
   "metadata": {},
   "outputs": [
    {
     "data": {
      "image/png": "[encoded data removed]",
      "text/plain": [
       "Plot with title \"ACF JATIM_21\""
      ]
     },
     "metadata": {
      "image/png": {
       "height": 420,
       "width": 420
      }
     },
     "output_type": "display_data"
    },
    {
     "data": {
      "image/png": "[encoded data removed]",
      "text/plain": [
       "Plot with title \"PACF ACF JATIM_21\""
      ]
     },
     "metadata": {
      "image/png": {
       "height": 420,
       "width": 420
      }
     },
     "output_type": "display_data"
    }
   ],
   "source": [
    "# Plot the autocorrelation function (ACF) \n",
    "acf(jatim_rainfall_matrix[2,], lag.max=50, main=\"ACF JATIM_21\")\n",
    "\n",
    "# Plot the partial autocorrelation function (PACF)\n",
    "pacf(jatim_rainfall_matrix[2,], lag.max=50, main=\"PACF ACF JATIM_21\")"
   ]
  },
  {
   "cell_type": "code",
   "execution_count": 45,
   "id": "3a92547c",
   "metadata": {},
   "outputs": [
    {
     "data": {
      "text/plain": [
       "Series: jatim_rainfall_matrix[\"JATIM_21\", 1:258] \n",
       "ARIMA(5,0,1) with non-zero mean \n",
       "\n",
       "Coefficients:\n",
       "         ar1      ar2      ar3      ar4      ar5      ma1      mean\n",
       "      0.8916  -0.1642  -0.0171  -0.1239  -0.1956  -0.4052  188.3559\n",
       "s.e.  0.1117   0.0998   0.0828   0.0821   0.0742   0.1011    6.0325\n",
       "\n",
       "sigma^2 = 9945:  log likelihood = -1550.9\n",
       "AIC=3117.81   AICc=3118.39   BIC=3146.23"
      ]
     },
     "metadata": {},
     "output_type": "display_data"
    },
    {
     "data": {
      "text/plain": [
       "Series: jatim_rainfall_matrix[\"JATIM_21\", 1:258] \n",
       "ARIMA(1,0,2) with non-zero mean \n",
       "\n",
       "Coefficients:\n",
       "         ar1     ma1     ma2      mean\n",
       "      0.5096  0.1908  0.1556  188.9671\n",
       "s.e.  0.0927  0.1000  0.0693   19.3766\n",
       "\n",
       "sigma^2 = 13196:  log likelihood = -1588.3\n",
       "AIC=3186.6   AICc=3186.84   BIC=3204.36"
      ]
     },
     "metadata": {},
     "output_type": "display_data"
    },
    {
     "data": {
      "text/plain": [
       "Series: jatim_rainfall_matrix[\"JATIM_21\", 1:258] \n",
       "ARIMA(2,0,2) with non-zero mean \n",
       "\n",
       "Coefficients:\n",
       "         ar1      ar2      ma1     ma2     mean\n",
       "      1.7286  -0.9984  -1.6852  0.9996  187.935\n",
       "s.e.  0.0025   0.0015   0.0444  0.0527    6.452\n",
       "\n",
       "sigma^2 = 8062:  log likelihood = -1529.57\n",
       "AIC=3071.14   AICc=3071.48   BIC=3092.46"
      ]
     },
     "metadata": {},
     "output_type": "display_data"
    },
    {
     "data": {
      "text/plain": [
       "Series: jatim_rainfall_matrix[\"JATIM_21\", 1:258] \n",
       "ARIMA(5,0,2) with non-zero mean \n",
       "\n",
       "Coefficients:\n",
       "         ar1      ar2     ar3      ar4     ar5      ma1     ma2      mean\n",
       "      1.9853  -1.4523  0.3678  -0.1718  0.0918  -1.7237  0.9987  187.5944\n",
       "s.e.  0.0625   0.1379  0.1629   0.1379  0.0629   0.0178  0.0233    8.2235\n",
       "\n",
       "sigma^2 = 7682:  log likelihood = -1521.24\n",
       "AIC=3060.47   AICc=3061.2   BIC=3092.45"
      ]
     },
     "metadata": {},
     "output_type": "display_data"
    },
    {
     "name": "stderr",
     "output_type": "stream",
     "text": [
      "Warning message in sqrt(diag(x$var.coef)):\n",
      "\"NaNs produced\"\n"
     ]
    },
    {
     "data": {
      "text/plain": [
       "Series: jatim_rainfall_matrix[\"JATIM_21\", 1:258] \n",
       "ARIMA(6,0,2) with non-zero mean \n",
       "\n",
       "Coefficients:\n",
       "         ar1      ar2     ar3      ar4      ar5     ar6     ma1     ma2\n",
       "      1.8295  -1.0546  0.1774  -0.0896  -0.1286  0.2043  -1.365  0.4658\n",
       "s.e.  0.0590      NaN  0.1275   0.1434   0.1325  0.0563     NaN     NaN\n",
       "          mean\n",
       "      188.4637\n",
       "s.e.    9.7373\n",
       "\n",
       "sigma^2 = 9689:  log likelihood = -1546.65\n",
       "AIC=3113.3   AICc=3114.19   BIC=3148.83"
      ]
     },
     "metadata": {},
     "output_type": "display_data"
    },
    {
     "data": {
      "text/plain": [
       "Series: jatim_rainfall_matrix[\"JATIM_21\", 1:258] \n",
       "ARIMA(1,0,1) with non-zero mean \n",
       "\n",
       "Coefficients:\n",
       "         ar1     ma1      mean\n",
       "      0.5918  0.1297  188.9884\n",
       "s.e.  0.0679  0.0760   19.7021\n",
       "\n",
       "sigma^2 = 13390:  log likelihood = -1590.66\n",
       "AIC=3189.33   AICc=3189.49   BIC=3203.54"
      ]
     },
     "metadata": {},
     "output_type": "display_data"
    },
    {
     "data": {
      "text/plain": [
       "Series: jatim_rainfall_matrix[\"JATIM_21\", 1:258] \n",
       "ARIMA(2,0,1) with non-zero mean \n",
       "\n",
       "Coefficients:\n",
       "         ar1      ar2      ma1      mean\n",
       "      1.5146  -0.7199  -0.8009  188.4185\n",
       "s.e.  0.0505   0.0436   0.0459    6.4668\n",
       "\n",
       "sigma^2 = 11320:  log likelihood = -1568.8\n",
       "AIC=3147.59   AICc=3147.83   BIC=3165.36"
      ]
     },
     "metadata": {},
     "output_type": "display_data"
    },
    {
     "data": {
      "text/plain": [
       "Series: jatim_rainfall_matrix[\"JATIM_21\", 1:258] \n",
       "ARIMA(3,0,1) with non-zero mean \n",
       "\n",
       "Coefficients:\n",
       "         ar1      ar2      ar3      ma1      mean\n",
       "      1.2635  -0.2943  -0.2731  -0.6990  188.4152\n",
       "s.e.  0.0743   0.1065   0.0639   0.0525    6.3762\n",
       "\n",
       "sigma^2 = 10664:  log likelihood = -1560.72\n",
       "AIC=3133.45   AICc=3133.78   BIC=3154.77"
      ]
     },
     "metadata": {},
     "output_type": "display_data"
    },
    {
     "data": {
      "text/plain": [
       "Series: jatim_rainfall_matrix[\"JATIM_21\", 1:258] \n",
       "ARIMA(4,0,1) with non-zero mean \n",
       "\n",
       "Coefficients:\n",
       "         ar1      ar2      ar3      ar4      ma1      mean\n",
       "      1.0785  -0.2563  -0.0015  -0.2641  -0.5621  188.3639\n",
       "s.e.  0.0836   0.0985   0.0909   0.0665   0.0676    6.1793\n",
       "\n",
       "sigma^2 = 10146:  log likelihood = -1553.93\n",
       "AIC=3121.85   AICc=3122.3   BIC=3146.72"
      ]
     },
     "metadata": {},
     "output_type": "display_data"
    },
    {
     "data": {
      "text/plain": [
       "Series: jatim_rainfall_matrix[\"JATIM_21\", 1:258] \n",
       "ARIMA(6,0,1) with non-zero mean \n",
       "\n",
       "Coefficients:\n",
       "         ar1      ar2      ar3      ar4      ar5      ar6      ma1      mean\n",
       "      0.6487  -0.0566  -0.0039  -0.1307  -0.1543  -0.1581  -0.1769  188.4127\n",
       "s.e.  0.1909   0.1203   0.0733   0.0722   0.0758   0.0851   0.1870    5.9132\n",
       "\n",
       "sigma^2 = 9870:  log likelihood = -1549.46\n",
       "AIC=3116.91   AICc=3117.64   BIC=3148.89"
      ]
     },
     "metadata": {},
     "output_type": "display_data"
    },
    {
     "data": {
      "text/plain": [
       "Series: jatim_rainfall_matrix[\"JATIM_21\", 1:258] \n",
       "ARIMA(5,0,1) with non-zero mean \n",
       "\n",
       "Coefficients:\n",
       "         ar1      ar2      ar3      ar4      ar5      ma1      mean\n",
       "      0.8916  -0.1642  -0.0171  -0.1239  -0.1956  -0.4052  188.3559\n",
       "s.e.  0.1117   0.0998   0.0828   0.0821   0.0742   0.1011    6.0325\n",
       "\n",
       "sigma^2 = 9945:  log likelihood = -1550.9\n",
       "AIC=3117.81   AICc=3118.39   BIC=3146.23"
      ]
     },
     "metadata": {},
     "output_type": "display_data"
    }
   ],
   "source": [
    "# AutoARIMA model fitting\n",
    "fit.auto.ar.21 <- auto.arima(jatim_rainfall_matrix[\"JATIM_21\",1:258])\n",
    "fit.auto.ar.21\n",
    "\n",
    "# Model fitting with different orders\n",
    "fit.ar.21.1 <- Arima(jatim_rainfall_matrix[\"JATIM_21\", 1:258], order = c(1, 0, 2))\n",
    "fit.ar.21.2 <- Arima(jatim_rainfall_matrix[\"JATIM_21\", 1:258], order = c(2, 0, 2))\n",
    "fit.ar.21.3 <- Arima(jatim_rainfall_matrix[\"JATIM_21\", 1:258], order = c(5, 0, 2))\n",
    "fit.ar.21.4 <- Arima(jatim_rainfall_matrix[\"JATIM_21\", 1:258], order = c(6, 0, 2))\n",
    "fit.ar.21.5 <- Arima(jatim_rainfall_matrix[\"JATIM_21\", 1:258], order = c(1, 0, 1))\n",
    "fit.ar.21.6 <- Arima(jatim_rainfall_matrix[\"JATIM_21\", 1:258], order = c(2, 0, 1))\n",
    "fit.ar.21.7 <- Arima(jatim_rainfall_matrix[\"JATIM_21\", 1:258], order = c(3, 0, 1))\n",
    "fit.ar.21.8 <- Arima(jatim_rainfall_matrix[\"JATIM_21\", 1:258], order = c(4, 0, 1))\n",
    "fit.ar.21.9 <- Arima(jatim_rainfall_matrix[\"JATIM_21\", 1:258], order = c(6, 0, 1))\n",
    "\n",
    "# Display model summaries\n",
    "fit.ar.21.1\n",
    "fit.ar.21.2\n",
    "fit.ar.21.3\n",
    "fit.ar.21.4\n",
    "fit.ar.21.5\n",
    "fit.ar.21.6\n",
    "fit.ar.21.7\n",
    "fit.ar.21.8\n",
    "fit.ar.21.9\n",
    "fit.auto.ar.21"
   ]
  },
  {
   "cell_type": "code",
   "execution_count": 46,
   "id": "1d091965",
   "metadata": {},
   "outputs": [
    {
     "data": {
      "text/html": [
       "0.736671785984725"
      ],
      "text/latex": [
       "0.736671785984725"
      ],
      "text/markdown": [
       "0.736671785984725"
      ],
      "text/plain": [
       "[1] 0.7366718"
      ]
     },
     "metadata": {},
     "output_type": "display_data"
    },
    {
     "data": {
      "text/html": [
       "0.574669093210244"
      ],
      "text/latex": [
       "0.574669093210244"
      ],
      "text/markdown": [
       "0.574669093210244"
      ],
      "text/plain": [
       "[1] 0.5746691"
      ]
     },
     "metadata": {},
     "output_type": "display_data"
    },
    {
     "data": {
      "text/html": [
       "0.557633901418636"
      ],
      "text/latex": [
       "0.557633901418636"
      ],
      "text/markdown": [
       "0.557633901418636"
      ],
      "text/plain": [
       "[1] 0.5576339"
      ]
     },
     "metadata": {},
     "output_type": "display_data"
    },
    {
     "data": {
      "text/html": [
       "0.624992284932403"
      ],
      "text/latex": [
       "0.624992284932403"
      ],
      "text/markdown": [
       "0.624992284932403"
      ],
      "text/plain": [
       "[1] 0.6249923"
      ]
     },
     "metadata": {},
     "output_type": "display_data"
    },
    {
     "data": {
      "text/html": [
       "0.743514000558653"
      ],
      "text/latex": [
       "0.743514000558653"
      ],
      "text/markdown": [
       "0.743514000558653"
      ],
      "text/plain": [
       "[1] 0.743514"
      ]
     },
     "metadata": {},
     "output_type": "display_data"
    },
    {
     "data": {
      "text/html": [
       "0.682294391001874"
      ],
      "text/latex": [
       "0.682294391001874"
      ],
      "text/markdown": [
       "0.682294391001874"
      ],
      "text/plain": [
       "[1] 0.6822944"
      ]
     },
     "metadata": {},
     "output_type": "display_data"
    },
    {
     "data": {
      "text/html": [
       "0.660939391910219"
      ],
      "text/latex": [
       "0.660939391910219"
      ],
      "text/markdown": [
       "0.660939391910219"
      ],
      "text/plain": [
       "[1] 0.6609394"
      ]
     },
     "metadata": {},
     "output_type": "display_data"
    },
    {
     "data": {
      "text/html": [
       "0.643400723079202"
      ],
      "text/latex": [
       "0.643400723079202"
      ],
      "text/markdown": [
       "0.643400723079202"
      ],
      "text/plain": [
       "[1] 0.6434007"
      ]
     },
     "metadata": {},
     "output_type": "display_data"
    },
    {
     "data": {
      "text/html": [
       "0.632071309341108"
      ],
      "text/latex": [
       "0.632071309341108"
      ],
      "text/markdown": [
       "0.632071309341108"
      ],
      "text/plain": [
       "[1] 0.6320713"
      ]
     },
     "metadata": {},
     "output_type": "display_data"
    },
    {
     "data": {
      "text/html": [
       "0.635724716249406"
      ],
      "text/latex": [
       "0.635724716249406"
      ],
      "text/markdown": [
       "0.635724716249406"
      ],
      "text/plain": [
       "[1] 0.6357247"
      ]
     },
     "metadata": {},
     "output_type": "display_data"
    }
   ],
   "source": [
    "# Calculate Normalized Root Mean Squared Error (NRMSE) for each model\n",
    "NRMSE_fit.ar.21.1 <- NRMSE(res=fit.ar.21.1$residuals, obs=jatim_rainfall_matrix[\"JATIM_21\",1:258])\n",
    "NRMSE_fit.ar.21.2 <- NRMSE(res=fit.ar.21.2$residuals, obs=jatim_rainfall_matrix[\"JATIM_21\",1:258])\n",
    "NRMSE_fit.ar.21.3 <- NRMSE(res=fit.ar.21.3$residuals, obs=jatim_rainfall_matrix[\"JATIM_21\",1:258])\n",
    "NRMSE_fit.ar.21.4 <- NRMSE(res=fit.ar.21.4$residuals, obs=jatim_rainfall_matrix[\"JATIM_21\",1:258])\n",
    "NRMSE_fit.ar.21.5 <- NRMSE(res=fit.ar.21.5$residuals, obs=jatim_rainfall_matrix[\"JATIM_21\",1:258])\n",
    "NRMSE_fit.ar.21.6 <- NRMSE(res=fit.ar.21.6$residuals, obs=jatim_rainfall_matrix[\"JATIM_21\",1:258])\n",
    "NRMSE_fit.ar.21.7 <- NRMSE(res=fit.ar.21.7$residuals, obs=jatim_rainfall_matrix[\"JATIM_21\",1:258])\n",
    "NRMSE_fit.ar.21.8 <- NRMSE(res=fit.ar.21.8$residuals, obs=jatim_rainfall_matrix[\"JATIM_21\",1:258])\n",
    "NRMSE_fit.ar.21.9 <- NRMSE(res=fit.ar.21.9$residuals, obs=jatim_rainfall_matrix[\"JATIM_21\",1:258])\n",
    "NRMSE_fit.auto.ar.21 <- NRMSE(res=fit.auto.ar.21$residuals, obs=jatim_rainfall_matrix[\"JATIM_21\",1:258])\n",
    "\n",
    "# Display NRMSE values for each model\n",
    "NRMSE_fit.ar.21.1\n",
    "NRMSE_fit.ar.21.2\n",
    "NRMSE_fit.ar.21.3\n",
    "NRMSE_fit.ar.21.4\n",
    "NRMSE_fit.ar.21.5\n",
    "NRMSE_fit.ar.21.6\n",
    "NRMSE_fit.ar.21.7\n",
    "NRMSE_fit.ar.21.8\n",
    "NRMSE_fit.ar.21.9\n",
    "NRMSE_fit.auto.ar.21\n"
   ]
  },
  {
   "cell_type": "code",
   "execution_count": 47,
   "id": "4bfbc9d7",
   "metadata": {},
   "outputs": [
    {
     "data": {
      "image/png": "[encoded data removed]",
      "text/plain": [
       "Plot with title \"p values for Ljung-Box statistic\""
      ]
     },
     "metadata": {
      "image/png": {
       "height": 420,
       "width": 420
      }
     },
     "output_type": "display_data"
    }
   ],
   "source": [
    "# Purpose: Check the normality of residuals for diagnostic purposes.\n",
    "# Time series diagnostics for the best ARIMA model -> ARIMA(5,0,2)\n",
    "tsdiag(fit.ar.21.3)"
   ]
  },
  {
   "cell_type": "code",
   "execution_count": 48,
   "id": "b1dc6986",
   "metadata": {},
   "outputs": [
    {
     "data": {
      "text/plain": [
       "\n",
       "\tBox-Pierce test\n",
       "\n",
       "data:  fit.ar.21.3$residuals\n",
       "X-squared = 5.1087, df = 10, p-value = 0.8838\n"
      ]
     },
     "metadata": {},
     "output_type": "display_data"
    }
   ],
   "source": [
    "# Box-Ljung test for residual autocorrelation\n",
    "# Setting the lag parameter to twice the order of the autoregressive part of the model\n",
    "# This allows the test to capture any residual autocorrelation in the data beyond what is captured by the ARIMA model\n",
    "Box.test(fit.ar.21.3$residuals, lag = 10)"
   ]
  },
  {
   "cell_type": "code",
   "execution_count": 49,
   "id": "b30621a5",
   "metadata": {},
   "outputs": [],
   "source": [
    "# Purpose: Perform time series forecasting for rainfall in JATIM_21\n",
    "# Fit the best ARIMA model to the test set of rainfall data\n",
    "pre.Ar.21 <- Arima(jatim_rainfall_matrix[\"JATIM_21\", 259:(ncol(jatim_rainfall_matrix))], model=fit.ar.21.3)"
   ]
  },
  {
   "cell_type": "code",
   "execution_count": 50,
   "id": "157e4d6a",
   "metadata": {},
   "outputs": [
    {
     "data": {
      "image/png": "[encoded data removed]",
      "text/plain": [
       "Plot with title \"Prediction Rainfall of JATIM_21\""
      ]
     },
     "metadata": {
      "image/png": {
       "height": 420,
       "width": 420
      }
     },
     "output_type": "display_data"
    }
   ],
   "source": [
    "# Plot the observed and fitted values from the ARIMA model\n",
    "matplot(cbind(pre.Ar.21$fitted, pre.Ar.21$x), type=\"l\", main=\"Prediction Rainfall of JATIM_21\")"
   ]
  },
  {
   "cell_type": "code",
   "execution_count": 51,
   "id": "231368c1",
   "metadata": {},
   "outputs": [
    {
     "data": {
      "text/html": [
       "0.950474902030665"
      ],
      "text/latex": [
       "0.950474902030665"
      ],
      "text/markdown": [
       "0.950474902030665"
      ],
      "text/plain": [
       "[1] 0.9504749"
      ]
     },
     "metadata": {},
     "output_type": "display_data"
    }
   ],
   "source": [
    "# Calculate the Normalized Root Mean Squared Error (NRMSE) for the forecasted values\n",
    "NRMSE_fit.21 <- NRMSE(res=pre.Ar.21$residuals, obs=jatim_rainfall_matrix[\"JATIM_21\", 259:264])\n",
    "NRMSE_fit.21"
   ]
  },
  {
   "cell_type": "markdown",
   "id": "a50da36d",
   "metadata": {},
   "source": [
    "### Jatim 22\n",
    "- Purpose: Analyze and model the time series data for rainfall in JATIM_22\n",
    "- Training set -> jatim_rainfall_matrix [1:258] -> 01_2002 - 06_2023\n",
    "- Test set -> jatim_rainfall_matrix [259:264] -> 07_2023 - 12_2023"
   ]
  },
  {
   "cell_type": "code",
   "execution_count": 52,
   "id": "a96f8ca4",
   "metadata": {},
   "outputs": [
    {
     "data": {
      "image/png": "[encoded data removed]",
      "text/plain": [
       "Plot with title \"ACF JATIM_22\""
      ]
     },
     "metadata": {
      "image/png": {
       "height": 420,
       "width": 420
      }
     },
     "output_type": "display_data"
    },
    {
     "data": {
      "image/png": "[encoded data removed]",
      "text/plain": [
       "Plot with title \"PACF ACF JATIM_22\""
      ]
     },
     "metadata": {
      "image/png": {
       "height": 420,
       "width": 420
      }
     },
     "output_type": "display_data"
    }
   ],
   "source": [
    "# Plot the autocorrelation function (ACF) \n",
    "acf(jatim_rainfall_matrix[3,], lag.max=50, main=\"ACF JATIM_22\")\n",
    "\n",
    "# Plot the partial autocorrelation function (PACF)\n",
    "pacf(jatim_rainfall_matrix[3,], lag.max=50, main=\"PACF ACF JATIM_22\")\n"
   ]
  },
  {
   "cell_type": "code",
   "execution_count": 53,
   "id": "57e03ecb",
   "metadata": {},
   "outputs": [
    {
     "data": {
      "text/plain": [
       "Series: jatim_rainfall_matrix[\"JATIM_22\", 1:258] \n",
       "ARIMA(5,0,1) with non-zero mean \n",
       "\n",
       "Coefficients:\n",
       "         ar1      ar2      ar3      ar4      ar5      ma1      mean\n",
       "      0.9286  -0.1551  -0.0825  -0.1116  -0.1597  -0.3983  148.2399\n",
       "s.e.  0.1236   0.1073   0.0853   0.0841   0.0767   0.1131    5.3958\n",
       "\n",
       "sigma^2 = 7059:  log likelihood = -1506.7\n",
       "AIC=3029.41   AICc=3029.99   BIC=3057.83"
      ]
     },
     "metadata": {},
     "output_type": "display_data"
    },
    {
     "data": {
      "text/plain": [
       "Series: jatim_rainfall_matrix[\"JATIM_22\", 1:258] \n",
       "ARIMA(1,0,2) with non-zero mean \n",
       "\n",
       "Coefficients:\n",
       "         ar1     ma1     ma2      mean\n",
       "      0.5122  0.2177  0.2175  149.3611\n",
       "s.e.  0.0868  0.0923  0.0695   17.3589\n",
       "\n",
       "sigma^2 = 9227:  log likelihood = -1542.21\n",
       "AIC=3094.41   AICc=3094.65   BIC=3112.18"
      ]
     },
     "metadata": {},
     "output_type": "display_data"
    },
    {
     "data": {
      "text/plain": [
       "Series: jatim_rainfall_matrix[\"JATIM_22\", 1:258] \n",
       "ARIMA(2,0,2) with non-zero mean \n",
       "\n",
       "Coefficients:\n",
       "         ar1      ar2      ma1     ma2      mean\n",
       "      1.7311  -0.9994  -1.7053  1.0000  147.5303\n",
       "s.e.  0.0013   0.0007   0.0185  0.0198    5.0880\n",
       "\n",
       "sigma^2 = 5643:  log likelihood = -1483.55\n",
       "AIC=2979.1   AICc=2979.44   BIC=3000.42"
      ]
     },
     "metadata": {},
     "output_type": "display_data"
    },
    {
     "name": "stderr",
     "output_type": "stream",
     "text": [
      "Warning message in sqrt(diag(x$var.coef)):\n",
      "\"NaNs produced\"\n"
     ]
    },
    {
     "data": {
      "text/plain": [
       "Series: jatim_rainfall_matrix[\"JATIM_22\", 1:258] \n",
       "ARIMA(4,0,2) with non-zero mean \n",
       "\n",
       "Coefficients:\n",
       "         ar1      ar2     ar3     ar4      ma1     ma2      mean\n",
       "      2.0054  -1.4570  0.2440  0.0173  -1.7228  0.9971  147.4346\n",
       "s.e.  0.0618   0.1391  0.1341  0.0560      NaN     NaN    6.4512\n",
       "\n",
       "sigma^2 = 5330:  log likelihood = -1474.29\n",
       "AIC=2964.57   AICc=2965.15   BIC=2992.99"
      ]
     },
     "metadata": {},
     "output_type": "display_data"
    },
    {
     "data": {
      "text/plain": [
       "Series: jatim_rainfall_matrix[\"JATIM_22\", 1:258] \n",
       "ARIMA(5,0,2) with non-zero mean \n",
       "\n",
       "Coefficients:\n",
       "         ar1     ar2      ar3      ar4      ar5     ma1      ma2      mean\n",
       "      0.1724  0.7041  -0.2688  -0.2194  -0.2726  0.3855  -0.4469  148.2491\n",
       "s.e.  0.1039  0.0929   0.0945   0.0653   0.0686  0.0958   0.0816    5.5053\n",
       "\n",
       "sigma^2 = 7039:  log likelihood = -1505.85\n",
       "AIC=3029.71   AICc=3030.44   BIC=3061.69"
      ]
     },
     "metadata": {},
     "output_type": "display_data"
    },
    {
     "name": "stderr",
     "output_type": "stream",
     "text": [
      "Warning message in sqrt(diag(x$var.coef)):\n",
      "\"NaNs produced\"\n"
     ]
    },
    {
     "data": {
      "text/plain": [
       "Series: jatim_rainfall_matrix[\"JATIM_22\", 1:258] \n",
       "ARIMA(6,0,2) with non-zero mean \n",
       "\n",
       "Coefficients:\n",
       "         ar1      ar2     ar3     ar4      ar5     ar6      ma1     ma2\n",
       "      2.0118  -1.4607  0.2732  0.0376  -0.0934  0.0744  -1.7372  0.9985\n",
       "s.e.  0.0628   0.1403  0.1670  0.1669   0.1402  0.0626      NaN     NaN\n",
       "          mean\n",
       "      147.3386\n",
       "s.e.    7.3838\n",
       "\n",
       "sigma^2 = 5314:  log likelihood = -1473.25\n",
       "AIC=2966.5   AICc=2967.39   BIC=3002.03"
      ]
     },
     "metadata": {},
     "output_type": "display_data"
    },
    {
     "data": {
      "text/plain": [
       "Series: jatim_rainfall_matrix[\"JATIM_22\", 1:258] \n",
       "ARIMA(1,0,1) with non-zero mean \n",
       "\n",
       "Coefficients:\n",
       "         ar1     ma1      mean\n",
       "      0.6133  0.1434  149.3657\n",
       "s.e.  0.0635  0.0698   17.7421\n",
       "\n",
       "sigma^2 = 9523:  log likelihood = -1546.73\n",
       "AIC=3101.47   AICc=3101.62   BIC=3115.68"
      ]
     },
     "metadata": {},
     "output_type": "display_data"
    },
    {
     "data": {
      "text/plain": [
       "Series: jatim_rainfall_matrix[\"JATIM_22\", 1:258] \n",
       "ARIMA(2,0,1) with non-zero mean \n",
       "\n",
       "Coefficients:\n",
       "         ar1      ar2      ma1      mean\n",
       "      1.5247  -0.7407  -0.7681  148.4022\n",
       "s.e.  0.0487   0.0426   0.0439    5.9647\n",
       "\n",
       "sigma^2 = 7889:  log likelihood = -1522.25\n",
       "AIC=3054.51   AICc=3054.75   BIC=3072.27"
      ]
     },
     "metadata": {},
     "output_type": "display_data"
    },
    {
     "data": {
      "text/plain": [
       "Series: jatim_rainfall_matrix[\"JATIM_22\", 1:258] \n",
       "ARIMA(3,0,1) with non-zero mean \n",
       "\n",
       "Coefficients:\n",
       "         ar1      ar2      ar3      ma1      mean\n",
       "      1.2499  -0.2760  -0.2952  -0.6573  148.3411\n",
       "s.e.  0.0745   0.1071   0.0639   0.0539    5.6966\n",
       "\n",
       "sigma^2 = 7358:  log likelihood = -1512.92\n",
       "AIC=3037.85   AICc=3038.18   BIC=3059.16"
      ]
     },
     "metadata": {},
     "output_type": "display_data"
    },
    {
     "data": {
      "text/plain": [
       "Series: jatim_rainfall_matrix[\"JATIM_22\", 1:258] \n",
       "ARIMA(4,0,1) with non-zero mean \n",
       "\n",
       "Coefficients:\n",
       "         ar1      ar2      ar3     ar4      ma1      mean\n",
       "      1.0881  -0.2316  -0.0786  -0.217  -0.5376  148.2779\n",
       "s.e.  0.0898   0.1026   0.0924   0.070   0.0736    5.5245\n",
       "\n",
       "sigma^2 = 7141:  log likelihood = -1508.65\n",
       "AIC=3031.29   AICc=3031.74   BIC=3056.16"
      ]
     },
     "metadata": {},
     "output_type": "display_data"
    },
    {
     "data": {
      "text/plain": [
       "Series: jatim_rainfall_matrix[\"JATIM_22\", 1:258] \n",
       "ARIMA(6,0,1) with non-zero mean \n",
       "\n",
       "Coefficients:\n",
       "         ar1      ar2      ar3      ar4      ar5      ar6      ma1      mean\n",
       "      0.7643  -0.0771  -0.0749  -0.1244  -0.1257  -0.1074  -0.2432  148.2698\n",
       "s.e.  0.1865   0.1253   0.0787   0.0777   0.0808   0.0816   0.1794    5.2696\n",
       "\n",
       "sigma^2 = 7045:  log likelihood = -1505.95\n",
       "AIC=3029.91   AICc=3030.63   BIC=3061.88"
      ]
     },
     "metadata": {},
     "output_type": "display_data"
    },
    {
     "data": {
      "text/plain": [
       "Series: jatim_rainfall_matrix[\"JATIM_22\", 1:258] \n",
       "ARIMA(5,0,1) with non-zero mean \n",
       "\n",
       "Coefficients:\n",
       "         ar1      ar2      ar3      ar4      ar5      ma1      mean\n",
       "      0.9286  -0.1551  -0.0825  -0.1116  -0.1597  -0.3983  148.2399\n",
       "s.e.  0.1236   0.1073   0.0853   0.0841   0.0767   0.1131    5.3958\n",
       "\n",
       "sigma^2 = 7059:  log likelihood = -1506.7\n",
       "AIC=3029.41   AICc=3029.99   BIC=3057.83"
      ]
     },
     "metadata": {},
     "output_type": "display_data"
    }
   ],
   "source": [
    "# AutoARIMA model fitting\n",
    "fit.auto.ar.22 <- auto.arima(jatim_rainfall_matrix[\"JATIM_22\",1:258])\n",
    "fit.auto.ar.22\n",
    "\n",
    "# Model fitting with different orders\n",
    "fit.ar.22.1 <- Arima(jatim_rainfall_matrix[\"JATIM_22\", 1:258], order = c(1, 0, 2))\n",
    "fit.ar.22.2 <- Arima(jatim_rainfall_matrix[\"JATIM_22\", 1:258], order = c(2, 0, 2))\n",
    "fit.ar.22.3 <- Arima(jatim_rainfall_matrix[\"JATIM_22\", 1:258], order = c(4, 0, 2))\n",
    "fit.ar.22.4 <- Arima(jatim_rainfall_matrix[\"JATIM_22\", 1:258], order = c(5, 0, 2))\n",
    "fit.ar.22.5 <- Arima(jatim_rainfall_matrix[\"JATIM_22\", 1:258], order = c(6, 0, 2))\n",
    "fit.ar.22.6 <- Arima(jatim_rainfall_matrix[\"JATIM_22\", 1:258], order = c(1, 0, 1))\n",
    "fit.ar.22.7 <- Arima(jatim_rainfall_matrix[\"JATIM_22\", 1:258], order = c(2, 0, 1))\n",
    "fit.ar.22.8 <- Arima(jatim_rainfall_matrix[\"JATIM_22\", 1:258], order = c(3, 0, 1))\n",
    "fit.ar.22.9 <- Arima(jatim_rainfall_matrix[\"JATIM_22\", 1:258], order = c(4, 0, 1))\n",
    "fit.ar.22.10 <- Arima(jatim_rainfall_matrix[\"JATIM_22\", 1:258], order = c(6, 0, 1))\n",
    "\n",
    "# Display model summaries\n",
    "fit.ar.22.1\n",
    "fit.ar.22.2\n",
    "fit.ar.22.3\n",
    "fit.ar.22.4\n",
    "fit.ar.22.5\n",
    "fit.ar.22.6\n",
    "fit.ar.22.7\n",
    "fit.ar.22.8\n",
    "fit.ar.22.9\n",
    "fit.ar.22.10\n",
    "fit.auto.ar.22"
   ]
  },
  {
   "cell_type": "code",
   "execution_count": 54,
   "id": "7ee1b2bf",
   "metadata": {},
   "outputs": [
    {
     "data": {
      "text/html": [
       "0.709272270501757"
      ],
      "text/latex": [
       "0.709272270501757"
      ],
      "text/markdown": [
       "0.709272270501757"
      ],
      "text/plain": [
       "[1] 0.7092723"
      ]
     },
     "metadata": {},
     "output_type": "display_data"
    },
    {
     "data": {
      "text/html": [
       "0.553582755804074"
      ],
      "text/latex": [
       "0.553582755804074"
      ],
      "text/markdown": [
       "0.553582755804074"
      ],
      "text/plain": [
       "[1] 0.5535828"
      ]
     },
     "metadata": {},
     "output_type": "display_data"
    },
    {
     "data": {
      "text/html": [
       "0.535840411562118"
      ],
      "text/latex": [
       "0.535840411562118"
      ],
      "text/markdown": [
       "0.535840411562118"
      ],
      "text/plain": [
       "[1] 0.5358404"
      ]
     },
     "metadata": {},
     "output_type": "display_data"
    },
    {
     "data": {
      "text/html": [
       "0.614574276885605"
      ],
      "text/latex": [
       "0.614574276885605"
      ],
      "text/markdown": [
       "0.614574276885605"
      ],
      "text/plain": [
       "[1] 0.6145743"
      ]
     },
     "metadata": {},
     "output_type": "display_data"
    },
    {
     "data": {
      "text/html": [
       "0.532933162740571"
      ],
      "text/latex": [
       "0.532933162740571"
      ],
      "text/markdown": [
       "0.532933162740571"
      ],
      "text/plain": [
       "[1] 0.5329332"
      ]
     },
     "metadata": {},
     "output_type": "display_data"
    },
    {
     "data": {
      "text/html": [
       "0.721946599744457"
      ],
      "text/latex": [
       "0.721946599744457"
      ],
      "text/markdown": [
       "0.721946599744457"
      ],
      "text/plain": [
       "[1] 0.7219466"
      ]
     },
     "metadata": {},
     "output_type": "display_data"
    },
    {
     "data": {
      "text/html": [
       "0.655798660677696"
      ],
      "text/latex": [
       "0.655798660677696"
      ],
      "text/markdown": [
       "0.655798660677696"
      ],
      "text/plain": [
       "[1] 0.6557987"
      ]
     },
     "metadata": {},
     "output_type": "display_data"
    },
    {
     "data": {
      "text/html": [
       "0.632116497377585"
      ],
      "text/latex": [
       "0.632116497377585"
      ],
      "text/markdown": [
       "0.632116497377585"
      ],
      "text/plain": [
       "[1] 0.6321165"
      ]
     },
     "metadata": {},
     "output_type": "display_data"
    },
    {
     "data": {
      "text/html": [
       "0.621481084228179"
      ],
      "text/latex": [
       "0.621481084228179"
      ],
      "text/markdown": [
       "0.621481084228179"
      ],
      "text/plain": [
       "[1] 0.6214811"
      ]
     },
     "metadata": {},
     "output_type": "display_data"
    },
    {
     "data": {
      "text/html": [
       "0.61485091357019"
      ],
      "text/latex": [
       "0.61485091357019"
      ],
      "text/markdown": [
       "0.61485091357019"
      ],
      "text/plain": [
       "[1] 0.6148509"
      ]
     },
     "metadata": {},
     "output_type": "display_data"
    },
    {
     "data": {
      "text/html": [
       "0.616690794185667"
      ],
      "text/latex": [
       "0.616690794185667"
      ],
      "text/markdown": [
       "0.616690794185667"
      ],
      "text/plain": [
       "[1] 0.6166908"
      ]
     },
     "metadata": {},
     "output_type": "display_data"
    }
   ],
   "source": [
    "# Calculate Normalized Root Mean Squared Error (NRMSE) for each model\n",
    "NRMSE_fit.ar.22.1 <- NRMSE(res=fit.ar.22.1$residuals, obs=jatim_rainfall_matrix[\"JATIM_22\",1:258])\n",
    "NRMSE_fit.ar.22.2 <- NRMSE(res=fit.ar.22.2$residuals, obs=jatim_rainfall_matrix[\"JATIM_22\",1:258])\n",
    "NRMSE_fit.ar.22.3 <- NRMSE(res=fit.ar.22.3$residuals, obs=jatim_rainfall_matrix[\"JATIM_22\",1:258])\n",
    "NRMSE_fit.ar.22.4 <- NRMSE(res=fit.ar.22.4$residuals, obs=jatim_rainfall_matrix[\"JATIM_22\",1:258])\n",
    "NRMSE_fit.ar.22.5 <- NRMSE(res=fit.ar.22.5$residuals, obs=jatim_rainfall_matrix[\"JATIM_22\",1:258])\n",
    "NRMSE_fit.ar.22.6 <- NRMSE(res=fit.ar.22.6$residuals, obs=jatim_rainfall_matrix[\"JATIM_22\",1:258])\n",
    "NRMSE_fit.ar.22.7 <- NRMSE(res=fit.ar.22.7$residuals, obs=jatim_rainfall_matrix[\"JATIM_22\",1:258])\n",
    "NRMSE_fit.ar.22.8 <- NRMSE(res=fit.ar.22.8$residuals, obs=jatim_rainfall_matrix[\"JATIM_22\",1:258])\n",
    "NRMSE_fit.ar.22.9 <- NRMSE(res=fit.ar.22.9$residuals, obs=jatim_rainfall_matrix[\"JATIM_22\",1:258])\n",
    "NRMSE_fit.ar.22.10 <- NRMSE(res=fit.ar.22.10$residuals, obs=jatim_rainfall_matrix[\"JATIM_22\",1:258])\n",
    "NRMSE_fit.auto.ar.22 <- NRMSE(res=fit.auto.ar.22$residuals, obs=jatim_rainfall_matrix[\"JATIM_22\",1:258])\n",
    "\n",
    "# Display NRMSE values for each model\n",
    "NRMSE_fit.ar.22.1\n",
    "NRMSE_fit.ar.22.2\n",
    "NRMSE_fit.ar.22.3\n",
    "NRMSE_fit.ar.22.4\n",
    "NRMSE_fit.ar.22.5\n",
    "NRMSE_fit.ar.22.6\n",
    "NRMSE_fit.ar.22.7\n",
    "NRMSE_fit.ar.22.8\n",
    "NRMSE_fit.ar.22.9\n",
    "NRMSE_fit.ar.22.10\n",
    "NRMSE_fit.auto.ar.22"
   ]
  },
  {
   "cell_type": "code",
   "execution_count": 55,
   "id": "0500572c",
   "metadata": {},
   "outputs": [
    {
     "data": {
      "image/png": "[encoded data removed]",
      "text/plain": [
       "Plot with title \"p values for Ljung-Box statistic\""
      ]
     },
     "metadata": {
      "image/png": {
       "height": 420,
       "width": 420
      }
     },
     "output_type": "display_data"
    }
   ],
   "source": [
    "# Purpose: Check the normality of residuals for diagnostic purposes.\n",
    "# Time series diagnostics for the best ARIMA model -> ARIMA(4,0,2)\n",
    "tsdiag(fit.ar.22.3)"
   ]
  },
  {
   "cell_type": "code",
   "execution_count": 56,
   "id": "9dbb237c",
   "metadata": {},
   "outputs": [
    {
     "data": {
      "text/plain": [
       "\n",
       "\tBox-Pierce test\n",
       "\n",
       "data:  fit.ar.22.3$residuals\n",
       "X-squared = 7.7941, df = 8, p-value = 0.4538\n"
      ]
     },
     "metadata": {},
     "output_type": "display_data"
    }
   ],
   "source": [
    "# Box-Ljung test for residual autocorrelation\n",
    "# Setting the lag parameter to twice the order of the autoregressive part of the model\n",
    "# This allows the test to capture any residual autocorrelation in the data beyond what is captured by the ARIMA model\n",
    "Box.test(fit.ar.22.3$residuals, lag = 8)"
   ]
  },
  {
   "cell_type": "code",
   "execution_count": 57,
   "id": "5a614d7d",
   "metadata": {},
   "outputs": [],
   "source": [
    "# Purpose: Perform time series forecasting for rainfall in JATIM_22\n",
    "# Fit the best ARIMA model to the test set of rainfall data\n",
    "pre.Ar.22 <- Arima(jatim_rainfall_matrix[\"JATIM_22\", 259:(ncol(jatim_rainfall_matrix))], model=fit.ar.22.3)"
   ]
  },
  {
   "cell_type": "code",
   "execution_count": 58,
   "id": "5145faf0",
   "metadata": {},
   "outputs": [
    {
     "data": {
      "image/png": "[encoded data removed]",
      "text/plain": [
       "Plot with title \"Prediction Rainfall of JATIM_22\""
      ]
     },
     "metadata": {
      "image/png": {
       "height": 420,
       "width": 420
      }
     },
     "output_type": "display_data"
    }
   ],
   "source": [
    "# Plot the observed and fitted values from the ARIMA model\n",
    "matplot(cbind(pre.Ar.22$fitted, pre.Ar.22$x), type=\"l\", main=\"Prediction Rainfall of JATIM_22\")\n"
   ]
  },
  {
   "cell_type": "code",
   "execution_count": 59,
   "id": "1176f469",
   "metadata": {},
   "outputs": [
    {
     "data": {
      "text/html": [
       "1.09521127413515"
      ],
      "text/latex": [
       "1.09521127413515"
      ],
      "text/markdown": [
       "1.09521127413515"
      ],
      "text/plain": [
       "[1] 1.095211"
      ]
     },
     "metadata": {},
     "output_type": "display_data"
    }
   ],
   "source": [
    "# Calculate the Normalized Root Mean Squared Error (NRMSE) for the forecasted values\n",
    "NRMSE_fit.22 <- NRMSE(res=pre.Ar.22$residuals, obs=jatim_rainfall_matrix[\"JATIM_22\", 259:264])\n",
    "NRMSE_fit.22"
   ]
  },
  {
   "cell_type": "markdown",
   "id": "5ac55726",
   "metadata": {},
   "source": [
    "## ST-ARIMA"
   ]
  },
  {
   "cell_type": "code",
   "execution_count": 60,
   "id": "b4b64b9f",
   "metadata": {},
   "outputs": [
    {
     "name": "stderr",
     "output_type": "stream",
     "text": [
      "st_as_s2(): dropping Z and/or M coordinate\n",
      "\n",
      "st_as_s2(): dropping Z and/or M coordinate\n",
      "\n"
     ]
    }
   ],
   "source": [
    "# Purpose: Convert polygon neighbors to a binary spatial weights matrix.\n",
    "# Create neighborhood structure from polygon neighbors\n",
    "nbrs <- poly2nb(jatim)\n",
    "\n",
    "# Convert the neighborhood structure to a binary spatial weights matrix\n",
    "W1 <- nb2mat(nbrs)\n",
    "\n",
    "# Create an identity matrix with dimensions matching the spatial weights matrix\n",
    "W0 <- diag(x=1, nrow(W1), ncol(W1)) # Spatial order zero\n"
   ]
  },
  {
   "cell_type": "code",
   "execution_count": 61,
   "id": "f8e8a94f",
   "metadata": {},
   "outputs": [],
   "source": [
    "# Purpose: Calculate spatial-temporal autocorrelation functions (STACF and STPACF) for rainfall data in Jawa Timur.\n",
    "# Transpose the rainfall matrix to have time series in columns (STACF and STPACF require this format)\n",
    "jatim_rainfall_mat2 <- t(jatim_rainfall_matrix)"
   ]
  },
  {
   "cell_type": "code",
   "execution_count": 63,
   "id": "84829eb5",
   "metadata": {},
   "outputs": [
    {
     "data": {
      "text/html": [
       "<dl>\n",
       "\t<dt>$stacf</dt>\n",
       "\t\t<dd><table class=\"dataframe\">\n",
       "<caption>A matrix: 51 × 1 of type dbl</caption>\n",
       "<tbody>\n",
       "\t<tr><td> 1.00000000</td></tr>\n",
       "\t<tr><td> 0.67234231</td></tr>\n",
       "\t<tr><td> 0.38275373</td></tr>\n",
       "\t<tr><td> 0.04646230</td></tr>\n",
       "\t<tr><td>-0.27795762</td></tr>\n",
       "\t<tr><td>-0.52728696</td></tr>\n",
       "\t<tr><td>-0.62879819</td></tr>\n",
       "\t<tr><td>-0.56807517</td></tr>\n",
       "\t<tr><td>-0.32720698</td></tr>\n",
       "\t<tr><td>-0.03217068</td></tr>\n",
       "\t<tr><td> 0.29525452</td></tr>\n",
       "\t<tr><td> 0.54759613</td></tr>\n",
       "\t<tr><td> 0.67654176</td></tr>\n",
       "\t<tr><td> 0.54141900</td></tr>\n",
       "\t<tr><td> 0.30647583</td></tr>\n",
       "\t<tr><td>-0.02530932</td></tr>\n",
       "\t<tr><td>-0.32557151</td></tr>\n",
       "\t<tr><td>-0.57506104</td></tr>\n",
       "\t<tr><td>-0.67180975</td></tr>\n",
       "\t<tr><td>-0.57793446</td></tr>\n",
       "\t<tr><td>-0.31482179</td></tr>\n",
       "\t<tr><td>-0.01916218</td></tr>\n",
       "\t<tr><td> 0.32828751</td></tr>\n",
       "\t<tr><td> 0.57762408</td></tr>\n",
       "\t<tr><td> 0.65100122</td></tr>\n",
       "\t<tr><td> 0.55065548</td></tr>\n",
       "\t<tr><td> 0.31209549</td></tr>\n",
       "\t<tr><td>-0.02067529</td></tr>\n",
       "\t<tr><td>-0.36193926</td></tr>\n",
       "\t<tr><td>-0.58886417</td></tr>\n",
       "\t<tr><td>-0.67309805</td></tr>\n",
       "\t<tr><td>-0.56820932</td></tr>\n",
       "\t<tr><td>-0.32306107</td></tr>\n",
       "\t<tr><td> 0.01754133</td></tr>\n",
       "\t<tr><td> 0.32863720</td></tr>\n",
       "\t<tr><td> 0.58337658</td></tr>\n",
       "\t<tr><td> 0.67229313</td></tr>\n",
       "\t<tr><td> 0.58029971</td></tr>\n",
       "\t<tr><td> 0.33052266</td></tr>\n",
       "\t<tr><td>-0.01025048</td></tr>\n",
       "\t<tr><td>-0.34520479</td></tr>\n",
       "\t<tr><td>-0.59814763</td></tr>\n",
       "\t<tr><td>-0.71610475</td></tr>\n",
       "\t<tr><td>-0.57355380</td></tr>\n",
       "\t<tr><td>-0.36732001</td></tr>\n",
       "\t<tr><td>-0.03464664</td></tr>\n",
       "\t<tr><td> 0.29183305</td></tr>\n",
       "\t<tr><td> 0.55773899</td></tr>\n",
       "\t<tr><td> 0.66129521</td></tr>\n",
       "\t<tr><td> 0.60747238</td></tr>\n",
       "\t<tr><td> 0.35556575</td></tr>\n",
       "</tbody>\n",
       "</table>\n",
       "</dd>\n",
       "\t<dt>$ubound</dt>\n",
       "\t\t<dd>0.0789337037963858</dd>\n",
       "\t<dt>$lbound</dt>\n",
       "\t\t<dd>-0.0789337037963858</dd>\n",
       "</dl>\n"
      ],
      "text/latex": [
       "\\begin{description}\n",
       "\\item[\\$stacf] A matrix: 51 × 1 of type dbl\n",
       "\\begin{tabular}{l}\n",
       "\t  1.00000000\\\\\n",
       "\t  0.67234231\\\\\n",
       "\t  0.38275373\\\\\n",
       "\t  0.04646230\\\\\n",
       "\t -0.27795762\\\\\n",
       "\t -0.52728696\\\\\n",
       "\t -0.62879819\\\\\n",
       "\t -0.56807517\\\\\n",
       "\t -0.32720698\\\\\n",
       "\t -0.03217068\\\\\n",
       "\t  0.29525452\\\\\n",
       "\t  0.54759613\\\\\n",
       "\t  0.67654176\\\\\n",
       "\t  0.54141900\\\\\n",
       "\t  0.30647583\\\\\n",
       "\t -0.02530932\\\\\n",
       "\t -0.32557151\\\\\n",
       "\t -0.57506104\\\\\n",
       "\t -0.67180975\\\\\n",
       "\t -0.57793446\\\\\n",
       "\t -0.31482179\\\\\n",
       "\t -0.01916218\\\\\n",
       "\t  0.32828751\\\\\n",
       "\t  0.57762408\\\\\n",
       "\t  0.65100122\\\\\n",
       "\t  0.55065548\\\\\n",
       "\t  0.31209549\\\\\n",
       "\t -0.02067529\\\\\n",
       "\t -0.36193926\\\\\n",
       "\t -0.58886417\\\\\n",
       "\t -0.67309805\\\\\n",
       "\t -0.56820932\\\\\n",
       "\t -0.32306107\\\\\n",
       "\t  0.01754133\\\\\n",
       "\t  0.32863720\\\\\n",
       "\t  0.58337658\\\\\n",
       "\t  0.67229313\\\\\n",
       "\t  0.58029971\\\\\n",
       "\t  0.33052266\\\\\n",
       "\t -0.01025048\\\\\n",
       "\t -0.34520479\\\\\n",
       "\t -0.59814763\\\\\n",
       "\t -0.71610475\\\\\n",
       "\t -0.57355380\\\\\n",
       "\t -0.36732001\\\\\n",
       "\t -0.03464664\\\\\n",
       "\t  0.29183305\\\\\n",
       "\t  0.55773899\\\\\n",
       "\t  0.66129521\\\\\n",
       "\t  0.60747238\\\\\n",
       "\t  0.35556575\\\\\n",
       "\\end{tabular}\n",
       "\n",
       "\\item[\\$ubound] 0.0789337037963858\n",
       "\\item[\\$lbound] -0.0789337037963858\n",
       "\\end{description}\n"
      ],
      "text/markdown": [
       "$stacf\n",
       ":   \n",
       "A matrix: 51 × 1 of type dbl\n",
       "\n",
       "|  1.00000000 |\n",
       "|  0.67234231 |\n",
       "|  0.38275373 |\n",
       "|  0.04646230 |\n",
       "| -0.27795762 |\n",
       "| -0.52728696 |\n",
       "| -0.62879819 |\n",
       "| -0.56807517 |\n",
       "| -0.32720698 |\n",
       "| -0.03217068 |\n",
       "|  0.29525452 |\n",
       "|  0.54759613 |\n",
       "|  0.67654176 |\n",
       "|  0.54141900 |\n",
       "|  0.30647583 |\n",
       "| -0.02530932 |\n",
       "| -0.32557151 |\n",
       "| -0.57506104 |\n",
       "| -0.67180975 |\n",
       "| -0.57793446 |\n",
       "| -0.31482179 |\n",
       "| -0.01916218 |\n",
       "|  0.32828751 |\n",
       "|  0.57762408 |\n",
       "|  0.65100122 |\n",
       "|  0.55065548 |\n",
       "|  0.31209549 |\n",
       "| -0.02067529 |\n",
       "| -0.36193926 |\n",
       "| -0.58886417 |\n",
       "| -0.67309805 |\n",
       "| -0.56820932 |\n",
       "| -0.32306107 |\n",
       "|  0.01754133 |\n",
       "|  0.32863720 |\n",
       "|  0.58337658 |\n",
       "|  0.67229313 |\n",
       "|  0.58029971 |\n",
       "|  0.33052266 |\n",
       "| -0.01025048 |\n",
       "| -0.34520479 |\n",
       "| -0.59814763 |\n",
       "| -0.71610475 |\n",
       "| -0.57355380 |\n",
       "| -0.36732001 |\n",
       "| -0.03464664 |\n",
       "|  0.29183305 |\n",
       "|  0.55773899 |\n",
       "|  0.66129521 |\n",
       "|  0.60747238 |\n",
       "|  0.35556575 |\n",
       "\n",
       "\n",
       "$ubound\n",
       ":   0.0789337037963858\n",
       "$lbound\n",
       ":   -0.0789337037963858\n",
       "\n",
       "\n"
      ],
      "text/plain": [
       "$stacf\n",
       "             [,1]\n",
       " [1,]  1.00000000\n",
       " [2,]  0.67234231\n",
       " [3,]  0.38275373\n",
       " [4,]  0.04646230\n",
       " [5,] -0.27795762\n",
       " [6,] -0.52728696\n",
       " [7,] -0.62879819\n",
       " [8,] -0.56807517\n",
       " [9,] -0.32720698\n",
       "[10,] -0.03217068\n",
       "[11,]  0.29525452\n",
       "[12,]  0.54759613\n",
       "[13,]  0.67654176\n",
       "[14,]  0.54141900\n",
       "[15,]  0.30647583\n",
       "[16,] -0.02530932\n",
       "[17,] -0.32557151\n",
       "[18,] -0.57506104\n",
       "[19,] -0.67180975\n",
       "[20,] -0.57793446\n",
       "[21,] -0.31482179\n",
       "[22,] -0.01916218\n",
       "[23,]  0.32828751\n",
       "[24,]  0.57762408\n",
       "[25,]  0.65100122\n",
       "[26,]  0.55065548\n",
       "[27,]  0.31209549\n",
       "[28,] -0.02067529\n",
       "[29,] -0.36193926\n",
       "[30,] -0.58886417\n",
       "[31,] -0.67309805\n",
       "[32,] -0.56820932\n",
       "[33,] -0.32306107\n",
       "[34,]  0.01754133\n",
       "[35,]  0.32863720\n",
       "[36,]  0.58337658\n",
       "[37,]  0.67229313\n",
       "[38,]  0.58029971\n",
       "[39,]  0.33052266\n",
       "[40,] -0.01025048\n",
       "[41,] -0.34520479\n",
       "[42,] -0.59814763\n",
       "[43,] -0.71610475\n",
       "[44,] -0.57355380\n",
       "[45,] -0.36732001\n",
       "[46,] -0.03464664\n",
       "[47,]  0.29183305\n",
       "[48,]  0.55773899\n",
       "[49,]  0.66129521\n",
       "[50,]  0.60747238\n",
       "[51,]  0.35556575\n",
       "\n",
       "$ubound\n",
       "[1] 0.0789337\n",
       "\n",
       "$lbound\n",
       "[1] -0.0789337\n"
      ]
     },
     "metadata": {},
     "output_type": "display_data"
    },
    {
     "data": {
      "image/png": "[encoded data removed]",
      "text/plain": [
       "Plot with title \"Space-Time Autocorrelation Function\""
      ]
     },
     "metadata": {
      "image/png": {
       "height": 420,
       "width": 420
      }
     },
     "output_type": "display_data"
    }
   ],
   "source": [
    "#Model Identification\n",
    "# Calculate the spatial-temporal autocorrelation function (STACF) for the rainfall data using a spatial weights matrix\n",
    "stacf(jatim_rainfall_mat2, W0, 50) # Spatial order zero"
   ]
  },
  {
   "cell_type": "code",
   "execution_count": 64,
   "id": "e6d5f382",
   "metadata": {},
   "outputs": [
    {
     "data": {
      "text/html": [
       "<dl>\n",
       "\t<dt>$stpacf</dt>\n",
       "\t\t<dd><table class=\"dataframe\">\n",
       "<caption>A matrix: 50 × 1 of type dbl</caption>\n",
       "<tbody>\n",
       "\t<tr><td> 0.0426904753</td></tr>\n",
       "\t<tr><td>-0.1085540402</td></tr>\n",
       "\t<tr><td> 0.0014381101</td></tr>\n",
       "\t<tr><td> 0.0052505177</td></tr>\n",
       "\t<tr><td> 0.0225072763</td></tr>\n",
       "\t<tr><td> 0.0527946588</td></tr>\n",
       "\t<tr><td> 0.0654087966</td></tr>\n",
       "\t<tr><td> 0.0880259055</td></tr>\n",
       "\t<tr><td> 0.0523955698</td></tr>\n",
       "\t<tr><td>-0.0057727154</td></tr>\n",
       "\t<tr><td>-0.0495230951</td></tr>\n",
       "\t<tr><td> 0.0299595194</td></tr>\n",
       "\t<tr><td>-0.0796198030</td></tr>\n",
       "\t<tr><td>-0.0193826366</td></tr>\n",
       "\t<tr><td> 0.0097956302</td></tr>\n",
       "\t<tr><td> 0.0011544502</td></tr>\n",
       "\t<tr><td>-0.0128415021</td></tr>\n",
       "\t<tr><td> 0.0057738532</td></tr>\n",
       "\t<tr><td> 0.0565207641</td></tr>\n",
       "\t<tr><td> 0.0603287081</td></tr>\n",
       "\t<tr><td> 0.0087704201</td></tr>\n",
       "\t<tr><td> 0.0255389629</td></tr>\n",
       "\t<tr><td>-0.0178155525</td></tr>\n",
       "\t<tr><td>-0.0773749787</td></tr>\n",
       "\t<tr><td>-0.0264706016</td></tr>\n",
       "\t<tr><td> 0.0061005794</td></tr>\n",
       "\t<tr><td>-0.0211077433</td></tr>\n",
       "\t<tr><td>-0.0353113657</td></tr>\n",
       "\t<tr><td> 0.0529499325</td></tr>\n",
       "\t<tr><td>-0.0039829207</td></tr>\n",
       "\t<tr><td> 0.0199165753</td></tr>\n",
       "\t<tr><td> 0.0609311644</td></tr>\n",
       "\t<tr><td> 0.0721217992</td></tr>\n",
       "\t<tr><td>-0.0585801644</td></tr>\n",
       "\t<tr><td> 0.0799545578</td></tr>\n",
       "\t<tr><td> 0.0142445380</td></tr>\n",
       "\t<tr><td>-0.0473499305</td></tr>\n",
       "\t<tr><td> 0.0019741330</td></tr>\n",
       "\t<tr><td>-0.0171380300</td></tr>\n",
       "\t<tr><td>-0.0008490004</td></tr>\n",
       "\t<tr><td>-0.0257350700</td></tr>\n",
       "\t<tr><td>-0.0450591149</td></tr>\n",
       "\t<tr><td> 0.0963687193</td></tr>\n",
       "\t<tr><td>-0.0421069956</td></tr>\n",
       "\t<tr><td> 0.0382425593</td></tr>\n",
       "\t<tr><td>-0.0246580415</td></tr>\n",
       "\t<tr><td> 0.0569639508</td></tr>\n",
       "\t<tr><td> 0.0307639145</td></tr>\n",
       "\t<tr><td>-0.0249170771</td></tr>\n",
       "\t<tr><td> 0.0501839609</td></tr>\n",
       "</tbody>\n",
       "</table>\n",
       "</dd>\n",
       "\t<dt>$ubound</dt>\n",
       "\t\t<dd>0.201007563051842</dd>\n",
       "\t<dt>$lbound</dt>\n",
       "\t\t<dd>-0.201007563051842</dd>\n",
       "</dl>\n"
      ],
      "text/latex": [
       "\\begin{description}\n",
       "\\item[\\$stpacf] A matrix: 50 × 1 of type dbl\n",
       "\\begin{tabular}{l}\n",
       "\t  0.0426904753\\\\\n",
       "\t -0.1085540402\\\\\n",
       "\t  0.0014381101\\\\\n",
       "\t  0.0052505177\\\\\n",
       "\t  0.0225072763\\\\\n",
       "\t  0.0527946588\\\\\n",
       "\t  0.0654087966\\\\\n",
       "\t  0.0880259055\\\\\n",
       "\t  0.0523955698\\\\\n",
       "\t -0.0057727154\\\\\n",
       "\t -0.0495230951\\\\\n",
       "\t  0.0299595194\\\\\n",
       "\t -0.0796198030\\\\\n",
       "\t -0.0193826366\\\\\n",
       "\t  0.0097956302\\\\\n",
       "\t  0.0011544502\\\\\n",
       "\t -0.0128415021\\\\\n",
       "\t  0.0057738532\\\\\n",
       "\t  0.0565207641\\\\\n",
       "\t  0.0603287081\\\\\n",
       "\t  0.0087704201\\\\\n",
       "\t  0.0255389629\\\\\n",
       "\t -0.0178155525\\\\\n",
       "\t -0.0773749787\\\\\n",
       "\t -0.0264706016\\\\\n",
       "\t  0.0061005794\\\\\n",
       "\t -0.0211077433\\\\\n",
       "\t -0.0353113657\\\\\n",
       "\t  0.0529499325\\\\\n",
       "\t -0.0039829207\\\\\n",
       "\t  0.0199165753\\\\\n",
       "\t  0.0609311644\\\\\n",
       "\t  0.0721217992\\\\\n",
       "\t -0.0585801644\\\\\n",
       "\t  0.0799545578\\\\\n",
       "\t  0.0142445380\\\\\n",
       "\t -0.0473499305\\\\\n",
       "\t  0.0019741330\\\\\n",
       "\t -0.0171380300\\\\\n",
       "\t -0.0008490004\\\\\n",
       "\t -0.0257350700\\\\\n",
       "\t -0.0450591149\\\\\n",
       "\t  0.0963687193\\\\\n",
       "\t -0.0421069956\\\\\n",
       "\t  0.0382425593\\\\\n",
       "\t -0.0246580415\\\\\n",
       "\t  0.0569639508\\\\\n",
       "\t  0.0307639145\\\\\n",
       "\t -0.0249170771\\\\\n",
       "\t  0.0501839609\\\\\n",
       "\\end{tabular}\n",
       "\n",
       "\\item[\\$ubound] 0.201007563051842\n",
       "\\item[\\$lbound] -0.201007563051842\n",
       "\\end{description}\n"
      ],
      "text/markdown": [
       "$stpacf\n",
       ":   \n",
       "A matrix: 50 × 1 of type dbl\n",
       "\n",
       "|  0.0426904753 |\n",
       "| -0.1085540402 |\n",
       "|  0.0014381101 |\n",
       "|  0.0052505177 |\n",
       "|  0.0225072763 |\n",
       "|  0.0527946588 |\n",
       "|  0.0654087966 |\n",
       "|  0.0880259055 |\n",
       "|  0.0523955698 |\n",
       "| -0.0057727154 |\n",
       "| -0.0495230951 |\n",
       "|  0.0299595194 |\n",
       "| -0.0796198030 |\n",
       "| -0.0193826366 |\n",
       "|  0.0097956302 |\n",
       "|  0.0011544502 |\n",
       "| -0.0128415021 |\n",
       "|  0.0057738532 |\n",
       "|  0.0565207641 |\n",
       "|  0.0603287081 |\n",
       "|  0.0087704201 |\n",
       "|  0.0255389629 |\n",
       "| -0.0178155525 |\n",
       "| -0.0773749787 |\n",
       "| -0.0264706016 |\n",
       "|  0.0061005794 |\n",
       "| -0.0211077433 |\n",
       "| -0.0353113657 |\n",
       "|  0.0529499325 |\n",
       "| -0.0039829207 |\n",
       "|  0.0199165753 |\n",
       "|  0.0609311644 |\n",
       "|  0.0721217992 |\n",
       "| -0.0585801644 |\n",
       "|  0.0799545578 |\n",
       "|  0.0142445380 |\n",
       "| -0.0473499305 |\n",
       "|  0.0019741330 |\n",
       "| -0.0171380300 |\n",
       "| -0.0008490004 |\n",
       "| -0.0257350700 |\n",
       "| -0.0450591149 |\n",
       "|  0.0963687193 |\n",
       "| -0.0421069956 |\n",
       "|  0.0382425593 |\n",
       "| -0.0246580415 |\n",
       "|  0.0569639508 |\n",
       "|  0.0307639145 |\n",
       "| -0.0249170771 |\n",
       "|  0.0501839609 |\n",
       "\n",
       "\n",
       "$ubound\n",
       ":   0.201007563051842\n",
       "$lbound\n",
       ":   -0.201007563051842\n",
       "\n",
       "\n"
      ],
      "text/plain": [
       "$stpacf\n",
       "               [,1]\n",
       " [1,]  0.0426904753\n",
       " [2,] -0.1085540402\n",
       " [3,]  0.0014381101\n",
       " [4,]  0.0052505177\n",
       " [5,]  0.0225072763\n",
       " [6,]  0.0527946588\n",
       " [7,]  0.0654087966\n",
       " [8,]  0.0880259055\n",
       " [9,]  0.0523955698\n",
       "[10,] -0.0057727154\n",
       "[11,] -0.0495230951\n",
       "[12,]  0.0299595194\n",
       "[13,] -0.0796198030\n",
       "[14,] -0.0193826366\n",
       "[15,]  0.0097956302\n",
       "[16,]  0.0011544502\n",
       "[17,] -0.0128415021\n",
       "[18,]  0.0057738532\n",
       "[19,]  0.0565207641\n",
       "[20,]  0.0603287081\n",
       "[21,]  0.0087704201\n",
       "[22,]  0.0255389629\n",
       "[23,] -0.0178155525\n",
       "[24,] -0.0773749787\n",
       "[25,] -0.0264706016\n",
       "[26,]  0.0061005794\n",
       "[27,] -0.0211077433\n",
       "[28,] -0.0353113657\n",
       "[29,]  0.0529499325\n",
       "[30,] -0.0039829207\n",
       "[31,]  0.0199165753\n",
       "[32,]  0.0609311644\n",
       "[33,]  0.0721217992\n",
       "[34,] -0.0585801644\n",
       "[35,]  0.0799545578\n",
       "[36,]  0.0142445380\n",
       "[37,] -0.0473499305\n",
       "[38,]  0.0019741330\n",
       "[39,] -0.0171380300\n",
       "[40,] -0.0008490004\n",
       "[41,] -0.0257350700\n",
       "[42,] -0.0450591149\n",
       "[43,]  0.0963687193\n",
       "[44,] -0.0421069956\n",
       "[45,]  0.0382425593\n",
       "[46,] -0.0246580415\n",
       "[47,]  0.0569639508\n",
       "[48,]  0.0307639145\n",
       "[49,] -0.0249170771\n",
       "[50,]  0.0501839609\n",
       "\n",
       "$ubound\n",
       "[1] 0.2010076\n",
       "\n",
       "$lbound\n",
       "[1] -0.2010076\n"
      ]
     },
     "metadata": {},
     "output_type": "display_data"
    },
    {
     "data": {
      "image/png": "[encoded data removed]",
      "text/plain": [
       "Plot with title \"Space-Time Partial Autocorrelation Function\""
      ]
     },
     "metadata": {
      "image/png": {
       "height": 420,
       "width": 420
      }
     },
     "output_type": "display_data"
    }
   ],
   "source": [
    "# Calculate the spatial-temporal partial autocorrelation function (STPACF) for the rainfall data using a spatial weights matrix\n",
    "stpacf(jatim_rainfall_mat2, W1, 50) # Spatial order one"
   ]
  },
  {
   "cell_type": "code",
   "execution_count": 65,
   "id": "df437396",
   "metadata": {},
   "outputs": [],
   "source": [
    "#Parameter Estimation and Fitting--------------------------------------------\n",
    "# Create a list of spatial weight matrices, where zero elements are not needed\n",
    "W_fit <- list(w1 = W1)"
   ]
  },
  {
   "cell_type": "code",
   "execution_count": 66,
   "id": "91937f4c",
   "metadata": {},
   "outputs": [
    {
     "data": {
      "text/html": [
       "<dl>\n",
       "\t<dt>$BETA</dt>\n",
       "\t\t<dd><style>\n",
       ".list-inline {list-style: none; margin:0; padding: 0}\n",
       ".list-inline>li {display: inline-block}\n",
       ".list-inline>li:not(:last-child)::after {content: \"\\00b7\"; padding: 0 .5ex}\n",
       "</style>\n",
       "<ol class=list-inline><li>0.797997470217842</li><li>0.0369567846867257</li><li>0.0437192016819112</li><li>0.0302687295454773</li></ol>\n",
       "</dd>\n",
       "\t<dt>$PVAL</dt>\n",
       "\t\t<dd><style>\n",
       ".list-inline {list-style: none; margin:0; padding: 0}\n",
       ".list-inline>li {display: inline-block}\n",
       ".list-inline>li:not(:last-child)::after {content: \"\\00b7\"; padding: 0 .5ex}\n",
       "</style>\n",
       "<ol class=list-inline><li>3.68187115373472e-60</li><li>0.33956856744071</li><li>0.522465881529789</li><li>0.620641425369113</li></ol>\n",
       "</dd>\n",
       "\t<dt>$NRMSE</dt>\n",
       "\t\t<dd><style>\n",
       ".list-inline {list-style: none; margin:0; padding: 0}\n",
       ".list-inline>li {display: inline-block}\n",
       ".list-inline>li:not(:last-child)::after {content: \"\\00b7\"; padding: 0 .5ex}\n",
       "</style>\n",
       "<ol class=list-inline><li>0.801877264281635</li><li>0.790439208480748</li><li>0.759768349835294</li></ol>\n",
       "</dd>\n",
       "\t<dt>$OBS</dt>\n",
       "\t\t<dd><table class=\"dataframe\">\n",
       "<caption>A matrix: 256 × 3 of type dbl</caption>\n",
       "<thead>\n",
       "\t<tr><th></th><th scope=col>JATIM_18</th><th scope=col>JATIM_21</th><th scope=col>JATIM_22</th></tr>\n",
       "</thead>\n",
       "<tbody>\n",
       "\t<tr><th scope=row>03_2002</th><td>212.6</td><td>277.8</td><td>233.8</td></tr>\n",
       "\t<tr><th scope=row>04_2002</th><td>196.8</td><td>196.6</td><td>153.5</td></tr>\n",
       "\t<tr><th scope=row>05_2002</th><td> 50.4</td><td> 88.0</td><td> 78.1</td></tr>\n",
       "\t<tr><th scope=row>06_2002</th><td>  1.4</td><td>  0.2</td><td>  0.0</td></tr>\n",
       "\t<tr><th scope=row>07_2002</th><td>  0.2</td><td>  0.3</td><td>  0.0</td></tr>\n",
       "\t<tr><th scope=row>08_2002</th><td>  0.0</td><td>  0.0</td><td>  0.0</td></tr>\n",
       "\t<tr><th scope=row>09_2002</th><td>  0.2</td><td>  0.1</td><td>  0.0</td></tr>\n",
       "\t<tr><th scope=row>10_2002</th><td>  0.4</td><td>  3.5</td><td>  0.0</td></tr>\n",
       "\t<tr><th scope=row>11_2002</th><td> 71.8</td><td>167.5</td><td> 72.2</td></tr>\n",
       "\t<tr><th scope=row>12_2002</th><td>207.8</td><td>288.7</td><td>126.4</td></tr>\n",
       "\t<tr><th scope=row>01_2003</th><td>329.2</td><td>358.7</td><td>380.0</td></tr>\n",
       "\t<tr><th scope=row>02_2003</th><td>291.1</td><td>315.6</td><td>372.4</td></tr>\n",
       "\t<tr><th scope=row>03_2003</th><td>284.4</td><td>415.2</td><td>350.3</td></tr>\n",
       "\t<tr><th scope=row>04_2003</th><td>127.1</td><td>171.6</td><td>115.0</td></tr>\n",
       "\t<tr><th scope=row>05_2003</th><td>118.9</td><td>125.6</td><td> 80.0</td></tr>\n",
       "\t<tr><th scope=row>06_2003</th><td> 19.2</td><td> 28.1</td><td> 15.0</td></tr>\n",
       "\t<tr><th scope=row>07_2003</th><td>  0.4</td><td>  0.0</td><td>  0.0</td></tr>\n",
       "\t<tr><th scope=row>08_2003</th><td>  0.0</td><td>  0.0</td><td>  0.0</td></tr>\n",
       "\t<tr><th scope=row>09_2003</th><td>  3.2</td><td>  7.0</td><td>  4.4</td></tr>\n",
       "\t<tr><th scope=row>10_2003</th><td> 17.6</td><td> 24.0</td><td>  4.7</td></tr>\n",
       "\t<tr><th scope=row>11_2003</th><td>231.7</td><td>328.0</td><td>158.0</td></tr>\n",
       "\t<tr><th scope=row>12_2003</th><td>302.5</td><td>389.7</td><td>241.4</td></tr>\n",
       "\t<tr><th scope=row>01_2004</th><td>240.8</td><td>335.3</td><td>250.0</td></tr>\n",
       "\t<tr><th scope=row>02_2004</th><td>269.4</td><td>420.9</td><td>259.2</td></tr>\n",
       "\t<tr><th scope=row>03_2004</th><td>317.9</td><td>374.7</td><td>316.3</td></tr>\n",
       "\t<tr><th scope=row>04_2004</th><td> 69.1</td><td>125.1</td><td> 86.6</td></tr>\n",
       "\t<tr><th scope=row>05_2004</th><td> 65.8</td><td> 96.4</td><td> 31.2</td></tr>\n",
       "\t<tr><th scope=row>06_2004</th><td> 21.5</td><td> 13.8</td><td>  1.0</td></tr>\n",
       "\t<tr><th scope=row>07_2004</th><td> 23.1</td><td> 15.1</td><td>  4.8</td></tr>\n",
       "\t<tr><th scope=row>08_2004</th><td>  0.3</td><td>  0.0</td><td>  0.4</td></tr>\n",
       "\t<tr><th scope=row>⋮</th><td>⋮</td><td>⋮</td><td>⋮</td></tr>\n",
       "\t<tr><th scope=row>01_2021</th><td>363.8</td><td>429.4</td><td>394.9</td></tr>\n",
       "\t<tr><th scope=row>02_2021</th><td>355.4</td><td>399.5</td><td>332.3</td></tr>\n",
       "\t<tr><th scope=row>03_2021</th><td>301.9</td><td>370.9</td><td>423.3</td></tr>\n",
       "\t<tr><th scope=row>04_2021</th><td>124.5</td><td>165.8</td><td>203.0</td></tr>\n",
       "\t<tr><th scope=row>05_2021</th><td> 34.4</td><td> 42.9</td><td> 64.9</td></tr>\n",
       "\t<tr><th scope=row>06_2021</th><td>201.2</td><td>205.7</td><td>181.7</td></tr>\n",
       "\t<tr><th scope=row>07_2021</th><td>  5.6</td><td> 18.4</td><td>  5.5</td></tr>\n",
       "\t<tr><th scope=row>08_2021</th><td> 14.6</td><td> 37.2</td><td> 16.3</td></tr>\n",
       "\t<tr><th scope=row>09_2021</th><td> 97.5</td><td>127.4</td><td>119.4</td></tr>\n",
       "\t<tr><th scope=row>10_2021</th><td> 33.3</td><td> 87.6</td><td> 13.8</td></tr>\n",
       "\t<tr><th scope=row>11_2021</th><td>323.2</td><td>485.5</td><td>278.1</td></tr>\n",
       "\t<tr><th scope=row>12_2021</th><td>186.9</td><td>252.7</td><td>202.5</td></tr>\n",
       "\t<tr><th scope=row>01_2022</th><td>311.4</td><td>305.5</td><td>241.8</td></tr>\n",
       "\t<tr><th scope=row>02_2022</th><td>271.4</td><td>278.0</td><td>311.4</td></tr>\n",
       "\t<tr><th scope=row>03_2022</th><td>423.8</td><td>436.2</td><td>344.4</td></tr>\n",
       "\t<tr><th scope=row>04_2022</th><td>151.8</td><td>194.5</td><td>235.0</td></tr>\n",
       "\t<tr><th scope=row>05_2022</th><td>144.2</td><td>172.3</td><td>234.7</td></tr>\n",
       "\t<tr><th scope=row>06_2022</th><td>139.6</td><td>215.7</td><td>167.5</td></tr>\n",
       "\t<tr><th scope=row>07_2022</th><td>  9.4</td><td> 13.8</td><td> 27.5</td></tr>\n",
       "\t<tr><th scope=row>08_2022</th><td> 67.5</td><td> 74.3</td><td> 24.0</td></tr>\n",
       "\t<tr><th scope=row>09_2022</th><td> 40.1</td><td> 95.5</td><td> 57.9</td></tr>\n",
       "\t<tr><th scope=row>10_2022</th><td>481.6</td><td>430.4</td><td>230.7</td></tr>\n",
       "\t<tr><th scope=row>11_2022</th><td>409.4</td><td>506.3</td><td>452.0</td></tr>\n",
       "\t<tr><th scope=row>12_2022</th><td>248.6</td><td>297.8</td><td>262.9</td></tr>\n",
       "\t<tr><th scope=row>01_2023</th><td>144.7</td><td>189.5</td><td>210.3</td></tr>\n",
       "\t<tr><th scope=row>02_2023</th><td>384.3</td><td>387.8</td><td>417.0</td></tr>\n",
       "\t<tr><th scope=row>03_2023</th><td>283.2</td><td>324.5</td><td>312.0</td></tr>\n",
       "\t<tr><th scope=row>04_2023</th><td>196.4</td><td>182.4</td><td>143.9</td></tr>\n",
       "\t<tr><th scope=row>05_2023</th><td>108.7</td><td>128.4</td><td> 43.6</td></tr>\n",
       "\t<tr><th scope=row>06_2023</th><td> 27.1</td><td> 39.3</td><td>  9.6</td></tr>\n",
       "</tbody>\n",
       "</table>\n",
       "</dd>\n",
       "\t<dt>$FIT</dt>\n",
       "\t\t<dd><table class=\"dataframe\">\n",
       "<caption>A matrix: 256 × 3 of type dbl</caption>\n",
       "<tbody>\n",
       "\t<tr><td>294.3904681</td><td>298.3119992</td><td>188.259330447</td></tr>\n",
       "\t<tr><td>174.7875596</td><td>234.8612279</td><td>193.385671569</td></tr>\n",
       "\t<tr><td>160.6787541</td><td>167.8382607</td><td>123.802634514</td></tr>\n",
       "\t<tr><td> 37.9589210</td><td> 72.7589739</td><td> 60.743316894</td></tr>\n",
       "\t<tr><td>  1.5041991</td><td> -8.0004845</td><td> -3.750087622</td></tr>\n",
       "\t<tr><td> -5.8644574</td><td> -5.8706449</td><td>  0.295116915</td></tr>\n",
       "\t<tr><td> -2.6964608</td><td>  0.4369245</td><td>  0.075946206</td></tr>\n",
       "\t<tr><td>  0.2300514</td><td>  0.5124279</td><td> -0.006571606</td></tr>\n",
       "\t<tr><td>  0.7291112</td><td>  2.8784172</td><td>  0.110176685</td></tr>\n",
       "\t<tr><td> 60.5128809</td><td>139.1223106</td><td> 66.353700676</td></tr>\n",
       "\t<tr><td>171.2112312</td><td>254.2632441</td><td>111.090531689</td></tr>\n",
       "\t<tr><td>274.9275721</td><td>325.2665806</td><td>323.204329254</td></tr>\n",
       "\t<tr><td>246.8318828</td><td>293.8563871</td><td>305.010536427</td></tr>\n",
       "\t<tr><td>243.1104358</td><td>356.3410150</td><td>291.027220011</td></tr>\n",
       "\t<tr><td>105.1571187</td><td>153.6966431</td><td> 84.448893759</td></tr>\n",
       "\t<tr><td>100.6816919</td><td> 90.6628482</td><td> 65.540956767</td></tr>\n",
       "\t<tr><td>  7.9729727</td><td> 22.7406053</td><td>  9.332745630</td></tr>\n",
       "\t<tr><td>  0.4948019</td><td> -6.7165729</td><td> -0.752184805</td></tr>\n",
       "\t<tr><td> -4.5091635</td><td> -1.5059157</td><td>  0.134535984</td></tr>\n",
       "\t<tr><td>  2.0076917</td><td>  6.1682877</td><td>  3.955751928</td></tr>\n",
       "\t<tr><td> 14.5682556</td><td> 20.7104042</td><td>  4.496479096</td></tr>\n",
       "\t<tr><td>191.4226966</td><td>277.4193043</td><td>143.506197206</td></tr>\n",
       "\t<tr><td>249.5468191</td><td>355.7335238</td><td>205.816754721</td></tr>\n",
       "\t<tr><td>212.4970551</td><td>296.9410540</td><td>207.317580316</td></tr>\n",
       "\t<tr><td>229.3135818</td><td>355.5917699</td><td>218.762797494</td></tr>\n",
       "\t<tr><td>259.9155970</td><td>331.1598259</td><td>263.883892994</td></tr>\n",
       "\t<tr><td> 61.8170633</td><td>112.0527770</td><td> 60.548932960</td></tr>\n",
       "\t<tr><td> 58.4516690</td><td> 60.3610892</td><td> 25.158831337</td></tr>\n",
       "\t<tr><td>  5.9510573</td><td> 10.3917693</td><td> -0.707878044</td></tr>\n",
       "\t<tr><td> 18.6500013</td><td>  9.1955052</td><td>  4.421467693</td></tr>\n",
       "\t<tr><td>⋮</td><td>⋮</td><td>⋮</td></tr>\n",
       "\t<tr><td>200.5288771</td><td>274.87592</td><td>188.668090</td></tr>\n",
       "\t<tr><td>309.9369082</td><td>369.76627</td><td>334.418741</td></tr>\n",
       "\t<tr><td>291.1318703</td><td>362.15523</td><td>272.914049</td></tr>\n",
       "\t<tr><td>257.2457789</td><td>325.39024</td><td>351.353065</td></tr>\n",
       "\t<tr><td>104.8520138</td><td>149.67157</td><td>156.156029</td></tr>\n",
       "\t<tr><td> 28.8469566</td><td> 22.41824</td><td> 46.977198</td></tr>\n",
       "\t<tr><td>156.1392600</td><td>168.73617</td><td>157.460972</td></tr>\n",
       "\t<tr><td>  0.1127625</td><td> 32.40110</td><td> -4.189866</td></tr>\n",
       "\t<tr><td> 22.6471498</td><td> 15.09860</td><td> 14.663184</td></tr>\n",
       "\t<tr><td> 71.3022019</td><td>110.94932</td><td>103.913666</td></tr>\n",
       "\t<tr><td> 28.8980217</td><td> 81.99092</td><td>  8.337998</td></tr>\n",
       "\t<tr><td>271.8561591</td><td>404.75117</td><td>248.794989</td></tr>\n",
       "\t<tr><td>151.8004139</td><td>250.75953</td><td>161.938800</td></tr>\n",
       "\t<tr><td>273.1150622</td><td>253.61236</td><td>202.920867</td></tr>\n",
       "\t<tr><td>215.6980932</td><td>253.02309</td><td>258.745118</td></tr>\n",
       "\t<tr><td>354.0576314</td><td>380.77452</td><td>289.407633</td></tr>\n",
       "\t<tr><td>125.0241736</td><td>186.40539</td><td>185.925648</td></tr>\n",
       "\t<tr><td>130.1253775</td><td>135.58519</td><td>192.392733</td></tr>\n",
       "\t<tr><td>103.7245474</td><td>184.91757</td><td>137.774562</td></tr>\n",
       "\t<tr><td>  8.3810538</td><td> 15.41194</td><td> 14.789061</td></tr>\n",
       "\t<tr><td> 56.8644836</td><td> 48.99868</td><td> 21.818812</td></tr>\n",
       "\t<tr><td> 27.0508354</td><td> 84.47332</td><td> 50.249949</td></tr>\n",
       "\t<tr><td>395.7445482</td><td>372.40012</td><td>205.175629</td></tr>\n",
       "\t<tr><td>336.0266125</td><td>470.20495</td><td>382.867921</td></tr>\n",
       "\t<tr><td>228.9929435</td><td>270.28543</td><td>207.442259</td></tr>\n",
       "\t<tr><td>121.5953843</td><td>150.52520</td><td>170.222825</td></tr>\n",
       "\t<tr><td>307.4048872</td><td>333.08008</td><td>354.310770</td></tr>\n",
       "\t<tr><td>227.0812655</td><td>306.74169</td><td>252.991802</td></tr>\n",
       "\t<tr><td>175.1734013</td><td>155.74267</td><td>111.551056</td></tr>\n",
       "\t<tr><td> 87.9268782</td><td> 98.42452</td><td> 33.780735</td></tr>\n",
       "</tbody>\n",
       "</table>\n",
       "</dd>\n",
       "\t<dt>$RES</dt>\n",
       "\t\t<dd><table class=\"dataframe\">\n",
       "<caption>A matrix: 256 × 3 of type dbl</caption>\n",
       "<thead>\n",
       "\t<tr><th></th><th scope=col>JATIM_18</th><th scope=col>JATIM_21</th><th scope=col>JATIM_22</th></tr>\n",
       "</thead>\n",
       "<tbody>\n",
       "\t<tr><th scope=row>03_2002</th><td> -81.7904681</td><td> -20.5119992</td><td> 4.554067e+01</td></tr>\n",
       "\t<tr><th scope=row>04_2002</th><td>  22.0124404</td><td> -38.2612279</td><td>-3.988567e+01</td></tr>\n",
       "\t<tr><th scope=row>05_2002</th><td>-110.2787541</td><td> -79.8382607</td><td>-4.570263e+01</td></tr>\n",
       "\t<tr><th scope=row>06_2002</th><td> -36.5589210</td><td> -72.5589739</td><td>-6.074332e+01</td></tr>\n",
       "\t<tr><th scope=row>07_2002</th><td>  -1.3041991</td><td>   8.3004845</td><td> 3.750088e+00</td></tr>\n",
       "\t<tr><th scope=row>08_2002</th><td>   5.8644574</td><td>   5.8706449</td><td>-2.951169e-01</td></tr>\n",
       "\t<tr><th scope=row>09_2002</th><td>   2.8964608</td><td>  -0.3369245</td><td>-7.594621e-02</td></tr>\n",
       "\t<tr><th scope=row>10_2002</th><td>   0.1699486</td><td>   2.9875721</td><td> 6.571606e-03</td></tr>\n",
       "\t<tr><th scope=row>11_2002</th><td>  71.0708888</td><td> 164.6215828</td><td> 7.208982e+01</td></tr>\n",
       "\t<tr><th scope=row>12_2002</th><td> 147.2871191</td><td> 149.5776894</td><td> 6.004630e+01</td></tr>\n",
       "\t<tr><th scope=row>01_2003</th><td> 157.9887688</td><td> 104.4367559</td><td> 2.689095e+02</td></tr>\n",
       "\t<tr><th scope=row>02_2003</th><td>  16.1724279</td><td>  -9.6665806</td><td> 4.919567e+01</td></tr>\n",
       "\t<tr><th scope=row>03_2003</th><td>  37.5681172</td><td> 121.3436129</td><td> 4.528946e+01</td></tr>\n",
       "\t<tr><th scope=row>04_2003</th><td>-116.0104358</td><td>-184.7410150</td><td>-1.760272e+02</td></tr>\n",
       "\t<tr><th scope=row>05_2003</th><td>  13.7428813</td><td> -28.0966431</td><td>-4.448894e+00</td></tr>\n",
       "\t<tr><th scope=row>06_2003</th><td> -81.4816919</td><td> -62.5628482</td><td>-5.054096e+01</td></tr>\n",
       "\t<tr><th scope=row>07_2003</th><td>  -7.5729727</td><td> -22.7406053</td><td>-9.332746e+00</td></tr>\n",
       "\t<tr><th scope=row>08_2003</th><td>  -0.4948019</td><td>   6.7165729</td><td> 7.521848e-01</td></tr>\n",
       "\t<tr><th scope=row>09_2003</th><td>   7.7091635</td><td>   8.5059157</td><td> 4.265464e+00</td></tr>\n",
       "\t<tr><th scope=row>10_2003</th><td>  15.5923083</td><td>  17.8317123</td><td> 7.442481e-01</td></tr>\n",
       "\t<tr><th scope=row>11_2003</th><td> 217.1317444</td><td> 307.2895958</td><td> 1.535035e+02</td></tr>\n",
       "\t<tr><th scope=row>12_2003</th><td> 111.0773034</td><td> 112.2806957</td><td> 9.789380e+01</td></tr>\n",
       "\t<tr><th scope=row>01_2004</th><td>  -8.7468191</td><td> -20.4335238</td><td> 4.418325e+01</td></tr>\n",
       "\t<tr><th scope=row>02_2004</th><td>  56.9029449</td><td> 123.9589460</td><td> 5.188242e+01</td></tr>\n",
       "\t<tr><th scope=row>03_2004</th><td>  88.5864182</td><td>  19.1082301</td><td> 9.753720e+01</td></tr>\n",
       "\t<tr><th scope=row>04_2004</th><td>-190.8155970</td><td>-206.0598259</td><td>-1.772839e+02</td></tr>\n",
       "\t<tr><th scope=row>05_2004</th><td>   3.9829367</td><td> -15.6527770</td><td>-2.934893e+01</td></tr>\n",
       "\t<tr><th scope=row>06_2004</th><td> -36.9516690</td><td> -46.5610892</td><td>-2.415883e+01</td></tr>\n",
       "\t<tr><th scope=row>07_2004</th><td>  17.1489427</td><td>   4.7082307</td><td> 5.507878e+00</td></tr>\n",
       "\t<tr><th scope=row>08_2004</th><td> -18.3500013</td><td>  -9.1955052</td><td>-4.021468e+00</td></tr>\n",
       "\t<tr><th scope=row>⋮</th><td>⋮</td><td>⋮</td><td>⋮</td></tr>\n",
       "\t<tr><th scope=row>01_2021</th><td> 163.271123</td><td> 154.524079</td><td> 206.231910</td></tr>\n",
       "\t<tr><th scope=row>02_2021</th><td>  45.463092</td><td>  29.733734</td><td>  -2.118741</td></tr>\n",
       "\t<tr><th scope=row>03_2021</th><td>  10.768130</td><td>   8.744773</td><td> 150.385951</td></tr>\n",
       "\t<tr><th scope=row>04_2021</th><td>-132.745779</td><td>-159.590236</td><td>-148.353065</td></tr>\n",
       "\t<tr><th scope=row>05_2021</th><td> -70.452014</td><td>-106.771571</td><td> -91.256029</td></tr>\n",
       "\t<tr><th scope=row>06_2021</th><td> 172.353043</td><td> 183.281762</td><td> 134.722802</td></tr>\n",
       "\t<tr><th scope=row>07_2021</th><td>-150.539260</td><td>-150.336168</td><td>-151.960972</td></tr>\n",
       "\t<tr><th scope=row>08_2021</th><td>  14.487237</td><td>   4.798898</td><td>  20.489866</td></tr>\n",
       "\t<tr><th scope=row>09_2021</th><td>  74.852850</td><td> 112.301404</td><td> 104.736816</td></tr>\n",
       "\t<tr><th scope=row>10_2021</th><td> -38.002202</td><td> -23.349321</td><td> -90.113666</td></tr>\n",
       "\t<tr><th scope=row>11_2021</th><td> 294.301978</td><td> 403.509078</td><td> 269.762002</td></tr>\n",
       "\t<tr><th scope=row>12_2021</th><td> -84.956159</td><td>-152.051168</td><td> -46.294989</td></tr>\n",
       "\t<tr><th scope=row>01_2022</th><td> 159.599586</td><td>  54.740472</td><td>  79.861200</td></tr>\n",
       "\t<tr><th scope=row>02_2022</th><td>  -1.715062</td><td>  24.387641</td><td> 108.479133</td></tr>\n",
       "\t<tr><th scope=row>03_2022</th><td> 208.101907</td><td> 183.176906</td><td>  85.654882</td></tr>\n",
       "\t<tr><th scope=row>04_2022</th><td>-202.257631</td><td>-186.274519</td><td> -54.407633</td></tr>\n",
       "\t<tr><th scope=row>05_2022</th><td>  19.175826</td><td> -14.105385</td><td>  48.774352</td></tr>\n",
       "\t<tr><th scope=row>06_2022</th><td>   9.474622</td><td>  80.114815</td><td> -24.892733</td></tr>\n",
       "\t<tr><th scope=row>07_2022</th><td> -94.324547</td><td>-171.117572</td><td>-110.274562</td></tr>\n",
       "\t<tr><th scope=row>08_2022</th><td>  59.118946</td><td>  58.888060</td><td>   9.210939</td></tr>\n",
       "\t<tr><th scope=row>09_2022</th><td> -16.764484</td><td>  46.501321</td><td>  36.081188</td></tr>\n",
       "\t<tr><th scope=row>10_2022</th><td> 454.549165</td><td> 345.926679</td><td> 180.450051</td></tr>\n",
       "\t<tr><th scope=row>11_2022</th><td>  13.655452</td><td> 133.899878</td><td> 246.824371</td></tr>\n",
       "\t<tr><th scope=row>12_2022</th><td> -87.426612</td><td>-172.404951</td><td>-119.967921</td></tr>\n",
       "\t<tr><th scope=row>01_2023</th><td> -84.292943</td><td> -80.785431</td><td>   2.857741</td></tr>\n",
       "\t<tr><th scope=row>02_2023</th><td> 262.704616</td><td> 237.274797</td><td> 246.777175</td></tr>\n",
       "\t<tr><th scope=row>03_2023</th><td> -24.204887</td><td>  -8.580076</td><td> -42.310770</td></tr>\n",
       "\t<tr><th scope=row>04_2023</th><td> -30.681266</td><td>-124.341689</td><td>-109.091802</td></tr>\n",
       "\t<tr><th scope=row>05_2023</th><td> -66.473401</td><td> -27.342674</td><td> -67.951056</td></tr>\n",
       "\t<tr><th scope=row>06_2023</th><td> -60.826878</td><td> -59.124521</td><td> -24.180735</td></tr>\n",
       "</tbody>\n",
       "</table>\n",
       "</dd>\n",
       "\t<dt>$P</dt>\n",
       "\t\t<dd>1</dd>\n",
       "\t<dt>$D</dt>\n",
       "\t\t<dd>0</dd>\n",
       "\t<dt>$Q</dt>\n",
       "\t\t<dd>1</dd>\n",
       "\t<dt>$W</dt>\n",
       "\t\t<dd><strong>$w1</strong> = <table class=\"dataframe\">\n",
       "<caption>A matrix: 3 × 3 of type dbl</caption>\n",
       "<tbody>\n",
       "\t<tr><th scope=row>1</th><td>0.0</td><td>1</td><td>0.0</td></tr>\n",
       "\t<tr><th scope=row>2</th><td>0.5</td><td>0</td><td>0.5</td></tr>\n",
       "\t<tr><th scope=row>3</th><td>0.0</td><td>1</td><td>0.0</td></tr>\n",
       "</tbody>\n",
       "</table>\n",
       "</dd>\n",
       "</dl>\n"
      ],
      "text/latex": [
       "\\begin{description}\n",
       "\\item[\\$BETA] \\begin{enumerate*}\n",
       "\\item 0.797997470217842\n",
       "\\item 0.0369567846867257\n",
       "\\item 0.0437192016819112\n",
       "\\item 0.0302687295454773\n",
       "\\end{enumerate*}\n",
       "\n",
       "\\item[\\$PVAL] \\begin{enumerate*}\n",
       "\\item 3.68187115373472e-60\n",
       "\\item 0.33956856744071\n",
       "\\item 0.522465881529789\n",
       "\\item 0.620641425369113\n",
       "\\end{enumerate*}\n",
       "\n",
       "\\item[\\$NRMSE] \\begin{enumerate*}\n",
       "\\item 0.801877264281635\n",
       "\\item 0.790439208480748\n",
       "\\item 0.759768349835294\n",
       "\\end{enumerate*}\n",
       "\n",
       "\\item[\\$OBS] A matrix: 256 × 3 of type dbl\n",
       "\\begin{tabular}{r|lll}\n",
       "  & JATIM\\_18 & JATIM\\_21 & JATIM\\_22\\\\\n",
       "\\hline\n",
       "\t03\\_2002 & 212.6 & 277.8 & 233.8\\\\\n",
       "\t04\\_2002 & 196.8 & 196.6 & 153.5\\\\\n",
       "\t05\\_2002 &  50.4 &  88.0 &  78.1\\\\\n",
       "\t06\\_2002 &   1.4 &   0.2 &   0.0\\\\\n",
       "\t07\\_2002 &   0.2 &   0.3 &   0.0\\\\\n",
       "\t08\\_2002 &   0.0 &   0.0 &   0.0\\\\\n",
       "\t09\\_2002 &   0.2 &   0.1 &   0.0\\\\\n",
       "\t10\\_2002 &   0.4 &   3.5 &   0.0\\\\\n",
       "\t11\\_2002 &  71.8 & 167.5 &  72.2\\\\\n",
       "\t12\\_2002 & 207.8 & 288.7 & 126.4\\\\\n",
       "\t01\\_2003 & 329.2 & 358.7 & 380.0\\\\\n",
       "\t02\\_2003 & 291.1 & 315.6 & 372.4\\\\\n",
       "\t03\\_2003 & 284.4 & 415.2 & 350.3\\\\\n",
       "\t04\\_2003 & 127.1 & 171.6 & 115.0\\\\\n",
       "\t05\\_2003 & 118.9 & 125.6 &  80.0\\\\\n",
       "\t06\\_2003 &  19.2 &  28.1 &  15.0\\\\\n",
       "\t07\\_2003 &   0.4 &   0.0 &   0.0\\\\\n",
       "\t08\\_2003 &   0.0 &   0.0 &   0.0\\\\\n",
       "\t09\\_2003 &   3.2 &   7.0 &   4.4\\\\\n",
       "\t10\\_2003 &  17.6 &  24.0 &   4.7\\\\\n",
       "\t11\\_2003 & 231.7 & 328.0 & 158.0\\\\\n",
       "\t12\\_2003 & 302.5 & 389.7 & 241.4\\\\\n",
       "\t01\\_2004 & 240.8 & 335.3 & 250.0\\\\\n",
       "\t02\\_2004 & 269.4 & 420.9 & 259.2\\\\\n",
       "\t03\\_2004 & 317.9 & 374.7 & 316.3\\\\\n",
       "\t04\\_2004 &  69.1 & 125.1 &  86.6\\\\\n",
       "\t05\\_2004 &  65.8 &  96.4 &  31.2\\\\\n",
       "\t06\\_2004 &  21.5 &  13.8 &   1.0\\\\\n",
       "\t07\\_2004 &  23.1 &  15.1 &   4.8\\\\\n",
       "\t08\\_2004 &   0.3 &   0.0 &   0.4\\\\\n",
       "\t⋮ & ⋮ & ⋮ & ⋮\\\\\n",
       "\t01\\_2021 & 363.8 & 429.4 & 394.9\\\\\n",
       "\t02\\_2021 & 355.4 & 399.5 & 332.3\\\\\n",
       "\t03\\_2021 & 301.9 & 370.9 & 423.3\\\\\n",
       "\t04\\_2021 & 124.5 & 165.8 & 203.0\\\\\n",
       "\t05\\_2021 &  34.4 &  42.9 &  64.9\\\\\n",
       "\t06\\_2021 & 201.2 & 205.7 & 181.7\\\\\n",
       "\t07\\_2021 &   5.6 &  18.4 &   5.5\\\\\n",
       "\t08\\_2021 &  14.6 &  37.2 &  16.3\\\\\n",
       "\t09\\_2021 &  97.5 & 127.4 & 119.4\\\\\n",
       "\t10\\_2021 &  33.3 &  87.6 &  13.8\\\\\n",
       "\t11\\_2021 & 323.2 & 485.5 & 278.1\\\\\n",
       "\t12\\_2021 & 186.9 & 252.7 & 202.5\\\\\n",
       "\t01\\_2022 & 311.4 & 305.5 & 241.8\\\\\n",
       "\t02\\_2022 & 271.4 & 278.0 & 311.4\\\\\n",
       "\t03\\_2022 & 423.8 & 436.2 & 344.4\\\\\n",
       "\t04\\_2022 & 151.8 & 194.5 & 235.0\\\\\n",
       "\t05\\_2022 & 144.2 & 172.3 & 234.7\\\\\n",
       "\t06\\_2022 & 139.6 & 215.7 & 167.5\\\\\n",
       "\t07\\_2022 &   9.4 &  13.8 &  27.5\\\\\n",
       "\t08\\_2022 &  67.5 &  74.3 &  24.0\\\\\n",
       "\t09\\_2022 &  40.1 &  95.5 &  57.9\\\\\n",
       "\t10\\_2022 & 481.6 & 430.4 & 230.7\\\\\n",
       "\t11\\_2022 & 409.4 & 506.3 & 452.0\\\\\n",
       "\t12\\_2022 & 248.6 & 297.8 & 262.9\\\\\n",
       "\t01\\_2023 & 144.7 & 189.5 & 210.3\\\\\n",
       "\t02\\_2023 & 384.3 & 387.8 & 417.0\\\\\n",
       "\t03\\_2023 & 283.2 & 324.5 & 312.0\\\\\n",
       "\t04\\_2023 & 196.4 & 182.4 & 143.9\\\\\n",
       "\t05\\_2023 & 108.7 & 128.4 &  43.6\\\\\n",
       "\t06\\_2023 &  27.1 &  39.3 &   9.6\\\\\n",
       "\\end{tabular}\n",
       "\n",
       "\\item[\\$FIT] A matrix: 256 × 3 of type dbl\n",
       "\\begin{tabular}{lll}\n",
       "\t 294.3904681 & 298.3119992 & 188.259330447\\\\\n",
       "\t 174.7875596 & 234.8612279 & 193.385671569\\\\\n",
       "\t 160.6787541 & 167.8382607 & 123.802634514\\\\\n",
       "\t  37.9589210 &  72.7589739 &  60.743316894\\\\\n",
       "\t   1.5041991 &  -8.0004845 &  -3.750087622\\\\\n",
       "\t  -5.8644574 &  -5.8706449 &   0.295116915\\\\\n",
       "\t  -2.6964608 &   0.4369245 &   0.075946206\\\\\n",
       "\t   0.2300514 &   0.5124279 &  -0.006571606\\\\\n",
       "\t   0.7291112 &   2.8784172 &   0.110176685\\\\\n",
       "\t  60.5128809 & 139.1223106 &  66.353700676\\\\\n",
       "\t 171.2112312 & 254.2632441 & 111.090531689\\\\\n",
       "\t 274.9275721 & 325.2665806 & 323.204329254\\\\\n",
       "\t 246.8318828 & 293.8563871 & 305.010536427\\\\\n",
       "\t 243.1104358 & 356.3410150 & 291.027220011\\\\\n",
       "\t 105.1571187 & 153.6966431 &  84.448893759\\\\\n",
       "\t 100.6816919 &  90.6628482 &  65.540956767\\\\\n",
       "\t   7.9729727 &  22.7406053 &   9.332745630\\\\\n",
       "\t   0.4948019 &  -6.7165729 &  -0.752184805\\\\\n",
       "\t  -4.5091635 &  -1.5059157 &   0.134535984\\\\\n",
       "\t   2.0076917 &   6.1682877 &   3.955751928\\\\\n",
       "\t  14.5682556 &  20.7104042 &   4.496479096\\\\\n",
       "\t 191.4226966 & 277.4193043 & 143.506197206\\\\\n",
       "\t 249.5468191 & 355.7335238 & 205.816754721\\\\\n",
       "\t 212.4970551 & 296.9410540 & 207.317580316\\\\\n",
       "\t 229.3135818 & 355.5917699 & 218.762797494\\\\\n",
       "\t 259.9155970 & 331.1598259 & 263.883892994\\\\\n",
       "\t  61.8170633 & 112.0527770 &  60.548932960\\\\\n",
       "\t  58.4516690 &  60.3610892 &  25.158831337\\\\\n",
       "\t   5.9510573 &  10.3917693 &  -0.707878044\\\\\n",
       "\t  18.6500013 &   9.1955052 &   4.421467693\\\\\n",
       "\t ⋮ & ⋮ & ⋮\\\\\n",
       "\t 200.5288771 & 274.87592 & 188.668090\\\\\n",
       "\t 309.9369082 & 369.76627 & 334.418741\\\\\n",
       "\t 291.1318703 & 362.15523 & 272.914049\\\\\n",
       "\t 257.2457789 & 325.39024 & 351.353065\\\\\n",
       "\t 104.8520138 & 149.67157 & 156.156029\\\\\n",
       "\t  28.8469566 &  22.41824 &  46.977198\\\\\n",
       "\t 156.1392600 & 168.73617 & 157.460972\\\\\n",
       "\t   0.1127625 &  32.40110 &  -4.189866\\\\\n",
       "\t  22.6471498 &  15.09860 &  14.663184\\\\\n",
       "\t  71.3022019 & 110.94932 & 103.913666\\\\\n",
       "\t  28.8980217 &  81.99092 &   8.337998\\\\\n",
       "\t 271.8561591 & 404.75117 & 248.794989\\\\\n",
       "\t 151.8004139 & 250.75953 & 161.938800\\\\\n",
       "\t 273.1150622 & 253.61236 & 202.920867\\\\\n",
       "\t 215.6980932 & 253.02309 & 258.745118\\\\\n",
       "\t 354.0576314 & 380.77452 & 289.407633\\\\\n",
       "\t 125.0241736 & 186.40539 & 185.925648\\\\\n",
       "\t 130.1253775 & 135.58519 & 192.392733\\\\\n",
       "\t 103.7245474 & 184.91757 & 137.774562\\\\\n",
       "\t   8.3810538 &  15.41194 &  14.789061\\\\\n",
       "\t  56.8644836 &  48.99868 &  21.818812\\\\\n",
       "\t  27.0508354 &  84.47332 &  50.249949\\\\\n",
       "\t 395.7445482 & 372.40012 & 205.175629\\\\\n",
       "\t 336.0266125 & 470.20495 & 382.867921\\\\\n",
       "\t 228.9929435 & 270.28543 & 207.442259\\\\\n",
       "\t 121.5953843 & 150.52520 & 170.222825\\\\\n",
       "\t 307.4048872 & 333.08008 & 354.310770\\\\\n",
       "\t 227.0812655 & 306.74169 & 252.991802\\\\\n",
       "\t 175.1734013 & 155.74267 & 111.551056\\\\\n",
       "\t  87.9268782 &  98.42452 &  33.780735\\\\\n",
       "\\end{tabular}\n",
       "\n",
       "\\item[\\$RES] A matrix: 256 × 3 of type dbl\n",
       "\\begin{tabular}{r|lll}\n",
       "  & JATIM\\_18 & JATIM\\_21 & JATIM\\_22\\\\\n",
       "\\hline\n",
       "\t03\\_2002 &  -81.7904681 &  -20.5119992 &  4.554067e+01\\\\\n",
       "\t04\\_2002 &   22.0124404 &  -38.2612279 & -3.988567e+01\\\\\n",
       "\t05\\_2002 & -110.2787541 &  -79.8382607 & -4.570263e+01\\\\\n",
       "\t06\\_2002 &  -36.5589210 &  -72.5589739 & -6.074332e+01\\\\\n",
       "\t07\\_2002 &   -1.3041991 &    8.3004845 &  3.750088e+00\\\\\n",
       "\t08\\_2002 &    5.8644574 &    5.8706449 & -2.951169e-01\\\\\n",
       "\t09\\_2002 &    2.8964608 &   -0.3369245 & -7.594621e-02\\\\\n",
       "\t10\\_2002 &    0.1699486 &    2.9875721 &  6.571606e-03\\\\\n",
       "\t11\\_2002 &   71.0708888 &  164.6215828 &  7.208982e+01\\\\\n",
       "\t12\\_2002 &  147.2871191 &  149.5776894 &  6.004630e+01\\\\\n",
       "\t01\\_2003 &  157.9887688 &  104.4367559 &  2.689095e+02\\\\\n",
       "\t02\\_2003 &   16.1724279 &   -9.6665806 &  4.919567e+01\\\\\n",
       "\t03\\_2003 &   37.5681172 &  121.3436129 &  4.528946e+01\\\\\n",
       "\t04\\_2003 & -116.0104358 & -184.7410150 & -1.760272e+02\\\\\n",
       "\t05\\_2003 &   13.7428813 &  -28.0966431 & -4.448894e+00\\\\\n",
       "\t06\\_2003 &  -81.4816919 &  -62.5628482 & -5.054096e+01\\\\\n",
       "\t07\\_2003 &   -7.5729727 &  -22.7406053 & -9.332746e+00\\\\\n",
       "\t08\\_2003 &   -0.4948019 &    6.7165729 &  7.521848e-01\\\\\n",
       "\t09\\_2003 &    7.7091635 &    8.5059157 &  4.265464e+00\\\\\n",
       "\t10\\_2003 &   15.5923083 &   17.8317123 &  7.442481e-01\\\\\n",
       "\t11\\_2003 &  217.1317444 &  307.2895958 &  1.535035e+02\\\\\n",
       "\t12\\_2003 &  111.0773034 &  112.2806957 &  9.789380e+01\\\\\n",
       "\t01\\_2004 &   -8.7468191 &  -20.4335238 &  4.418325e+01\\\\\n",
       "\t02\\_2004 &   56.9029449 &  123.9589460 &  5.188242e+01\\\\\n",
       "\t03\\_2004 &   88.5864182 &   19.1082301 &  9.753720e+01\\\\\n",
       "\t04\\_2004 & -190.8155970 & -206.0598259 & -1.772839e+02\\\\\n",
       "\t05\\_2004 &    3.9829367 &  -15.6527770 & -2.934893e+01\\\\\n",
       "\t06\\_2004 &  -36.9516690 &  -46.5610892 & -2.415883e+01\\\\\n",
       "\t07\\_2004 &   17.1489427 &    4.7082307 &  5.507878e+00\\\\\n",
       "\t08\\_2004 &  -18.3500013 &   -9.1955052 & -4.021468e+00\\\\\n",
       "\t⋮ & ⋮ & ⋮ & ⋮\\\\\n",
       "\t01\\_2021 &  163.271123 &  154.524079 &  206.231910\\\\\n",
       "\t02\\_2021 &   45.463092 &   29.733734 &   -2.118741\\\\\n",
       "\t03\\_2021 &   10.768130 &    8.744773 &  150.385951\\\\\n",
       "\t04\\_2021 & -132.745779 & -159.590236 & -148.353065\\\\\n",
       "\t05\\_2021 &  -70.452014 & -106.771571 &  -91.256029\\\\\n",
       "\t06\\_2021 &  172.353043 &  183.281762 &  134.722802\\\\\n",
       "\t07\\_2021 & -150.539260 & -150.336168 & -151.960972\\\\\n",
       "\t08\\_2021 &   14.487237 &    4.798898 &   20.489866\\\\\n",
       "\t09\\_2021 &   74.852850 &  112.301404 &  104.736816\\\\\n",
       "\t10\\_2021 &  -38.002202 &  -23.349321 &  -90.113666\\\\\n",
       "\t11\\_2021 &  294.301978 &  403.509078 &  269.762002\\\\\n",
       "\t12\\_2021 &  -84.956159 & -152.051168 &  -46.294989\\\\\n",
       "\t01\\_2022 &  159.599586 &   54.740472 &   79.861200\\\\\n",
       "\t02\\_2022 &   -1.715062 &   24.387641 &  108.479133\\\\\n",
       "\t03\\_2022 &  208.101907 &  183.176906 &   85.654882\\\\\n",
       "\t04\\_2022 & -202.257631 & -186.274519 &  -54.407633\\\\\n",
       "\t05\\_2022 &   19.175826 &  -14.105385 &   48.774352\\\\\n",
       "\t06\\_2022 &    9.474622 &   80.114815 &  -24.892733\\\\\n",
       "\t07\\_2022 &  -94.324547 & -171.117572 & -110.274562\\\\\n",
       "\t08\\_2022 &   59.118946 &   58.888060 &    9.210939\\\\\n",
       "\t09\\_2022 &  -16.764484 &   46.501321 &   36.081188\\\\\n",
       "\t10\\_2022 &  454.549165 &  345.926679 &  180.450051\\\\\n",
       "\t11\\_2022 &   13.655452 &  133.899878 &  246.824371\\\\\n",
       "\t12\\_2022 &  -87.426612 & -172.404951 & -119.967921\\\\\n",
       "\t01\\_2023 &  -84.292943 &  -80.785431 &    2.857741\\\\\n",
       "\t02\\_2023 &  262.704616 &  237.274797 &  246.777175\\\\\n",
       "\t03\\_2023 &  -24.204887 &   -8.580076 &  -42.310770\\\\\n",
       "\t04\\_2023 &  -30.681266 & -124.341689 & -109.091802\\\\\n",
       "\t05\\_2023 &  -66.473401 &  -27.342674 &  -67.951056\\\\\n",
       "\t06\\_2023 &  -60.826878 &  -59.124521 &  -24.180735\\\\\n",
       "\\end{tabular}\n",
       "\n",
       "\\item[\\$P] 1\n",
       "\\item[\\$D] 0\n",
       "\\item[\\$Q] 1\n",
       "\\item[\\$W] \\textbf{\\$w1} = A matrix: 3 × 3 of type dbl\n",
       "\\begin{tabular}{r|lll}\n",
       "\t1 & 0.0 & 1 & 0.0\\\\\n",
       "\t2 & 0.5 & 0 & 0.5\\\\\n",
       "\t3 & 0.0 & 1 & 0.0\\\\\n",
       "\\end{tabular}\n",
       "\n",
       "\\end{description}\n"
      ],
      "text/markdown": [
       "$BETA\n",
       ":   1. 0.797997470217842\n",
       "2. 0.0369567846867257\n",
       "3. 0.0437192016819112\n",
       "4. 0.0302687295454773\n",
       "\n",
       "\n",
       "\n",
       "$PVAL\n",
       ":   1. 3.68187115373472e-60\n",
       "2. 0.33956856744071\n",
       "3. 0.522465881529789\n",
       "4. 0.620641425369113\n",
       "\n",
       "\n",
       "\n",
       "$NRMSE\n",
       ":   1. 0.801877264281635\n",
       "2. 0.790439208480748\n",
       "3. 0.759768349835294\n",
       "\n",
       "\n",
       "\n",
       "$OBS\n",
       ":   \n",
       "A matrix: 256 × 3 of type dbl\n",
       "\n",
       "| <!--/--> | JATIM_18 | JATIM_21 | JATIM_22 |\n",
       "|---|---|---|---|\n",
       "| 03_2002 | 212.6 | 277.8 | 233.8 |\n",
       "| 04_2002 | 196.8 | 196.6 | 153.5 |\n",
       "| 05_2002 |  50.4 |  88.0 |  78.1 |\n",
       "| 06_2002 |   1.4 |   0.2 |   0.0 |\n",
       "| 07_2002 |   0.2 |   0.3 |   0.0 |\n",
       "| 08_2002 |   0.0 |   0.0 |   0.0 |\n",
       "| 09_2002 |   0.2 |   0.1 |   0.0 |\n",
       "| 10_2002 |   0.4 |   3.5 |   0.0 |\n",
       "| 11_2002 |  71.8 | 167.5 |  72.2 |\n",
       "| 12_2002 | 207.8 | 288.7 | 126.4 |\n",
       "| 01_2003 | 329.2 | 358.7 | 380.0 |\n",
       "| 02_2003 | 291.1 | 315.6 | 372.4 |\n",
       "| 03_2003 | 284.4 | 415.2 | 350.3 |\n",
       "| 04_2003 | 127.1 | 171.6 | 115.0 |\n",
       "| 05_2003 | 118.9 | 125.6 |  80.0 |\n",
       "| 06_2003 |  19.2 |  28.1 |  15.0 |\n",
       "| 07_2003 |   0.4 |   0.0 |   0.0 |\n",
       "| 08_2003 |   0.0 |   0.0 |   0.0 |\n",
       "| 09_2003 |   3.2 |   7.0 |   4.4 |\n",
       "| 10_2003 |  17.6 |  24.0 |   4.7 |\n",
       "| 11_2003 | 231.7 | 328.0 | 158.0 |\n",
       "| 12_2003 | 302.5 | 389.7 | 241.4 |\n",
       "| 01_2004 | 240.8 | 335.3 | 250.0 |\n",
       "| 02_2004 | 269.4 | 420.9 | 259.2 |\n",
       "| 03_2004 | 317.9 | 374.7 | 316.3 |\n",
       "| 04_2004 |  69.1 | 125.1 |  86.6 |\n",
       "| 05_2004 |  65.8 |  96.4 |  31.2 |\n",
       "| 06_2004 |  21.5 |  13.8 |   1.0 |\n",
       "| 07_2004 |  23.1 |  15.1 |   4.8 |\n",
       "| 08_2004 |   0.3 |   0.0 |   0.4 |\n",
       "| ⋮ | ⋮ | ⋮ | ⋮ |\n",
       "| 01_2021 | 363.8 | 429.4 | 394.9 |\n",
       "| 02_2021 | 355.4 | 399.5 | 332.3 |\n",
       "| 03_2021 | 301.9 | 370.9 | 423.3 |\n",
       "| 04_2021 | 124.5 | 165.8 | 203.0 |\n",
       "| 05_2021 |  34.4 |  42.9 |  64.9 |\n",
       "| 06_2021 | 201.2 | 205.7 | 181.7 |\n",
       "| 07_2021 |   5.6 |  18.4 |   5.5 |\n",
       "| 08_2021 |  14.6 |  37.2 |  16.3 |\n",
       "| 09_2021 |  97.5 | 127.4 | 119.4 |\n",
       "| 10_2021 |  33.3 |  87.6 |  13.8 |\n",
       "| 11_2021 | 323.2 | 485.5 | 278.1 |\n",
       "| 12_2021 | 186.9 | 252.7 | 202.5 |\n",
       "| 01_2022 | 311.4 | 305.5 | 241.8 |\n",
       "| 02_2022 | 271.4 | 278.0 | 311.4 |\n",
       "| 03_2022 | 423.8 | 436.2 | 344.4 |\n",
       "| 04_2022 | 151.8 | 194.5 | 235.0 |\n",
       "| 05_2022 | 144.2 | 172.3 | 234.7 |\n",
       "| 06_2022 | 139.6 | 215.7 | 167.5 |\n",
       "| 07_2022 |   9.4 |  13.8 |  27.5 |\n",
       "| 08_2022 |  67.5 |  74.3 |  24.0 |\n",
       "| 09_2022 |  40.1 |  95.5 |  57.9 |\n",
       "| 10_2022 | 481.6 | 430.4 | 230.7 |\n",
       "| 11_2022 | 409.4 | 506.3 | 452.0 |\n",
       "| 12_2022 | 248.6 | 297.8 | 262.9 |\n",
       "| 01_2023 | 144.7 | 189.5 | 210.3 |\n",
       "| 02_2023 | 384.3 | 387.8 | 417.0 |\n",
       "| 03_2023 | 283.2 | 324.5 | 312.0 |\n",
       "| 04_2023 | 196.4 | 182.4 | 143.9 |\n",
       "| 05_2023 | 108.7 | 128.4 |  43.6 |\n",
       "| 06_2023 |  27.1 |  39.3 |   9.6 |\n",
       "\n",
       "\n",
       "$FIT\n",
       ":   \n",
       "A matrix: 256 × 3 of type dbl\n",
       "\n",
       "| 294.3904681 | 298.3119992 | 188.259330447 |\n",
       "| 174.7875596 | 234.8612279 | 193.385671569 |\n",
       "| 160.6787541 | 167.8382607 | 123.802634514 |\n",
       "|  37.9589210 |  72.7589739 |  60.743316894 |\n",
       "|   1.5041991 |  -8.0004845 |  -3.750087622 |\n",
       "|  -5.8644574 |  -5.8706449 |   0.295116915 |\n",
       "|  -2.6964608 |   0.4369245 |   0.075946206 |\n",
       "|   0.2300514 |   0.5124279 |  -0.006571606 |\n",
       "|   0.7291112 |   2.8784172 |   0.110176685 |\n",
       "|  60.5128809 | 139.1223106 |  66.353700676 |\n",
       "| 171.2112312 | 254.2632441 | 111.090531689 |\n",
       "| 274.9275721 | 325.2665806 | 323.204329254 |\n",
       "| 246.8318828 | 293.8563871 | 305.010536427 |\n",
       "| 243.1104358 | 356.3410150 | 291.027220011 |\n",
       "| 105.1571187 | 153.6966431 |  84.448893759 |\n",
       "| 100.6816919 |  90.6628482 |  65.540956767 |\n",
       "|   7.9729727 |  22.7406053 |   9.332745630 |\n",
       "|   0.4948019 |  -6.7165729 |  -0.752184805 |\n",
       "|  -4.5091635 |  -1.5059157 |   0.134535984 |\n",
       "|   2.0076917 |   6.1682877 |   3.955751928 |\n",
       "|  14.5682556 |  20.7104042 |   4.496479096 |\n",
       "| 191.4226966 | 277.4193043 | 143.506197206 |\n",
       "| 249.5468191 | 355.7335238 | 205.816754721 |\n",
       "| 212.4970551 | 296.9410540 | 207.317580316 |\n",
       "| 229.3135818 | 355.5917699 | 218.762797494 |\n",
       "| 259.9155970 | 331.1598259 | 263.883892994 |\n",
       "|  61.8170633 | 112.0527770 |  60.548932960 |\n",
       "|  58.4516690 |  60.3610892 |  25.158831337 |\n",
       "|   5.9510573 |  10.3917693 |  -0.707878044 |\n",
       "|  18.6500013 |   9.1955052 |   4.421467693 |\n",
       "| ⋮ | ⋮ | ⋮ |\n",
       "| 200.5288771 | 274.87592 | 188.668090 |\n",
       "| 309.9369082 | 369.76627 | 334.418741 |\n",
       "| 291.1318703 | 362.15523 | 272.914049 |\n",
       "| 257.2457789 | 325.39024 | 351.353065 |\n",
       "| 104.8520138 | 149.67157 | 156.156029 |\n",
       "|  28.8469566 |  22.41824 |  46.977198 |\n",
       "| 156.1392600 | 168.73617 | 157.460972 |\n",
       "|   0.1127625 |  32.40110 |  -4.189866 |\n",
       "|  22.6471498 |  15.09860 |  14.663184 |\n",
       "|  71.3022019 | 110.94932 | 103.913666 |\n",
       "|  28.8980217 |  81.99092 |   8.337998 |\n",
       "| 271.8561591 | 404.75117 | 248.794989 |\n",
       "| 151.8004139 | 250.75953 | 161.938800 |\n",
       "| 273.1150622 | 253.61236 | 202.920867 |\n",
       "| 215.6980932 | 253.02309 | 258.745118 |\n",
       "| 354.0576314 | 380.77452 | 289.407633 |\n",
       "| 125.0241736 | 186.40539 | 185.925648 |\n",
       "| 130.1253775 | 135.58519 | 192.392733 |\n",
       "| 103.7245474 | 184.91757 | 137.774562 |\n",
       "|   8.3810538 |  15.41194 |  14.789061 |\n",
       "|  56.8644836 |  48.99868 |  21.818812 |\n",
       "|  27.0508354 |  84.47332 |  50.249949 |\n",
       "| 395.7445482 | 372.40012 | 205.175629 |\n",
       "| 336.0266125 | 470.20495 | 382.867921 |\n",
       "| 228.9929435 | 270.28543 | 207.442259 |\n",
       "| 121.5953843 | 150.52520 | 170.222825 |\n",
       "| 307.4048872 | 333.08008 | 354.310770 |\n",
       "| 227.0812655 | 306.74169 | 252.991802 |\n",
       "| 175.1734013 | 155.74267 | 111.551056 |\n",
       "|  87.9268782 |  98.42452 |  33.780735 |\n",
       "\n",
       "\n",
       "$RES\n",
       ":   \n",
       "A matrix: 256 × 3 of type dbl\n",
       "\n",
       "| <!--/--> | JATIM_18 | JATIM_21 | JATIM_22 |\n",
       "|---|---|---|---|\n",
       "| 03_2002 |  -81.7904681 |  -20.5119992 |  4.554067e+01 |\n",
       "| 04_2002 |   22.0124404 |  -38.2612279 | -3.988567e+01 |\n",
       "| 05_2002 | -110.2787541 |  -79.8382607 | -4.570263e+01 |\n",
       "| 06_2002 |  -36.5589210 |  -72.5589739 | -6.074332e+01 |\n",
       "| 07_2002 |   -1.3041991 |    8.3004845 |  3.750088e+00 |\n",
       "| 08_2002 |    5.8644574 |    5.8706449 | -2.951169e-01 |\n",
       "| 09_2002 |    2.8964608 |   -0.3369245 | -7.594621e-02 |\n",
       "| 10_2002 |    0.1699486 |    2.9875721 |  6.571606e-03 |\n",
       "| 11_2002 |   71.0708888 |  164.6215828 |  7.208982e+01 |\n",
       "| 12_2002 |  147.2871191 |  149.5776894 |  6.004630e+01 |\n",
       "| 01_2003 |  157.9887688 |  104.4367559 |  2.689095e+02 |\n",
       "| 02_2003 |   16.1724279 |   -9.6665806 |  4.919567e+01 |\n",
       "| 03_2003 |   37.5681172 |  121.3436129 |  4.528946e+01 |\n",
       "| 04_2003 | -116.0104358 | -184.7410150 | -1.760272e+02 |\n",
       "| 05_2003 |   13.7428813 |  -28.0966431 | -4.448894e+00 |\n",
       "| 06_2003 |  -81.4816919 |  -62.5628482 | -5.054096e+01 |\n",
       "| 07_2003 |   -7.5729727 |  -22.7406053 | -9.332746e+00 |\n",
       "| 08_2003 |   -0.4948019 |    6.7165729 |  7.521848e-01 |\n",
       "| 09_2003 |    7.7091635 |    8.5059157 |  4.265464e+00 |\n",
       "| 10_2003 |   15.5923083 |   17.8317123 |  7.442481e-01 |\n",
       "| 11_2003 |  217.1317444 |  307.2895958 |  1.535035e+02 |\n",
       "| 12_2003 |  111.0773034 |  112.2806957 |  9.789380e+01 |\n",
       "| 01_2004 |   -8.7468191 |  -20.4335238 |  4.418325e+01 |\n",
       "| 02_2004 |   56.9029449 |  123.9589460 |  5.188242e+01 |\n",
       "| 03_2004 |   88.5864182 |   19.1082301 |  9.753720e+01 |\n",
       "| 04_2004 | -190.8155970 | -206.0598259 | -1.772839e+02 |\n",
       "| 05_2004 |    3.9829367 |  -15.6527770 | -2.934893e+01 |\n",
       "| 06_2004 |  -36.9516690 |  -46.5610892 | -2.415883e+01 |\n",
       "| 07_2004 |   17.1489427 |    4.7082307 |  5.507878e+00 |\n",
       "| 08_2004 |  -18.3500013 |   -9.1955052 | -4.021468e+00 |\n",
       "| ⋮ | ⋮ | ⋮ | ⋮ |\n",
       "| 01_2021 |  163.271123 |  154.524079 |  206.231910 |\n",
       "| 02_2021 |   45.463092 |   29.733734 |   -2.118741 |\n",
       "| 03_2021 |   10.768130 |    8.744773 |  150.385951 |\n",
       "| 04_2021 | -132.745779 | -159.590236 | -148.353065 |\n",
       "| 05_2021 |  -70.452014 | -106.771571 |  -91.256029 |\n",
       "| 06_2021 |  172.353043 |  183.281762 |  134.722802 |\n",
       "| 07_2021 | -150.539260 | -150.336168 | -151.960972 |\n",
       "| 08_2021 |   14.487237 |    4.798898 |   20.489866 |\n",
       "| 09_2021 |   74.852850 |  112.301404 |  104.736816 |\n",
       "| 10_2021 |  -38.002202 |  -23.349321 |  -90.113666 |\n",
       "| 11_2021 |  294.301978 |  403.509078 |  269.762002 |\n",
       "| 12_2021 |  -84.956159 | -152.051168 |  -46.294989 |\n",
       "| 01_2022 |  159.599586 |   54.740472 |   79.861200 |\n",
       "| 02_2022 |   -1.715062 |   24.387641 |  108.479133 |\n",
       "| 03_2022 |  208.101907 |  183.176906 |   85.654882 |\n",
       "| 04_2022 | -202.257631 | -186.274519 |  -54.407633 |\n",
       "| 05_2022 |   19.175826 |  -14.105385 |   48.774352 |\n",
       "| 06_2022 |    9.474622 |   80.114815 |  -24.892733 |\n",
       "| 07_2022 |  -94.324547 | -171.117572 | -110.274562 |\n",
       "| 08_2022 |   59.118946 |   58.888060 |    9.210939 |\n",
       "| 09_2022 |  -16.764484 |   46.501321 |   36.081188 |\n",
       "| 10_2022 |  454.549165 |  345.926679 |  180.450051 |\n",
       "| 11_2022 |   13.655452 |  133.899878 |  246.824371 |\n",
       "| 12_2022 |  -87.426612 | -172.404951 | -119.967921 |\n",
       "| 01_2023 |  -84.292943 |  -80.785431 |    2.857741 |\n",
       "| 02_2023 |  262.704616 |  237.274797 |  246.777175 |\n",
       "| 03_2023 |  -24.204887 |   -8.580076 |  -42.310770 |\n",
       "| 04_2023 |  -30.681266 | -124.341689 | -109.091802 |\n",
       "| 05_2023 |  -66.473401 |  -27.342674 |  -67.951056 |\n",
       "| 06_2023 |  -60.826878 |  -59.124521 |  -24.180735 |\n",
       "\n",
       "\n",
       "$P\n",
       ":   1\n",
       "$D\n",
       ":   0\n",
       "$Q\n",
       ":   1\n",
       "$W\n",
       ":   **$w1** = \n",
       "A matrix: 3 × 3 of type dbl\n",
       "\n",
       "| 1 | 0.0 | 1 | 0.0 |\n",
       "| 2 | 0.5 | 0 | 0.5 |\n",
       "| 3 | 0.0 | 1 | 0.0 |\n",
       "\n",
       "\n",
       "\n",
       "\n"
      ],
      "text/plain": [
       "$BETA\n",
       "[1] 0.79799747 0.03695678 0.04371920 0.03026873\n",
       "\n",
       "$PVAL\n",
       "[1] 3.681871e-60 3.395686e-01 5.224659e-01 6.206414e-01\n",
       "\n",
       "$NRMSE\n",
       "[1] 0.8018773 0.7904392 0.7597683\n",
       "\n",
       "$OBS\n",
       "        JATIM_18 JATIM_21 JATIM_22\n",
       "03_2002    212.6    277.8    233.8\n",
       "04_2002    196.8    196.6    153.5\n",
       "05_2002     50.4     88.0     78.1\n",
       "06_2002      1.4      0.2      0.0\n",
       "07_2002      0.2      0.3      0.0\n",
       "08_2002      0.0      0.0      0.0\n",
       "09_2002      0.2      0.1      0.0\n",
       "10_2002      0.4      3.5      0.0\n",
       "11_2002     71.8    167.5     72.2\n",
       "12_2002    207.8    288.7    126.4\n",
       "01_2003    329.2    358.7    380.0\n",
       "02_2003    291.1    315.6    372.4\n",
       "03_2003    284.4    415.2    350.3\n",
       "04_2003    127.1    171.6    115.0\n",
       "05_2003    118.9    125.6     80.0\n",
       "06_2003     19.2     28.1     15.0\n",
       "07_2003      0.4      0.0      0.0\n",
       "08_2003      0.0      0.0      0.0\n",
       "09_2003      3.2      7.0      4.4\n",
       "10_2003     17.6     24.0      4.7\n",
       "11_2003    231.7    328.0    158.0\n",
       "12_2003    302.5    389.7    241.4\n",
       "01_2004    240.8    335.3    250.0\n",
       "02_2004    269.4    420.9    259.2\n",
       "03_2004    317.9    374.7    316.3\n",
       "04_2004     69.1    125.1     86.6\n",
       "05_2004     65.8     96.4     31.2\n",
       "06_2004     21.5     13.8      1.0\n",
       "07_2004     23.1     15.1      4.8\n",
       "08_2004      0.3      0.0      0.4\n",
       "09_2004      4.1     35.9     19.4\n",
       "10_2004      8.2     19.4      9.4\n",
       "11_2004    206.8    252.3    143.0\n",
       "12_2004    297.4    489.0    307.1\n",
       "01_2005    227.6    259.7    111.4\n",
       "02_2005    228.9    238.8    144.1\n",
       "03_2005    247.4    316.9    250.2\n",
       "04_2005    264.5    239.1    191.0\n",
       "05_2005     15.7      5.0     10.6\n",
       "06_2005     21.8     51.9     59.7\n",
       "07_2005     26.9     49.4     12.1\n",
       "08_2005      2.9      0.2      0.2\n",
       "09_2005      8.1     28.9      5.5\n",
       "10_2005     80.2     95.3     25.9\n",
       "11_2005     56.5    105.7     79.6\n",
       "12_2005    397.8    460.5    246.5\n",
       "01_2006    349.1    425.0    333.3\n",
       "02_2006    328.2    359.2    281.7\n",
       "03_2006    257.5    325.5    316.4\n",
       "04_2006    314.6    353.4    295.0\n",
       "05_2006    111.7    176.3    144.3\n",
       "06_2006      0.6      2.0      2.2\n",
       "07_2006      0.0      0.1      0.0\n",
       "08_2006      0.0      0.0      0.0\n",
       "09_2006      0.0      0.0      0.0\n",
       "10_2006      6.4      3.9      0.1\n",
       "11_2006     25.6     62.3     17.2\n",
       "12_2006    205.9    290.8    201.9\n",
       "01_2007     83.5    113.1     62.5\n",
       "02_2007    241.0    301.1    211.7\n",
       "03_2007    284.5    348.3    344.5\n",
       "04_2007    209.4    309.1    232.0\n",
       "05_2007    134.0    148.7     50.6\n",
       "06_2007     51.1     88.6     56.3\n",
       "07_2007      3.4     19.8     26.3\n",
       "08_2007      0.0      0.2      0.0\n",
       "09_2007      0.0      0.5      0.0\n",
       "10_2007     26.1     57.5     17.5\n",
       "11_2007    126.5    221.7    108.7\n",
       "12_2007    416.5    557.5    359.4\n",
       "01_2008    193.1    279.2    263.0\n",
       "02_2008    245.1    256.0    343.0\n",
       "03_2008    365.9    456.8    381.5\n",
       "04_2008    131.1    156.2    109.0\n",
       "05_2008     45.7     85.5     76.0\n",
       "06_2008      5.9     14.5      4.6\n",
       "07_2008      0.0      0.0      0.0\n",
       "08_2008      0.0      0.8     14.9\n",
       "09_2008      0.0      3.4      0.0\n",
       "10_2008     94.3    188.1    113.5\n",
       "11_2008    340.1    421.9    204.2\n",
       "12_2008    155.6    152.2     84.2\n",
       "01_2009    320.3    400.5    411.2\n",
       "02_2009    346.2    392.9    355.7\n",
       "03_2009    159.4    194.9    169.1\n",
       "04_2009    132.9    206.5    126.5\n",
       "05_2009    152.9    246.4    127.0\n",
       "06_2009     10.2     48.1     34.3\n",
       "07_2009     23.4     26.8      0.7\n",
       "08_2009      0.0      0.0      0.0\n",
       "09_2009      0.5      4.5      0.4\n",
       "10_2009      9.8     49.4     22.2\n",
       "11_2009    142.4    204.9    115.9\n",
       "12_2009    104.9    188.4     90.5\n",
       "01_2010    321.4    372.4    391.1\n",
       "02_2010    298.9    431.6    308.6\n",
       "03_2010    431.8    393.5    357.7\n",
       "04_2010    274.9    349.9    255.0\n",
       "05_2010    286.6    359.7    255.4\n",
       "06_2010    162.5    194.5     84.2\n",
       "07_2010    148.5    141.1    106.3\n",
       "08_2010     30.5    106.7     30.7\n",
       "09_2010    290.8    274.2    147.3\n",
       "10_2010    237.8    341.8    176.0\n",
       "11_2010    350.6    441.9    289.1\n",
       "12_2010    392.5    331.1    316.9\n",
       "01_2011    315.1    335.3    289.9\n",
       "02_2011    262.8    199.3    192.7\n",
       "03_2011    301.5    330.8    335.7\n",
       "04_2011    221.4    241.1    275.0\n",
       "05_2011    152.0    147.7    187.7\n",
       "06_2011     22.1     13.7      0.3\n",
       "07_2011      0.8      1.7      2.9\n",
       "08_2011      0.0      0.0      0.0\n",
       "09_2011      0.0      0.0      0.0\n",
       "10_2011     16.6     57.7      8.6\n",
       "11_2011    204.8    251.9    171.5\n",
       "12_2011    162.8    197.5    188.8\n",
       "01_2012    412.0    440.8    381.6\n",
       "02_2012    188.7    269.7    170.0\n",
       "03_2012    285.3    291.3    175.9\n",
       "04_2012    227.4    219.9    108.3\n",
       "05_2012    119.6    100.0     49.8\n",
       "06_2012      4.2      3.5     11.5\n",
       "07_2012      0.6      3.7      0.0\n",
       "08_2012      0.0      0.0      0.0\n",
       "09_2012      1.7      1.8      0.0\n",
       "10_2012     29.6     86.4     47.8\n",
       "11_2012     96.7    159.5    117.1\n",
       "12_2012    262.8    285.8    299.8\n",
       "01_2013    403.2    479.8    392.3\n",
       "02_2013    255.5    381.1    425.0\n",
       "03_2013    257.2    258.7    242.4\n",
       "04_2013    206.7    268.2    295.0\n",
       "05_2013    157.5    250.1    213.5\n",
       "06_2013    266.0    286.1    254.8\n",
       "07_2013     59.5     94.4     81.2\n",
       "08_2013      0.4      1.0      5.1\n",
       "09_2013      0.4      0.9      0.0\n",
       "10_2013     18.1     81.5     36.1\n",
       "11_2013    282.7    359.2    258.7\n",
       "12_2013    355.2    507.2    304.4\n",
       "01_2014    293.6    325.3    265.2\n",
       "02_2014    231.7    220.4    226.5\n",
       "03_2014     85.9    134.4    133.8\n",
       "04_2014    159.0    208.1    156.5\n",
       "05_2014     98.2    120.3     81.9\n",
       "06_2014     45.0     92.2     66.3\n",
       "07_2014     10.7      9.7     22.0\n",
       "08_2014      0.9      2.9      3.2\n",
       "09_2014      0.0      0.0      0.0\n",
       "10_2014      2.8      6.9      6.7\n",
       "11_2014    176.2    214.3    152.5\n",
       "12_2014    400.3    469.8    240.3\n",
       "01_2015    252.0    260.3    276.0\n",
       "02_2015    288.6    350.5    337.1\n",
       "03_2015    293.1    348.8    393.6\n",
       "04_2015    298.5    348.1    287.2\n",
       "05_2015     64.0    109.4     87.7\n",
       "06_2015      8.3     30.6     15.1\n",
       "07_2015      0.0      0.0      0.0\n",
       "08_2015      0.0      0.0      0.0\n",
       "09_2015      0.0      0.0      0.1\n",
       "10_2015      1.0      1.0      6.8\n",
       "11_2015     80.6    205.0    103.2\n",
       "12_2015    323.4    333.2    314.7\n",
       "01_2016    325.5    324.8    307.0\n",
       "02_2016    384.7    421.8    417.4\n",
       "03_2016    216.3    324.6    329.4\n",
       "04_2016    286.5    284.5    115.0\n",
       "05_2016    185.3    272.9    192.2\n",
       "06_2016    180.0    231.1    123.0\n",
       "07_2016     55.8     73.5     78.8\n",
       "08_2016    133.0    113.2     56.3\n",
       "09_2016    112.7    174.4    117.4\n",
       "10_2016    243.5    314.0    215.7\n",
       "11_2016    477.4    533.4    288.0\n",
       "12_2016    309.4    294.0    213.0\n",
       "01_2017    359.8    418.7    366.8\n",
       "02_2017    320.5    291.1    288.5\n",
       "03_2017    279.0    288.8    307.0\n",
       "04_2017    275.5    250.1    318.0\n",
       "05_2017     65.0    119.1     68.6\n",
       "06_2017     11.3     75.2     71.5\n",
       "07_2017     23.9     17.7     20.5\n",
       "08_2017      0.5      1.5      0.8\n",
       "09_2017     28.3     23.7     17.2\n",
       "10_2017     91.1     95.9     36.2\n",
       "11_2017    264.3    374.4    296.7\n",
       "12_2017    212.5    234.9    315.8\n",
       "01_2018    442.8    545.5    405.9\n",
       "02_2018    456.8    447.0    302.9\n",
       "03_2018    237.9    272.2    253.6\n",
       "04_2018    209.1    236.9     93.1\n",
       "05_2018     11.8     48.0     21.1\n",
       "06_2018     14.5     33.1      9.5\n",
       "07_2018     16.0     12.6     21.4\n",
       "08_2018      0.1      0.1      0.0\n",
       "09_2018      2.1      1.9      4.0\n",
       "10_2018      3.6      0.8      1.5\n",
       "11_2018    146.1    164.6     76.5\n",
       "12_2018    144.6    207.8     73.0\n",
       "01_2019    300.1    358.3    406.1\n",
       "02_2019    309.1    352.8    280.7\n",
       "03_2019    302.1    309.9    427.3\n",
       "04_2019    169.0    231.9    204.9\n",
       "05_2019      8.9     50.9     25.8\n",
       "06_2019      0.3      0.0      0.0\n",
       "07_2019      0.5      0.5      2.6\n",
       "08_2019      0.0      0.0      0.0\n",
       "09_2019      0.0      0.0      3.1\n",
       "10_2019      0.0      3.0      3.2\n",
       "11_2019     10.4     14.4     25.7\n",
       "12_2019    194.7    285.1    162.0\n",
       "01_2020    243.5    336.1    356.2\n",
       "02_2020    422.2    398.2    403.0\n",
       "03_2020    360.5    368.3    216.4\n",
       "04_2020    147.8    186.9    199.8\n",
       "05_2020    192.8    211.1    170.2\n",
       "06_2020     85.3     85.0     40.6\n",
       "07_2020     25.9     41.2     22.7\n",
       "08_2020     19.0     31.2     49.2\n",
       "09_2020     30.6     53.0      6.3\n",
       "10_2020    100.9    164.6    108.4\n",
       "11_2020    264.2    390.0    247.3\n",
       "12_2020    237.9    296.5    229.6\n",
       "01_2021    363.8    429.4    394.9\n",
       "02_2021    355.4    399.5    332.3\n",
       "03_2021    301.9    370.9    423.3\n",
       "04_2021    124.5    165.8    203.0\n",
       "05_2021     34.4     42.9     64.9\n",
       "06_2021    201.2    205.7    181.7\n",
       "07_2021      5.6     18.4      5.5\n",
       "08_2021     14.6     37.2     16.3\n",
       "09_2021     97.5    127.4    119.4\n",
       "10_2021     33.3     87.6     13.8\n",
       "11_2021    323.2    485.5    278.1\n",
       "12_2021    186.9    252.7    202.5\n",
       "01_2022    311.4    305.5    241.8\n",
       "02_2022    271.4    278.0    311.4\n",
       "03_2022    423.8    436.2    344.4\n",
       "04_2022    151.8    194.5    235.0\n",
       "05_2022    144.2    172.3    234.7\n",
       "06_2022    139.6    215.7    167.5\n",
       "07_2022      9.4     13.8     27.5\n",
       "08_2022     67.5     74.3     24.0\n",
       "09_2022     40.1     95.5     57.9\n",
       "10_2022    481.6    430.4    230.7\n",
       "11_2022    409.4    506.3    452.0\n",
       "12_2022    248.6    297.8    262.9\n",
       "01_2023    144.7    189.5    210.3\n",
       "02_2023    384.3    387.8    417.0\n",
       "03_2023    283.2    324.5    312.0\n",
       "04_2023    196.4    182.4    143.9\n",
       "05_2023    108.7    128.4     43.6\n",
       "06_2023     27.1     39.3      9.6\n",
       "\n",
       "$FIT\n",
       "               [,1]         [,2]          [,3]\n",
       "  [1,] 294.39046809 298.31199916 188.259330447\n",
       "  [2,] 174.78755956 234.86122787 193.385671569\n",
       "  [3,] 160.67875407 167.83826074 123.802634514\n",
       "  [4,]  37.95892098  72.75897387  60.743316894\n",
       "  [5,]   1.50419908  -8.00048450  -3.750087622\n",
       "  [6,]  -5.86445744  -5.87064494   0.295116915\n",
       "  [7,]  -2.69646082   0.43692449   0.075946206\n",
       "  [8,]   0.23005135   0.51242788  -0.006571606\n",
       "  [9,]   0.72911124   2.87841718   0.110176685\n",
       " [10,]  60.51288090 139.12231057  66.353700676\n",
       " [11,] 171.21123121 254.26324415 111.090531689\n",
       " [12,] 274.92757213 325.26658061 323.204329254\n",
       " [13,] 246.83188278 293.85638711 305.010536427\n",
       " [14,] 243.11043584 356.34101499 291.027220011\n",
       " [15,] 105.15711867 153.69664305  84.448893759\n",
       " [16,] 100.68169188  90.66284822  65.540956767\n",
       " [17,]   7.97297270  22.74060534   9.332745630\n",
       " [18,]   0.49480194  -6.71657291  -0.752184805\n",
       " [19,]  -4.50916349  -1.50591573   0.134535984\n",
       " [20,]   2.00769171   6.16828771   3.955751928\n",
       " [21,]  14.56825561  20.71040419   4.496479096\n",
       " [22,] 191.42269664 277.41930426 143.506197206\n",
       " [23,] 249.54681915 355.73352375 205.816754721\n",
       " [24,] 212.49705514 296.94105397 207.317580316\n",
       " [25,] 229.31358185 355.59176985 218.762797494\n",
       " [26,] 259.91559704 331.15982588 263.883892994\n",
       " [27,]  61.81706330 112.05277700  60.548932960\n",
       " [28,]  58.45166897  60.36108925  25.158831337\n",
       " [29,]   5.95105728  10.39176935  -0.707878044\n",
       " [30,]  18.65000126   9.19550524   4.421467693\n",
       " [31,]  -2.08077074   0.91750301   0.004215500\n",
       " [32,]   4.75615808  28.43741753  17.521931292\n",
       " [33,]   5.96064453  18.43516701   7.367797106\n",
       " [34,] 170.48763146 213.72553652 128.244863952\n",
       " [35,] 246.37416794 432.97008968 266.086464867\n",
       " [36,] 198.74299469 241.05826671  84.310655177\n",
       " [37,] 196.78887260 191.52101360 121.983840543\n",
       " [38,] 199.83725229 273.89892650 213.017809031\n",
       " [39,] 216.77277725 218.52935453 155.346439740\n",
       " [40,]  16.73116165   4.73137762  -1.008664787\n",
       " [41,]  20.65571747  24.62520539  51.967479031\n",
       " [42,]  10.35659209  44.91556560   9.200578394\n",
       " [43,]   3.25336105   0.33956833  -0.906944610\n",
       " [44,]   7.64575087  21.11167269   5.635362120\n",
       " [45,]  64.75764997  81.55954472  24.437872267\n",
       " [46,]  47.68415831  95.43111523  68.250759344\n",
       " [47,] 330.24750038 393.76423179 218.533676254\n",
       " [48,] 286.43856619 396.32169469 279.316099134\n",
       " [49,] 289.37207902 314.59070916 230.975734864\n",
       " [50,] 212.79601503 280.67096763 262.400902148\n",
       " [51,] 258.84423126 306.63906404 244.465431808\n",
       " [52,]  91.16574133 157.39575668 112.057023868\n",
       " [53,]   6.06725192 -11.48459520  -5.362126229\n",
       " [54,]  -8.40377942 -12.78052115   0.411601207\n",
       " [55,]  -6.31127798   0.48512599   0.175430193\n",
       " [56,]  -0.08992992   0.80066726  -0.015011742\n",
       " [57,]   5.74008114   3.51692423   0.203800131\n",
       " [58,]  21.84852104  51.63241633  16.509465132\n",
       " [59,] 170.01183660 250.81417817 178.213981367\n",
       " [60,]  70.48059925 117.28796067  44.821608567\n",
       " [61,] 209.54746744 244.86550219 184.577576884\n",
       " [62,] 227.59985929 319.43705458 289.903248633\n",
       " [63,] 183.04919186 274.60518299 188.159155604\n",
       " [64,] 114.52167826 122.72897411  35.206937501\n",
       " [65,]  41.46272822  63.51886285  46.970094645\n",
       " [66,]  -0.97082291  14.12464149  19.787868381\n",
       " [67,]  -3.28556981  -3.52952222  -1.072154734\n",
       " [68,]  -2.31649011  -0.77934353   0.117097204\n",
       " [69,]  21.72194453  47.80424063  16.669450765\n",
       " [70,] 105.24796631 189.54249072  97.494288593\n",
       " [71,] 344.79201718 487.11808909 314.121106313\n",
       " [72,] 166.46509343 273.09244851 209.650819649\n",
       " [73,] 219.49614199 210.79272900 284.014837084\n",
       " [74,] 290.64964188 397.81596606 320.862101785\n",
       " [75,] 110.68296522 151.65798116  76.948903016\n",
       " [76,]  48.17221051  50.92100563  61.184965980\n",
       " [77,]  -5.65596537   7.07096155   0.913666728\n",
       " [78,]  -3.84226238  -4.58457843  -0.146959291\n",
       " [79,]  -2.38453337   1.02346063  12.644278242\n",
       " [80,]   0.20308631   3.52035361  -0.454003803\n",
       " [81,]  78.97641986 157.57629497 101.823972242\n",
       " [82,] 279.33519066 371.15782233 179.223286723\n",
       " [83,] 133.88815533 152.87614463  62.535668517\n",
       " [84,] 278.41567168 330.43767244 354.528111868\n",
       " [85,] 274.80349323 366.49516656 292.104422172\n",
       " [86,] 142.69964221 172.48803088 130.568171897\n",
       " [87,] 113.77845618 159.65475914 105.099360321\n",
       " [88,] 118.92455663 208.03799572 108.169067192\n",
       " [89,]   9.11470188  45.66775188  22.610067285\n",
       " [90,]  22.19155850   9.75775221  -0.189622946\n",
       " [91,]  -7.17391079  -1.05567513  -0.139387217\n",
       " [92,]   0.82114189   2.53167795   0.510014946\n",
       " [93,]   7.61533319  41.09518792  20.285967534\n",
       " [94,] 117.84064122 176.03297168 102.933380336\n",
       " [95,]  88.29313453 171.69937065  75.343689828\n",
       " [96,] 271.72950005 323.27860421 335.820254252\n",
       " [97,] 246.11813060 392.25481716 254.686621176\n",
       " [98,] 365.07527763 347.92360499 297.237450220\n",
       " [99,] 228.66234213 307.59559182 208.138268265\n",
       "[100,] 243.48946084 303.14870870 213.310043921\n",
       "[101,] 129.35615655 169.78996174  63.496517064\n",
       "[102,] 124.43148076 110.90455189  88.871562001\n",
       "[103,]  21.12544354  88.02884994  23.863319325\n",
       "[104,] 237.52718873 230.21388819 130.825937776\n",
       "[105,] 191.90947035 308.08648460 150.427228118\n",
       "[106,] 302.55105305 382.53041210 246.954515652\n",
       "[107,] 321.03291478 305.28513486 261.283188137\n",
       "[108,] 266.60781364 292.51871124 239.240631656\n",
       "[109,] 216.55060830 177.87354993 154.011330864\n",
       "[110,] 246.90376308 281.92699524 284.258131187\n",
       "[111,] 179.55449975 225.49915565 222.881795961\n",
       "[112,] 130.05323829 127.58132409 149.797822875\n",
       "[113,]  16.15600327   6.46013237  -7.766893753\n",
       "[114,]  -1.71229029 -11.27818131   2.739912430\n",
       "[115,]  -6.44315090  -0.35004258   0.050901326\n",
       "[116,]  -0.74339378   0.46196827   0.003072307\n",
       "[117,]  14.55850932  47.18455386   9.171093549\n",
       "[118,] 168.37157602 218.20998245 151.706401610\n",
       "[119,] 135.18797122 190.22035974 155.619674945\n",
       "[120,] 348.33567741 381.13489687 326.333153068\n",
       "[121,] 155.00872776 254.65034399 132.121935326\n",
       "[122,] 248.94579854 235.06531237 148.219122003\n",
       "[123,] 176.86238245 194.75718770  88.511774986\n",
       "[124,] 103.53923634  83.53674594  38.461575510\n",
       "[125,]   2.24478127  -3.67451175   6.851601415\n",
       "[126,]  -3.39038696  -4.34734304  -0.119567942\n",
       "[127,]  -5.55433742   0.06523306   0.071021690\n",
       "[128,]   1.42955683   1.79552622   0.056410690\n",
       "[129,]  25.43127750  72.10070903  43.108558752\n",
       "[130,]  80.45706739 141.17861844 100.950386834\n",
       "[131,] 217.50688396 257.07743189 255.403065188\n",
       "[132,] 335.05705704 430.13925385 331.276129504\n",
       "[133,] 221.09110915 348.76757176 349.546395005\n",
       "[134,] 221.51442882 223.19040959 192.167476542\n",
       "[135,] 165.68163294 226.47624305 245.542105933\n",
       "[136,] 130.52158388 217.92211368 173.950581080\n",
       "[137,] 217.58751169 247.36946002 213.182924514\n",
       "[138,]  49.22504581  90.05943229  58.456471117\n",
       "[139,]   7.29251458 -14.46650647   0.407705234\n",
       "[140,]  -8.89072587  -6.25353155   0.231368320\n",
       "[141,]  12.46729323  67.49069457  33.209939550\n",
       "[142,] 232.16255044 312.38828177 227.352464541\n",
       "[143,] 295.32904896 456.87920840 258.599478878\n",
       "[144,] 256.53227153 294.81335944 215.937151909\n",
       "[145,] 197.29610220 187.20715650 184.154665037\n",
       "[146,]  68.96451825 111.68505560 106.254888921\n",
       "[147,] 128.51510520 170.51846217 132.387812619\n",
       "[148,]  74.91695075 111.11631231  64.611632023\n",
       "[149,]  43.00905226  73.04734415  54.398467779\n",
       "[150,]   6.63243661   7.26761291  15.360027790\n",
       "[151,]  -0.82244651  -2.26239426   2.009451488\n",
       "[152,]  -2.37124779  -0.73253072  -0.053611715\n",
       "[153,]   2.04517522   5.92025294   5.884859974\n",
       "[154,] 144.63727034 183.85319149 135.218125667\n",
       "[155,] 328.46113238 417.39322328 209.361659779\n",
       "[156,] 216.67289303 250.65257086 225.593096199\n",
       "[157,] 252.28374017 295.65665974 281.867743957\n",
       "[158,] 234.61799596 313.63730601 326.226203260\n",
       "[159,] 249.29029634 306.36934235 234.432578352\n",
       "[160,]  55.68211921  95.16630246  62.609877198\n",
       "[161,]  10.50325901   6.62225835   9.560936729\n",
       "[162,] -11.08174971  -5.69504737  -0.518220195\n",
       "[163,]  -3.04867840  -0.89683756   0.108847098\n",
       "[164,]  -0.55941777   0.60379496   0.092986026\n",
       "[165,]   1.38715204   1.21748124   5.744082798\n",
       "[166,]  68.25352538 170.64967458  93.486223229\n",
       "[167,] 264.30355501 303.73162949 269.418189847\n",
       "[168,] 272.29719984 304.09013472 252.948908332\n",
       "[169,] 328.39870878 370.14935456 349.849464441\n",
       "[170,] 181.59925509 292.72349315 267.275058037\n",
       "[171,] 240.57900257 235.86498310  90.245010378\n",
       "[172,] 147.32145790 229.93121101 163.435759255\n",
       "[173,] 152.37162059 198.64708533 100.673915072\n",
       "[174,]  44.03016827  63.44349469  61.390030746\n",
       "[175,] 109.67178620  88.27270642  47.549512607\n",
       "[176,]  87.04089072 152.38876466 101.264824052\n",
       "[177,] 204.75732231 273.51312339 185.379167446\n",
       "[178,] 392.25623973 469.20371366 248.099369564\n",
       "[179,] 261.61921537 276.63827704 171.219995176\n",
       "[180,] 310.70933566 349.74420760 311.142990561\n",
       "[181,] 254.86324365 269.90633646 233.723853868\n",
       "[182,] 234.42025336 249.16544370 253.811301273\n",
       "[183,] 224.01024617 225.28759970 261.205064036\n",
       "[184,]  55.41179541 103.20612530  46.915781477\n",
       "[185,]  12.21706416  47.78404572  59.097341716\n",
       "[186,]  10.84032419  13.94995608  14.543267795\n",
       "[187,]  -1.92567107  -0.88487531  -0.123151309\n",
       "[188,]  23.07673201  19.32079187  15.292925203\n",
       "[189,]  73.82915447  83.74662965  32.732604537\n",
       "[190,] 219.52256015 325.54279940 259.623457436\n",
       "[191,] 178.04793742 233.43627663 257.432347860\n",
       "[192,] 376.15933028 464.19784094 345.200909634\n",
       "[193,] 371.10624386 410.93175116 247.863634709\n",
       "[194,] 211.17105160 235.78779102 205.553149227\n",
       "[195,] 174.50406947 190.29034834  73.771566289\n",
       "[196,]   2.38004541  36.10187961  13.268476589\n",
       "[197,]  12.10888596  14.56071179   7.982424425\n",
       "[198,]   3.73402120  11.55850072  17.866905171\n",
       "[199,]   0.56609078   0.52168672  -0.952696121\n",
       "[200,]   1.85134591   0.58986935   3.464486643\n",
       "[201,]   2.55527997   1.08347764   1.129073325\n",
       "[202,] 119.71689496 139.57961764  69.858225291\n",
       "[203,] 119.30987408 187.64078098  63.263453289\n",
       "[204,] 254.85022805 315.85219309 348.258939634\n",
       "[205,] 255.30053650 326.64121805 228.122625389\n",
       "[206,] 257.28830839 275.46817180 355.165280922\n",
       "[207,] 142.07764996 205.58724884 160.565966105\n",
       "[208,]   9.83539514  32.77499190  13.295931200\n",
       "[209,]  -4.27987172 -14.86202884  -1.077316180\n",
       "[210,]  -7.75527586  -1.61040696   2.477296495\n",
       "[211,]  -0.91290855   0.92760397  -0.083932939\n",
       "[212,]   0.44146672   0.34472947   2.598952467\n",
       "[213,]   0.41886213   2.59570620   2.675490233\n",
       "[214,]   8.59113548  12.94622011  21.959887509\n",
       "[215,] 160.65918237 242.20667718 144.785096333\n",
       "[216,] 201.13798953 312.14039468 301.121193167\n",
       "[217,] 356.52803332 361.27101933 334.707593891\n",
       "[218,] 299.52643012 328.76030287 174.426310055\n",
       "[219,] 132.36474971 158.83841279 161.855857976\n",
       "[220,] 158.03473125 171.84602269 140.875703207\n",
       "[221,]  60.85952359  76.84934386  28.271027561\n",
       "[222,]  24.86257106  25.63995068  18.092761287\n",
       "[223,]  11.24421400  24.63260464  41.282132833\n",
       "[224,]  23.33014475  44.66477621   4.906670445\n",
       "[225,]  83.38732901 139.85264885  95.884258325\n",
       "[226,] 219.31304667 340.84643356 214.956944006\n",
       "[227,] 200.52887707 274.87592123 188.668090108\n",
       "[228,] 309.93690823 369.76626575 334.418740897\n",
       "[229,] 291.13187032 362.15522691 272.914048614\n",
       "[230,] 257.24577891 325.39023552 351.353065188\n",
       "[231,] 104.85201375 149.67157134 156.156029489\n",
       "[232,]  28.84695663  22.41823761  46.977198183\n",
       "[233,] 156.13925999 168.73616759 157.460972036\n",
       "[234,]   0.11276255  32.40110180  -4.189866278\n",
       "[235,]  22.64714977  15.09859560  14.663183832\n",
       "[236,]  71.30220186 110.94932080 103.913665537\n",
       "[237,]  28.89802166  81.99092174   8.337997602\n",
       "[238,] 271.85615913 404.75116822 248.794988919\n",
       "[239,] 151.80041386 250.75952753 161.938799663\n",
       "[240,] 273.11506221 253.61235925 202.920867362\n",
       "[241,] 215.69809319 253.02309437 258.745117826\n",
       "[242,] 354.05763139 380.77451946 289.407632660\n",
       "[243,] 125.02417359 186.40538515 185.925648021\n",
       "[244,] 130.12537755 135.58518509 192.392732948\n",
       "[245,] 103.72454737 184.91757230 137.774561910\n",
       "[246,]   8.38105381  15.41193958  14.789060675\n",
       "[247,]  56.86448355  48.99867908  21.818812138\n",
       "[248,]  27.05083536  84.47332112  50.249948677\n",
       "[249,] 395.74454824 372.40012164 205.175629174\n",
       "[250,] 336.02661247 470.20495127 382.867920632\n",
       "[251,] 228.99294348 270.28543109 207.442259021\n",
       "[252,] 121.59538434 150.52520330 170.222825308\n",
       "[253,] 307.40488723 333.08007585 354.310770027\n",
       "[254,] 227.08126550 306.74168854 252.991801938\n",
       "[255,] 175.17340131 155.74267389 111.551055766\n",
       "[256,]  87.92687825  98.42452095  33.780735366\n",
       "\n",
       "$RES\n",
       "            JATIM_18     JATIM_21      JATIM_22\n",
       "03_2002  -81.7904681  -20.5119992  4.554067e+01\n",
       "04_2002   22.0124404  -38.2612279 -3.988567e+01\n",
       "05_2002 -110.2787541  -79.8382607 -4.570263e+01\n",
       "06_2002  -36.5589210  -72.5589739 -6.074332e+01\n",
       "07_2002   -1.3041991    8.3004845  3.750088e+00\n",
       "08_2002    5.8644574    5.8706449 -2.951169e-01\n",
       "09_2002    2.8964608   -0.3369245 -7.594621e-02\n",
       "10_2002    0.1699486    2.9875721  6.571606e-03\n",
       "11_2002   71.0708888  164.6215828  7.208982e+01\n",
       "12_2002  147.2871191  149.5776894  6.004630e+01\n",
       "01_2003  157.9887688  104.4367559  2.689095e+02\n",
       "02_2003   16.1724279   -9.6665806  4.919567e+01\n",
       "03_2003   37.5681172  121.3436129  4.528946e+01\n",
       "04_2003 -116.0104358 -184.7410150 -1.760272e+02\n",
       "05_2003   13.7428813  -28.0966431 -4.448894e+00\n",
       "06_2003  -81.4816919  -62.5628482 -5.054096e+01\n",
       "07_2003   -7.5729727  -22.7406053 -9.332746e+00\n",
       "08_2003   -0.4948019    6.7165729  7.521848e-01\n",
       "09_2003    7.7091635    8.5059157  4.265464e+00\n",
       "10_2003   15.5923083   17.8317123  7.442481e-01\n",
       "11_2003  217.1317444  307.2895958  1.535035e+02\n",
       "12_2003  111.0773034  112.2806957  9.789380e+01\n",
       "01_2004   -8.7468191  -20.4335238  4.418325e+01\n",
       "02_2004   56.9029449  123.9589460  5.188242e+01\n",
       "03_2004   88.5864182   19.1082301  9.753720e+01\n",
       "04_2004 -190.8155970 -206.0598259 -1.772839e+02\n",
       "05_2004    3.9829367  -15.6527770 -2.934893e+01\n",
       "06_2004  -36.9516690  -46.5610892 -2.415883e+01\n",
       "07_2004   17.1489427    4.7082307  5.507878e+00\n",
       "08_2004  -18.3500013   -9.1955052 -4.021468e+00\n",
       "09_2004    6.1807707   34.9824970  1.939578e+01\n",
       "10_2004    3.4438419   -9.0374175 -8.121931e+00\n",
       "11_2004  200.8393555  233.8648330  1.356322e+02\n",
       "12_2004  126.9123685  275.2744635  1.788551e+02\n",
       "01_2005  -18.7741679 -173.2700897 -1.546865e+02\n",
       "02_2005   30.1570053   -2.2582667  5.978934e+01\n",
       "03_2005   50.6111274  125.3789864  1.282162e+02\n",
       "04_2005   64.6627477  -34.7989265 -2.201781e+01\n",
       "05_2005 -201.0727772 -213.5293545 -1.447464e+02\n",
       "06_2005    5.0688384   47.1686224  6.070866e+01\n",
       "07_2005    6.2442825   24.7747946 -3.986748e+01\n",
       "08_2005   -7.4565921  -44.7155656 -9.000578e+00\n",
       "09_2005    4.8466390   28.5604317  6.406945e+00\n",
       "10_2005   72.5542491   74.1883273  2.026464e+01\n",
       "11_2005   -8.2576500   24.1404553  5.516213e+01\n",
       "12_2005  350.1158417  365.0688848  1.782492e+02\n",
       "01_2006   18.8524996   31.2357682  1.147663e+02\n",
       "02_2006   41.7614338  -37.1216947  2.383901e+00\n",
       "03_2006  -31.8720790   10.9092908  8.542427e+01\n",
       "04_2006  101.8039850   72.7290324  3.259910e+01\n",
       "05_2006 -147.1442313 -130.3390640 -1.001654e+02\n",
       "06_2006  -90.5657413 -155.3957567 -1.098570e+02\n",
       "07_2006   -6.0672519   11.5845952  5.362126e+00\n",
       "08_2006    8.4037794   12.7805212 -4.116012e-01\n",
       "09_2006    6.3112780   -0.4851260 -1.754302e-01\n",
       "10_2006    6.4899299    3.0993327  1.150117e-01\n",
       "11_2006   19.8599189   58.7830758  1.699620e+01\n",
       "12_2006  184.0514790  239.1675837  1.853905e+02\n",
       "01_2007  -86.5118366 -137.7141782 -1.157140e+02\n",
       "02_2007  170.5194008  183.8120393  1.668784e+02\n",
       "03_2007   74.9525326  103.4344978  1.599224e+02\n",
       "04_2007  -18.1998593  -10.3370546 -5.790325e+01\n",
       "05_2007  -49.0491919 -125.9051830 -1.375592e+02\n",
       "06_2007  -63.4216783  -34.1289741  2.109306e+01\n",
       "07_2007  -38.0627282  -43.7188628 -2.067009e+01\n",
       "08_2007    0.9708229  -13.9246415 -1.978787e+01\n",
       "09_2007    3.2855698    4.0295222  1.072155e+00\n",
       "10_2007   28.4164901   58.2793435  1.738290e+01\n",
       "11_2007  104.7780555  173.8957594  9.203055e+01\n",
       "12_2007  311.2520337  367.9575093  2.619057e+02\n",
       "01_2008 -151.6920172 -207.9180891 -5.112111e+01\n",
       "02_2008   78.6349066  -17.0924485  1.333492e+02\n",
       "03_2008  146.4038580  246.0072710  9.748516e+01\n",
       "04_2008 -159.5496419 -241.6159661 -2.118621e+02\n",
       "05_2008  -64.9829652  -66.1579812 -9.489030e-01\n",
       "06_2008  -42.2722105  -36.4210056 -5.658497e+01\n",
       "07_2008    5.6559654   -7.0709615 -9.136667e-01\n",
       "08_2008    3.8422624    5.3845784  1.504696e+01\n",
       "09_2008    2.3845334    2.3765394 -1.264428e+01\n",
       "10_2008   94.0969137  184.5796464  1.139540e+02\n",
       "11_2008  261.1235801  264.3237050  1.023760e+02\n",
       "12_2008 -123.7351907 -218.9578223 -9.502329e+01\n",
       "01_2009  186.4118447  247.6238554  3.486643e+02\n",
       "02_2009   67.7843283   62.4623276  1.171888e+00\n",
       "03_2009 -115.4034932 -171.5951666 -1.230044e+02\n",
       "04_2009   -9.7996422   34.0119691 -4.068172e+00\n",
       "05_2009   39.1215438   86.7452409  2.190064e+01\n",
       "06_2009 -108.7245566 -159.9379957 -7.386907e+01\n",
       "07_2009   14.2852981  -18.8677519 -2.191007e+01\n",
       "08_2009  -22.1915585   -9.7577522  1.896229e-01\n",
       "09_2009    7.6739108    5.5556751  5.393872e-01\n",
       "10_2009    8.9788581   46.8683221  2.168999e+01\n",
       "11_2009  134.7846668  163.8048121  9.561403e+01\n",
       "12_2009  -12.9406412   12.3670283 -1.243338e+01\n",
       "01_2010  233.1068655  200.7006294  3.157563e+02\n",
       "02_2010   27.1705000  108.3213958 -2.722025e+01\n",
       "03_2010  185.6818694    1.2451828  1.030134e+02\n",
       "04_2010  -90.1752776    1.9763950 -4.223745e+01\n",
       "05_2010   57.9376579   52.1044082  4.726173e+01\n",
       "06_2010  -80.9894608 -108.6487087 -1.291100e+02\n",
       "07_2010   19.1438434  -28.6899617  4.280348e+01\n",
       "08_2010  -93.9314808   -4.2045519 -5.817156e+01\n",
       "09_2010  269.6745565  186.1711501  1.234367e+02\n",
       "10_2010    0.2728113  111.5861118  4.517406e+01\n",
       "11_2010  158.6905297  133.8135154  1.386728e+02\n",
       "12_2010   89.9489469  -51.4304121  6.994548e+01\n",
       "01_2011   -5.9329148   30.0148651  2.861681e+01\n",
       "02_2011   -3.8078136  -93.2187112 -4.654063e+01\n",
       "03_2011   84.9493917  152.9264501  1.816887e+02\n",
       "04_2011  -25.5037631  -40.8269952 -9.258131e+00\n",
       "05_2011  -27.5544997  -77.7991557 -3.518180e+01\n",
       "06_2011 -107.9532383 -113.8813241 -1.494978e+02\n",
       "07_2011  -15.3560033   -4.7601324  1.066689e+01\n",
       "08_2011    1.7122903   11.2781813 -2.739912e+00\n",
       "09_2011    6.4431509    0.3500426 -5.090133e-02\n",
       "10_2011   17.3433938   57.2380317  8.596928e+00\n",
       "11_2011  190.2414907  204.7154461  1.623289e+02\n",
       "12_2011   -5.5715760  -20.7099825  3.709360e+01\n",
       "01_2012  276.8120288  250.5796403  2.259803e+02\n",
       "02_2012 -159.6356774 -111.4348969 -1.563332e+02\n",
       "03_2012  130.2912722   36.6496560  4.377806e+01\n",
       "04_2012  -21.5457985  -15.1653124 -3.991912e+01\n",
       "05_2012  -57.2623824  -94.7571877 -3.871177e+01\n",
       "06_2012  -99.3392363  -80.0367459 -2.696158e+01\n",
       "07_2012   -1.6447813    7.3745117 -6.851601e+00\n",
       "08_2012    3.3903870    4.3473430  1.195679e-01\n",
       "09_2012    7.2543374    1.7347669 -7.102169e-02\n",
       "10_2012   28.1704432   84.6044738  4.774359e+01\n",
       "11_2012   71.2687225   87.3992910  7.399144e+01\n",
       "12_2012  182.3429326  144.6213816  1.988496e+02\n",
       "01_2013  185.6931160  222.7225681  1.368969e+02\n",
       "02_2013  -79.5570570  -49.0392538  9.372387e+01\n",
       "03_2013   36.1088908  -90.0675718 -1.071464e+02\n",
       "04_2013  -14.8144288   45.0095904  1.028325e+02\n",
       "05_2013   -8.1816329   23.6237569 -3.204211e+01\n",
       "06_2013  135.4784161   68.1778863  8.084942e+01\n",
       "07_2013 -158.0875117 -152.9694600 -1.319829e+02\n",
       "08_2013  -48.8250458  -89.0594323 -5.335647e+01\n",
       "09_2013   -6.8925146   15.3665065 -4.077052e-01\n",
       "10_2013   26.9907259   87.7535315  3.586863e+01\n",
       "11_2013  270.2327068  291.7093054  2.254901e+02\n",
       "12_2013  123.0374496  194.8117182  7.704754e+01\n",
       "01_2014   -1.7290490 -131.5792084  6.600521e+00\n",
       "02_2014  -24.8322715  -74.4133594  1.056285e+01\n",
       "03_2014 -111.3961022  -52.8071565 -5.035467e+01\n",
       "04_2014   90.0354818   96.4149444  5.024511e+01\n",
       "05_2014  -30.3151052  -50.2184622 -5.048781e+01\n",
       "06_2014  -29.9169507  -18.9163123  1.688368e+00\n",
       "07_2014  -32.3090523  -63.3473441 -3.239847e+01\n",
       "08_2014   -5.7324366   -4.3676129 -1.216003e+01\n",
       "09_2014    0.8224465    2.2623943 -2.009451e+00\n",
       "10_2014    5.1712478    7.6325307  6.753612e+00\n",
       "11_2014  174.1548248  208.3797471  1.466151e+02\n",
       "12_2014  255.6627297  285.9468085  1.050819e+02\n",
       "01_2015  -76.4611324 -157.0932233  6.663834e+01\n",
       "02_2015   71.9271070   99.8474291  1.115069e+02\n",
       "03_2015   40.8162598   53.1433403  1.117323e+02\n",
       "04_2015   63.8820040   34.4626940 -3.902620e+01\n",
       "05_2015 -185.2902963 -196.9693424 -1.467326e+02\n",
       "06_2015  -47.3821192  -64.5663025 -4.750988e+01\n",
       "07_2015  -10.5032590   -6.6222583 -9.560937e+00\n",
       "08_2015   11.0817497    5.6950474  5.182202e-01\n",
       "09_2015    3.0486784    0.8968376 -8.847098e-03\n",
       "10_2015    1.5594178    0.3962050  6.707014e+00\n",
       "11_2015   79.2128480  203.7825188  9.745592e+01\n",
       "12_2015  255.1464746  162.5503254  2.212138e+02\n",
       "01_2016   61.1964450   21.0683705  3.758181e+01\n",
       "02_2016  112.4028002  117.7098653  1.644511e+02\n",
       "03_2016 -112.0987088  -45.5493546 -2.044946e+01\n",
       "04_2016  104.9007449   -8.2234932 -1.522751e+02\n",
       "05_2016  -55.2790026   37.0350169  1.019550e+02\n",
       "06_2016   32.6785421    1.1687890 -4.043576e+01\n",
       "07_2016  -96.5716206 -125.1470853 -2.187392e+01\n",
       "08_2016   88.9698317   49.7565053 -5.090031e+00\n",
       "09_2016    3.0282138   86.1272936  6.985049e+01\n",
       "10_2016  156.4591093  161.6112353  1.144352e+02\n",
       "11_2016  272.6426777  259.8868766  1.026208e+02\n",
       "12_2016  -82.8562397 -175.2037137 -3.509937e+01\n",
       "01_2017   98.1807846  142.0617230  1.955800e+02\n",
       "02_2017    9.7906643  -58.6442076 -2.264299e+01\n",
       "03_2017   24.1367564   18.8936635  7.327615e+01\n",
       "04_2017   41.0797466    0.9345563  6.418870e+01\n",
       "05_2017 -159.0102462 -106.1875997 -1.926051e+02\n",
       "06_2017  -44.1117954  -28.0061253  2.458422e+01\n",
       "07_2017   11.6829358  -30.0840457 -3.859734e+01\n",
       "08_2017  -10.3403242  -12.4499561 -1.374327e+01\n",
       "09_2017   30.2256711   24.5848753  1.732315e+01\n",
       "10_2017   68.0232680   76.5792081  2.090707e+01\n",
       "11_2017  190.4708455  290.6533703  2.639674e+02\n",
       "12_2017   -7.0225602  -90.6427994  5.617654e+01\n",
       "01_2018  264.7520626  312.0637234  1.484677e+02\n",
       "02_2018   80.6406697  -17.1978409 -4.230091e+01\n",
       "03_2018 -133.2062439 -138.7317512  5.736365e+00\n",
       "04_2018   -2.0710516    1.1122090 -1.124531e+02\n",
       "05_2018 -162.7040695 -142.2903483 -5.267157e+01\n",
       "06_2018   12.1199546   -3.0018796 -3.768477e+00\n",
       "07_2018    3.8911140   -1.9607118  1.341758e+01\n",
       "08_2018   -3.6340212  -11.4585007 -1.786691e+01\n",
       "09_2018    1.5339092    1.3783133  4.952696e+00\n",
       "10_2018    1.7486541    0.2101306 -1.964487e+00\n",
       "11_2018  143.5447200  163.5165224  7.537093e+01\n",
       "12_2018   24.8831050   68.2203824  3.141775e+00\n",
       "01_2019  180.7901259  170.6592190  3.428365e+02\n",
       "02_2019   54.2497719   36.9478069 -6.755894e+01\n",
       "03_2019   46.7994635  -16.7412181  1.991774e+02\n",
       "04_2019  -88.2883084  -43.5681718 -1.502653e+02\n",
       "05_2019 -133.1776500 -154.6872488 -1.347660e+02\n",
       "06_2019   -9.5353951  -32.7749919 -1.329593e+01\n",
       "07_2019    4.7798717   15.3620288  3.677316e+00\n",
       "08_2019    7.7552759    1.6104070 -2.477296e+00\n",
       "09_2019    0.9129085   -0.9276040  3.183933e+00\n",
       "10_2019   -0.4414667    2.6552705  6.010475e-01\n",
       "11_2019    9.9811379   11.8042938  2.302451e+01\n",
       "12_2019  186.1088645  272.1537799  1.400401e+02\n",
       "01_2020   82.8408176   93.8933228  2.114149e+02\n",
       "02_2020  221.0620105   86.0596053  1.018788e+02\n",
       "03_2020    3.9719667    7.0289807 -1.183076e+02\n",
       "04_2020 -151.7264301 -141.8603029  2.537369e+01\n",
       "05_2020   60.4352503   52.2615872  8.344142e+00\n",
       "06_2020  -72.7347313  -86.8460227 -1.002757e+02\n",
       "07_2020  -34.9595236  -35.6493439 -5.571028e+00\n",
       "08_2020   -5.8625711    5.5600493  3.110724e+01\n",
       "09_2020   19.3557860   28.3673954 -3.498213e+01\n",
       "10_2020   77.5698553  119.9352238  1.034933e+02\n",
       "11_2020  180.8126710  250.1473512  1.514157e+02\n",
       "12_2020   18.5869533  -44.3464336  1.464306e+01\n",
       "01_2021  163.2711229  154.5240788  2.062319e+02\n",
       "02_2021   45.4630918   29.7337343 -2.118741e+00\n",
       "03_2021   10.7681297    8.7447731  1.503860e+02\n",
       "04_2021 -132.7457789 -159.5902355 -1.483531e+02\n",
       "05_2021  -70.4520138 -106.7715713 -9.125603e+01\n",
       "06_2021  172.3530434  183.2817624  1.347228e+02\n",
       "07_2021 -150.5392600 -150.3361676 -1.519610e+02\n",
       "08_2021   14.4872375    4.7988982  2.048987e+01\n",
       "09_2021   74.8528502  112.3014044  1.047368e+02\n",
       "10_2021  -38.0022019  -23.3493208 -9.011367e+01\n",
       "11_2021  294.3019783  403.5090783  2.697620e+02\n",
       "12_2021  -84.9561591 -152.0511682 -4.629499e+01\n",
       "01_2022  159.5995861   54.7404725  7.986120e+01\n",
       "02_2022   -1.7150622   24.3876408  1.084791e+02\n",
       "03_2022  208.1019068  183.1769056  8.565488e+01\n",
       "04_2022 -202.2576314 -186.2745195 -5.440763e+01\n",
       "05_2022   19.1758264  -14.1053852  4.877435e+01\n",
       "06_2022    9.4746225   80.1148149 -2.489273e+01\n",
       "07_2022  -94.3245474 -171.1175723 -1.102746e+02\n",
       "08_2022   59.1189462   58.8880604  9.210939e+00\n",
       "09_2022  -16.7644836   46.5013209  3.608119e+01\n",
       "10_2022  454.5491646  345.9266789  1.804501e+02\n",
       "11_2022   13.6554518  133.8998784  2.468244e+02\n",
       "12_2022  -87.4266125 -172.4049513 -1.199679e+02\n",
       "01_2023  -84.2929435  -80.7854311  2.857741e+00\n",
       "02_2023  262.7046157  237.2747967  2.467772e+02\n",
       "03_2023  -24.2048872   -8.5800758 -4.231077e+01\n",
       "04_2023  -30.6812655 -124.3416885 -1.090918e+02\n",
       "05_2023  -66.4734013  -27.3426739 -6.795106e+01\n",
       "06_2023  -60.8268782  -59.1245209 -2.418074e+01\n",
       "\n",
       "$P\n",
       "[1] 1\n",
       "\n",
       "$D\n",
       "[1] 0\n",
       "\n",
       "$Q\n",
       "[1] 1\n",
       "\n",
       "$W\n",
       "$W$w1\n",
       "  [,1] [,2] [,3]\n",
       "1  0.0    1  0.0\n",
       "2  0.5    0  0.5\n",
       "3  0.0    1  0.0\n",
       "attr(,\"call\")\n",
       "nb2mat(neighbours = nbrs)\n",
       "\n"
      ]
     },
     "metadata": {},
     "output_type": "display_data"
    },
    {
     "data": {
      "text/html": [
       "<dl>\n",
       "\t<dt>$BETA</dt>\n",
       "\t\t<dd><style>\n",
       ".list-inline {list-style: none; margin:0; padding: 0}\n",
       ".list-inline>li {display: inline-block}\n",
       ".list-inline>li:not(:last-child)::after {content: \"\\00b7\"; padding: 0 .5ex}\n",
       "</style>\n",
       "<ol class=list-inline><li>0.800703869411015</li><li>0.0738814301372126</li><li>-0.0147877629898255</li><li>0.0238396200844014</li><li>-0.0207062042516759</li><li>-0.101895466576656</li></ol>\n",
       "</dd>\n",
       "\t<dt>$PVAL</dt>\n",
       "\t\t<dd><style>\n",
       ".list-inline {list-style: none; margin:0; padding: 0}\n",
       ".list-inline>li {display: inline-block}\n",
       ".list-inline>li:not(:last-child)::after {content: \"\\00b7\"; padding: 0 .5ex}\n",
       "</style>\n",
       "<ol class=list-inline><li>1.11973760166175e-55</li><li>0.0838844350701194</li><li>0.828012440622398</li><li>0.711654675377077</li><li>0.742591165187772</li><li>0.083879688371497</li></ol>\n",
       "</dd>\n",
       "\t<dt>$NRMSE</dt>\n",
       "\t\t<dd><style>\n",
       ".list-inline {list-style: none; margin:0; padding: 0}\n",
       ".list-inline>li {display: inline-block}\n",
       ".list-inline>li:not(:last-child)::after {content: \"\\00b7\"; padding: 0 .5ex}\n",
       "</style>\n",
       "<ol class=list-inline><li>0.790915420288603</li><li>0.790565885828283</li><li>0.766642447393641</li></ol>\n",
       "</dd>\n",
       "\t<dt>$OBS</dt>\n",
       "\t\t<dd><table class=\"dataframe\">\n",
       "<caption>A matrix: 255 × 3 of type dbl</caption>\n",
       "<thead>\n",
       "\t<tr><th></th><th scope=col>JATIM_18</th><th scope=col>JATIM_21</th><th scope=col>JATIM_22</th></tr>\n",
       "</thead>\n",
       "<tbody>\n",
       "\t<tr><th scope=row>04_2002</th><td>196.8</td><td>196.6</td><td>153.5</td></tr>\n",
       "\t<tr><th scope=row>05_2002</th><td> 50.4</td><td> 88.0</td><td> 78.1</td></tr>\n",
       "\t<tr><th scope=row>06_2002</th><td>  1.4</td><td>  0.2</td><td>  0.0</td></tr>\n",
       "\t<tr><th scope=row>07_2002</th><td>  0.2</td><td>  0.3</td><td>  0.0</td></tr>\n",
       "\t<tr><th scope=row>08_2002</th><td>  0.0</td><td>  0.0</td><td>  0.0</td></tr>\n",
       "\t<tr><th scope=row>09_2002</th><td>  0.2</td><td>  0.1</td><td>  0.0</td></tr>\n",
       "\t<tr><th scope=row>10_2002</th><td>  0.4</td><td>  3.5</td><td>  0.0</td></tr>\n",
       "\t<tr><th scope=row>11_2002</th><td> 71.8</td><td>167.5</td><td> 72.2</td></tr>\n",
       "\t<tr><th scope=row>12_2002</th><td>207.8</td><td>288.7</td><td>126.4</td></tr>\n",
       "\t<tr><th scope=row>01_2003</th><td>329.2</td><td>358.7</td><td>380.0</td></tr>\n",
       "\t<tr><th scope=row>02_2003</th><td>291.1</td><td>315.6</td><td>372.4</td></tr>\n",
       "\t<tr><th scope=row>03_2003</th><td>284.4</td><td>415.2</td><td>350.3</td></tr>\n",
       "\t<tr><th scope=row>04_2003</th><td>127.1</td><td>171.6</td><td>115.0</td></tr>\n",
       "\t<tr><th scope=row>05_2003</th><td>118.9</td><td>125.6</td><td> 80.0</td></tr>\n",
       "\t<tr><th scope=row>06_2003</th><td> 19.2</td><td> 28.1</td><td> 15.0</td></tr>\n",
       "\t<tr><th scope=row>07_2003</th><td>  0.4</td><td>  0.0</td><td>  0.0</td></tr>\n",
       "\t<tr><th scope=row>08_2003</th><td>  0.0</td><td>  0.0</td><td>  0.0</td></tr>\n",
       "\t<tr><th scope=row>09_2003</th><td>  3.2</td><td>  7.0</td><td>  4.4</td></tr>\n",
       "\t<tr><th scope=row>10_2003</th><td> 17.6</td><td> 24.0</td><td>  4.7</td></tr>\n",
       "\t<tr><th scope=row>11_2003</th><td>231.7</td><td>328.0</td><td>158.0</td></tr>\n",
       "\t<tr><th scope=row>12_2003</th><td>302.5</td><td>389.7</td><td>241.4</td></tr>\n",
       "\t<tr><th scope=row>01_2004</th><td>240.8</td><td>335.3</td><td>250.0</td></tr>\n",
       "\t<tr><th scope=row>02_2004</th><td>269.4</td><td>420.9</td><td>259.2</td></tr>\n",
       "\t<tr><th scope=row>03_2004</th><td>317.9</td><td>374.7</td><td>316.3</td></tr>\n",
       "\t<tr><th scope=row>04_2004</th><td> 69.1</td><td>125.1</td><td> 86.6</td></tr>\n",
       "\t<tr><th scope=row>05_2004</th><td> 65.8</td><td> 96.4</td><td> 31.2</td></tr>\n",
       "\t<tr><th scope=row>06_2004</th><td> 21.5</td><td> 13.8</td><td>  1.0</td></tr>\n",
       "\t<tr><th scope=row>07_2004</th><td> 23.1</td><td> 15.1</td><td>  4.8</td></tr>\n",
       "\t<tr><th scope=row>08_2004</th><td>  0.3</td><td>  0.0</td><td>  0.4</td></tr>\n",
       "\t<tr><th scope=row>09_2004</th><td>  4.1</td><td> 35.9</td><td> 19.4</td></tr>\n",
       "\t<tr><th scope=row>⋮</th><td>⋮</td><td>⋮</td><td>⋮</td></tr>\n",
       "\t<tr><th scope=row>01_2021</th><td>363.8</td><td>429.4</td><td>394.9</td></tr>\n",
       "\t<tr><th scope=row>02_2021</th><td>355.4</td><td>399.5</td><td>332.3</td></tr>\n",
       "\t<tr><th scope=row>03_2021</th><td>301.9</td><td>370.9</td><td>423.3</td></tr>\n",
       "\t<tr><th scope=row>04_2021</th><td>124.5</td><td>165.8</td><td>203.0</td></tr>\n",
       "\t<tr><th scope=row>05_2021</th><td> 34.4</td><td> 42.9</td><td> 64.9</td></tr>\n",
       "\t<tr><th scope=row>06_2021</th><td>201.2</td><td>205.7</td><td>181.7</td></tr>\n",
       "\t<tr><th scope=row>07_2021</th><td>  5.6</td><td> 18.4</td><td>  5.5</td></tr>\n",
       "\t<tr><th scope=row>08_2021</th><td> 14.6</td><td> 37.2</td><td> 16.3</td></tr>\n",
       "\t<tr><th scope=row>09_2021</th><td> 97.5</td><td>127.4</td><td>119.4</td></tr>\n",
       "\t<tr><th scope=row>10_2021</th><td> 33.3</td><td> 87.6</td><td> 13.8</td></tr>\n",
       "\t<tr><th scope=row>11_2021</th><td>323.2</td><td>485.5</td><td>278.1</td></tr>\n",
       "\t<tr><th scope=row>12_2021</th><td>186.9</td><td>252.7</td><td>202.5</td></tr>\n",
       "\t<tr><th scope=row>01_2022</th><td>311.4</td><td>305.5</td><td>241.8</td></tr>\n",
       "\t<tr><th scope=row>02_2022</th><td>271.4</td><td>278.0</td><td>311.4</td></tr>\n",
       "\t<tr><th scope=row>03_2022</th><td>423.8</td><td>436.2</td><td>344.4</td></tr>\n",
       "\t<tr><th scope=row>04_2022</th><td>151.8</td><td>194.5</td><td>235.0</td></tr>\n",
       "\t<tr><th scope=row>05_2022</th><td>144.2</td><td>172.3</td><td>234.7</td></tr>\n",
       "\t<tr><th scope=row>06_2022</th><td>139.6</td><td>215.7</td><td>167.5</td></tr>\n",
       "\t<tr><th scope=row>07_2022</th><td>  9.4</td><td> 13.8</td><td> 27.5</td></tr>\n",
       "\t<tr><th scope=row>08_2022</th><td> 67.5</td><td> 74.3</td><td> 24.0</td></tr>\n",
       "\t<tr><th scope=row>09_2022</th><td> 40.1</td><td> 95.5</td><td> 57.9</td></tr>\n",
       "\t<tr><th scope=row>10_2022</th><td>481.6</td><td>430.4</td><td>230.7</td></tr>\n",
       "\t<tr><th scope=row>11_2022</th><td>409.4</td><td>506.3</td><td>452.0</td></tr>\n",
       "\t<tr><th scope=row>12_2022</th><td>248.6</td><td>297.8</td><td>262.9</td></tr>\n",
       "\t<tr><th scope=row>01_2023</th><td>144.7</td><td>189.5</td><td>210.3</td></tr>\n",
       "\t<tr><th scope=row>02_2023</th><td>384.3</td><td>387.8</td><td>417.0</td></tr>\n",
       "\t<tr><th scope=row>03_2023</th><td>283.2</td><td>324.5</td><td>312.0</td></tr>\n",
       "\t<tr><th scope=row>04_2023</th><td>196.4</td><td>182.4</td><td>143.9</td></tr>\n",
       "\t<tr><th scope=row>05_2023</th><td>108.7</td><td>128.4</td><td> 43.6</td></tr>\n",
       "\t<tr><th scope=row>06_2023</th><td> 27.1</td><td> 39.3</td><td>  9.6</td></tr>\n",
       "</tbody>\n",
       "</table>\n",
       "</dd>\n",
       "\t<dt>$FIT</dt>\n",
       "\t\t<dd><table class=\"dataframe\">\n",
       "<caption>A matrix: 255 × 3 of type dbl</caption>\n",
       "<tbody>\n",
       "\t<tr><td> 1.804918e+02</td><td>250.529695</td><td>207.9871493</td></tr>\n",
       "\t<tr><td> 1.648411e+02</td><td>176.345487</td><td>144.9432634</td></tr>\n",
       "\t<tr><td> 4.360626e+01</td><td> 82.647783</td><td> 69.1375101</td></tr>\n",
       "\t<tr><td> 1.128374e+00</td><td>  7.759894</td><td>  4.7908519</td></tr>\n",
       "\t<tr><td> 1.712230e-01</td><td>  7.919726</td><td>  2.7114769</td></tr>\n",
       "\t<tr><td>-9.175993e-14</td><td> 19.890654</td><td>  0.3879430</td></tr>\n",
       "\t<tr><td> 5.907190e+00</td><td>  9.703487</td><td>  0.5531770</td></tr>\n",
       "\t<tr><td> 3.700071e+00</td><td>  3.413743</td><td>  1.2007386</td></tr>\n",
       "\t<tr><td> 6.696342e+01</td><td>145.158306</td><td> 61.5525332</td></tr>\n",
       "\t<tr><td> 1.774935e+02</td><td>255.618953</td><td>102.7614753</td></tr>\n",
       "\t<tr><td> 2.774437e+02</td><td>334.772138</td><td>306.5839737</td></tr>\n",
       "\t<tr><td> 2.459021e+02</td><td>285.079051</td><td>310.4233454</td></tr>\n",
       "\t<tr><td> 2.405369e+02</td><td>351.402336</td><td>296.4333144</td></tr>\n",
       "\t<tr><td> 9.780338e+01</td><td>112.675281</td><td> 97.2857534</td></tr>\n",
       "\t<tr><td> 9.257720e+01</td><td>103.161459</td><td> 73.6530902</td></tr>\n",
       "\t<tr><td> 1.477297e+01</td><td> 28.907063</td><td> 13.6224882</td></tr>\n",
       "\t<tr><td>-2.938335e-01</td><td> 25.519033</td><td>  2.9266677</td></tr>\n",
       "\t<tr><td>-2.172603e+00</td><td>  3.763648</td><td>  1.4554744</td></tr>\n",
       "\t<tr><td> 8.831284e+00</td><td> 18.837428</td><td>  4.9349991</td></tr>\n",
       "\t<tr><td> 1.668562e+01</td><td> 23.459811</td><td>  4.5052234</td></tr>\n",
       "\t<tr><td> 2.002264e+02</td><td>290.862298</td><td>132.9363622</td></tr>\n",
       "\t<tr><td> 2.579987e+02</td><td>351.195040</td><td>193.2021242</td></tr>\n",
       "\t<tr><td> 2.063899e+02</td><td>291.856646</td><td>209.4370136</td></tr>\n",
       "\t<tr><td> 2.310380e+02</td><td>339.955535</td><td>223.1827637</td></tr>\n",
       "\t<tr><td> 2.619990e+02</td><td>327.177529</td><td>259.9794755</td></tr>\n",
       "\t<tr><td> 4.702447e+01</td><td>103.014117</td><td> 79.0679903</td></tr>\n",
       "\t<tr><td> 5.406890e+01</td><td> 71.699151</td><td> 35.4814740</td></tr>\n",
       "\t<tr><td> 1.585694e+01</td><td>  5.773787</td><td>  1.6156450</td></tr>\n",
       "\t<tr><td> 1.233753e+01</td><td> 47.356782</td><td>  6.3853439</td></tr>\n",
       "\t<tr><td> 5.485489e+00</td><td>  5.102987</td><td>  0.4998454</td></tr>\n",
       "\t<tr><td>⋮</td><td>⋮</td><td>⋮</td></tr>\n",
       "\t<tr><td>203.380783</td><td>270.04588</td><td>186.568072</td></tr>\n",
       "\t<tr><td>307.383365</td><td>374.09496</td><td>330.520369</td></tr>\n",
       "\t<tr><td>296.188314</td><td>342.16864</td><td>277.390197</td></tr>\n",
       "\t<tr><td>246.913770</td><td>335.98312</td><td>348.932217</td></tr>\n",
       "\t<tr><td> 98.269330</td><td>121.77097</td><td>174.602227</td></tr>\n",
       "\t<tr><td> 27.902584</td><td> 33.65388</td><td> 61.180723</td></tr>\n",
       "\t<tr><td>163.432846</td><td>186.30244</td><td>150.926214</td></tr>\n",
       "\t<tr><td>  4.632098</td><td> 43.59951</td><td>  3.080194</td></tr>\n",
       "\t<tr><td> 15.308987</td><td> 39.24702</td><td> 19.383774</td></tr>\n",
       "\t<tr><td> 90.288064</td><td>100.95973</td><td> 98.559812</td></tr>\n",
       "\t<tr><td> 28.051230</td><td>100.13397</td><td> 13.570597</td></tr>\n",
       "\t<tr><td>276.160498</td><td>425.57494</td><td>231.368937</td></tr>\n",
       "\t<tr><td>163.696897</td><td>217.77536</td><td>160.366906</td></tr>\n",
       "\t<tr><td>259.060167</td><td>282.32370</td><td>210.902511</td></tr>\n",
       "\t<tr><td>226.029797</td><td>222.81453</td><td>255.639297</td></tr>\n",
       "\t<tr><td>346.419590</td><td>407.89653</td><td>290.970284</td></tr>\n",
       "\t<tr><td>119.244280</td><td>160.78513</td><td>189.631885</td></tr>\n",
       "\t<tr><td>125.413613</td><td>145.26580</td><td>203.042171</td></tr>\n",
       "\t<tr><td>118.660472</td><td>179.63606</td><td>142.370137</td></tr>\n",
       "\t<tr><td>  3.417078</td><td> 32.60241</td><td> 21.508954</td></tr>\n",
       "\t<tr><td> 55.722771</td><td> 58.79248</td><td> 27.203563</td></tr>\n",
       "\t<tr><td> 41.380222</td><td> 94.65602</td><td> 46.989612</td></tr>\n",
       "\t<tr><td>400.587548</td><td>414.13800</td><td>193.290636</td></tr>\n",
       "\t<tr><td>346.593619</td><td>462.39336</td><td>363.115529</td></tr>\n",
       "\t<tr><td>214.520828</td><td>257.69499</td><td>226.164096</td></tr>\n",
       "\t<tr><td>122.116419</td><td>115.48741</td><td>182.325472</td></tr>\n",
       "\t<tr><td>309.807643</td><td>351.19012</td><td>345.025718</td></tr>\n",
       "\t<tr><td>231.051396</td><td>322.85806</td><td>254.292414</td></tr>\n",
       "\t<tr><td>162.664025</td><td>163.98046</td><td>125.618388</td></tr>\n",
       "\t<tr><td> 99.567750</td><td> 71.55623</td><td> 45.759420</td></tr>\n",
       "</tbody>\n",
       "</table>\n",
       "</dd>\n",
       "\t<dt>$RES</dt>\n",
       "\t\t<dd><table class=\"dataframe\">\n",
       "<caption>A matrix: 255 × 3 of type dbl</caption>\n",
       "<thead>\n",
       "\t<tr><th></th><th scope=col>JATIM_18</th><th scope=col>JATIM_21</th><th scope=col>JATIM_22</th></tr>\n",
       "</thead>\n",
       "<tbody>\n",
       "\t<tr><th scope=row>04_2002</th><td>  16.3082267</td><td> -53.929695</td><td> -54.4871493</td></tr>\n",
       "\t<tr><th scope=row>05_2002</th><td>-114.4410661</td><td> -88.345487</td><td> -66.8432634</td></tr>\n",
       "\t<tr><th scope=row>06_2002</th><td> -42.2062579</td><td> -82.447783</td><td> -69.1375101</td></tr>\n",
       "\t<tr><th scope=row>07_2002</th><td>  -0.9283736</td><td>  -7.459894</td><td>  -4.7908519</td></tr>\n",
       "\t<tr><th scope=row>08_2002</th><td>  -0.1712230</td><td>  -7.919726</td><td>  -2.7114769</td></tr>\n",
       "\t<tr><th scope=row>09_2002</th><td>   0.2000000</td><td> -19.790654</td><td>  -0.3879430</td></tr>\n",
       "\t<tr><th scope=row>10_2002</th><td>  -5.5071897</td><td>  -6.203487</td><td>  -0.5531770</td></tr>\n",
       "\t<tr><th scope=row>11_2002</th><td>  68.0999287</td><td> 164.086257</td><td>  70.9992614</td></tr>\n",
       "\t<tr><th scope=row>12_2002</th><td> 140.8365843</td><td> 143.541694</td><td>  64.8474668</td></tr>\n",
       "\t<tr><th scope=row>01_2003</th><td> 151.7064931</td><td> 103.081047</td><td> 277.2385247</td></tr>\n",
       "\t<tr><th scope=row>02_2003</th><td>  13.6563044</td><td> -19.172138</td><td>  65.8160263</td></tr>\n",
       "\t<tr><th scope=row>03_2003</th><td>  38.4978927</td><td> 130.120949</td><td>  39.8766546</td></tr>\n",
       "\t<tr><th scope=row>04_2003</th><td>-113.4368822</td><td>-179.802336</td><td>-181.4333144</td></tr>\n",
       "\t<tr><th scope=row>05_2003</th><td>  21.0966178</td><td>  12.924719</td><td> -17.2857534</td></tr>\n",
       "\t<tr><th scope=row>06_2003</th><td> -73.3772023</td><td> -75.061459</td><td> -58.6530902</td></tr>\n",
       "\t<tr><th scope=row>07_2003</th><td> -14.3729728</td><td> -28.907063</td><td> -13.6224882</td></tr>\n",
       "\t<tr><th scope=row>08_2003</th><td>   0.2938335</td><td> -25.519033</td><td>  -2.9266677</td></tr>\n",
       "\t<tr><th scope=row>09_2003</th><td>   5.3726026</td><td>   3.236352</td><td>   2.9445256</td></tr>\n",
       "\t<tr><th scope=row>10_2003</th><td>   8.7687160</td><td>   5.162572</td><td>  -0.2349991</td></tr>\n",
       "\t<tr><th scope=row>11_2003</th><td> 215.0143809</td><td> 304.540189</td><td> 153.4947766</td></tr>\n",
       "\t<tr><th scope=row>12_2003</th><td> 102.2736105</td><td>  98.837702</td><td> 108.4636378</td></tr>\n",
       "\t<tr><th scope=row>01_2004</th><td> -17.1986763</td><td> -15.895040</td><td>  56.7978758</td></tr>\n",
       "\t<tr><th scope=row>02_2004</th><td>  63.0100998</td><td> 129.043354</td><td>  49.7629864</td></tr>\n",
       "\t<tr><th scope=row>03_2004</th><td>  86.8619529</td><td>  34.744465</td><td>  93.1172363</td></tr>\n",
       "\t<tr><th scope=row>04_2004</th><td>-192.8989502</td><td>-202.077529</td><td>-173.3794755</td></tr>\n",
       "\t<tr><th scope=row>05_2004</th><td>  18.7755251</td><td>  -6.614117</td><td> -47.8679903</td></tr>\n",
       "\t<tr><th scope=row>06_2004</th><td> -32.5688996</td><td> -57.899151</td><td> -34.4814740</td></tr>\n",
       "\t<tr><th scope=row>07_2004</th><td>   7.2430560</td><td>   9.326213</td><td>   3.1843550</td></tr>\n",
       "\t<tr><th scope=row>08_2004</th><td> -12.0375277</td><td> -47.356782</td><td>  -5.9853439</td></tr>\n",
       "\t<tr><th scope=row>09_2004</th><td>  -1.3854887</td><td>  30.797013</td><td>  18.9001546</td></tr>\n",
       "\t<tr><th scope=row>⋮</th><td>⋮</td><td>⋮</td><td>⋮</td></tr>\n",
       "\t<tr><th scope=row>01_2021</th><td> 160.419217</td><td> 159.354118</td><td> 208.331928</td></tr>\n",
       "\t<tr><th scope=row>02_2021</th><td>  48.016635</td><td>  25.405039</td><td>   1.779631</td></tr>\n",
       "\t<tr><th scope=row>03_2021</th><td>   5.711686</td><td>  28.731356</td><td> 145.909803</td></tr>\n",
       "\t<tr><th scope=row>04_2021</th><td>-122.413770</td><td>-170.183118</td><td>-145.932217</td></tr>\n",
       "\t<tr><th scope=row>05_2021</th><td> -63.869330</td><td> -78.870966</td><td>-109.702227</td></tr>\n",
       "\t<tr><th scope=row>06_2021</th><td> 173.297416</td><td> 172.046123</td><td> 120.519277</td></tr>\n",
       "\t<tr><th scope=row>07_2021</th><td>-157.832846</td><td>-167.902442</td><td>-145.426214</td></tr>\n",
       "\t<tr><th scope=row>08_2021</th><td>   9.967902</td><td>  -6.399507</td><td>  13.219806</td></tr>\n",
       "\t<tr><th scope=row>09_2021</th><td>  82.191013</td><td>  88.152985</td><td> 100.016226</td></tr>\n",
       "\t<tr><th scope=row>10_2021</th><td> -56.988064</td><td> -13.359726</td><td> -84.759812</td></tr>\n",
       "\t<tr><th scope=row>11_2021</th><td> 295.148770</td><td> 385.366028</td><td> 264.529403</td></tr>\n",
       "\t<tr><th scope=row>12_2021</th><td> -89.260498</td><td>-172.874943</td><td> -28.868937</td></tr>\n",
       "\t<tr><th scope=row>01_2022</th><td> 147.703103</td><td>  87.724640</td><td>  81.433094</td></tr>\n",
       "\t<tr><th scope=row>02_2022</th><td>  12.339833</td><td>  -4.323702</td><td> 100.497489</td></tr>\n",
       "\t<tr><th scope=row>03_2022</th><td> 197.770203</td><td> 213.385470</td><td>  88.760703</td></tr>\n",
       "\t<tr><th scope=row>04_2022</th><td>-194.619590</td><td>-213.396531</td><td> -55.970284</td></tr>\n",
       "\t<tr><th scope=row>05_2022</th><td>  24.955720</td><td>  11.514873</td><td>  45.068115</td></tr>\n",
       "\t<tr><th scope=row>06_2022</th><td>  14.186387</td><td>  70.434198</td><td> -35.542171</td></tr>\n",
       "\t<tr><th scope=row>07_2022</th><td>-109.260472</td><td>-165.836062</td><td>-114.870137</td></tr>\n",
       "\t<tr><th scope=row>08_2022</th><td>  64.082922</td><td>  41.697589</td><td>   2.491046</td></tr>\n",
       "\t<tr><th scope=row>09_2022</th><td> -15.622771</td><td>  36.707520</td><td>  30.696437</td></tr>\n",
       "\t<tr><th scope=row>10_2022</th><td> 440.219778</td><td> 335.743980</td><td> 183.710388</td></tr>\n",
       "\t<tr><th scope=row>11_2022</th><td>   8.812452</td><td>  92.161996</td><td> 258.709364</td></tr>\n",
       "\t<tr><th scope=row>12_2022</th><td> -97.993619</td><td>-164.593362</td><td>-100.215529</td></tr>\n",
       "\t<tr><th scope=row>01_2023</th><td> -69.820828</td><td> -68.194991</td><td> -15.864096</td></tr>\n",
       "\t<tr><th scope=row>02_2023</th><td> 262.183581</td><td> 272.312587</td><td> 234.674528</td></tr>\n",
       "\t<tr><th scope=row>03_2023</th><td> -26.607643</td><td> -26.690124</td><td> -33.025718</td></tr>\n",
       "\t<tr><th scope=row>04_2023</th><td> -34.651396</td><td>-140.458064</td><td>-110.392414</td></tr>\n",
       "\t<tr><th scope=row>05_2023</th><td> -53.964025</td><td> -35.580460</td><td> -82.018388</td></tr>\n",
       "\t<tr><th scope=row>06_2023</th><td> -72.467750</td><td> -32.256226</td><td> -36.159420</td></tr>\n",
       "</tbody>\n",
       "</table>\n",
       "</dd>\n",
       "\t<dt>$P</dt>\n",
       "\t\t<dd>1</dd>\n",
       "\t<dt>$D</dt>\n",
       "\t\t<dd>0</dd>\n",
       "\t<dt>$Q</dt>\n",
       "\t\t<dd>2</dd>\n",
       "\t<dt>$W</dt>\n",
       "\t\t<dd><strong>$w1</strong> = <table class=\"dataframe\">\n",
       "<caption>A matrix: 3 × 3 of type dbl</caption>\n",
       "<tbody>\n",
       "\t<tr><th scope=row>1</th><td>0.0</td><td>1</td><td>0.0</td></tr>\n",
       "\t<tr><th scope=row>2</th><td>0.5</td><td>0</td><td>0.5</td></tr>\n",
       "\t<tr><th scope=row>3</th><td>0.0</td><td>1</td><td>0.0</td></tr>\n",
       "</tbody>\n",
       "</table>\n",
       "</dd>\n",
       "</dl>\n"
      ],
      "text/latex": [
       "\\begin{description}\n",
       "\\item[\\$BETA] \\begin{enumerate*}\n",
       "\\item 0.800703869411015\n",
       "\\item 0.0738814301372126\n",
       "\\item -0.0147877629898255\n",
       "\\item 0.0238396200844014\n",
       "\\item -0.0207062042516759\n",
       "\\item -0.101895466576656\n",
       "\\end{enumerate*}\n",
       "\n",
       "\\item[\\$PVAL] \\begin{enumerate*}\n",
       "\\item 1.11973760166175e-55\n",
       "\\item 0.0838844350701194\n",
       "\\item 0.828012440622398\n",
       "\\item 0.711654675377077\n",
       "\\item 0.742591165187772\n",
       "\\item 0.083879688371497\n",
       "\\end{enumerate*}\n",
       "\n",
       "\\item[\\$NRMSE] \\begin{enumerate*}\n",
       "\\item 0.790915420288603\n",
       "\\item 0.790565885828283\n",
       "\\item 0.766642447393641\n",
       "\\end{enumerate*}\n",
       "\n",
       "\\item[\\$OBS] A matrix: 255 × 3 of type dbl\n",
       "\\begin{tabular}{r|lll}\n",
       "  & JATIM\\_18 & JATIM\\_21 & JATIM\\_22\\\\\n",
       "\\hline\n",
       "\t04\\_2002 & 196.8 & 196.6 & 153.5\\\\\n",
       "\t05\\_2002 &  50.4 &  88.0 &  78.1\\\\\n",
       "\t06\\_2002 &   1.4 &   0.2 &   0.0\\\\\n",
       "\t07\\_2002 &   0.2 &   0.3 &   0.0\\\\\n",
       "\t08\\_2002 &   0.0 &   0.0 &   0.0\\\\\n",
       "\t09\\_2002 &   0.2 &   0.1 &   0.0\\\\\n",
       "\t10\\_2002 &   0.4 &   3.5 &   0.0\\\\\n",
       "\t11\\_2002 &  71.8 & 167.5 &  72.2\\\\\n",
       "\t12\\_2002 & 207.8 & 288.7 & 126.4\\\\\n",
       "\t01\\_2003 & 329.2 & 358.7 & 380.0\\\\\n",
       "\t02\\_2003 & 291.1 & 315.6 & 372.4\\\\\n",
       "\t03\\_2003 & 284.4 & 415.2 & 350.3\\\\\n",
       "\t04\\_2003 & 127.1 & 171.6 & 115.0\\\\\n",
       "\t05\\_2003 & 118.9 & 125.6 &  80.0\\\\\n",
       "\t06\\_2003 &  19.2 &  28.1 &  15.0\\\\\n",
       "\t07\\_2003 &   0.4 &   0.0 &   0.0\\\\\n",
       "\t08\\_2003 &   0.0 &   0.0 &   0.0\\\\\n",
       "\t09\\_2003 &   3.2 &   7.0 &   4.4\\\\\n",
       "\t10\\_2003 &  17.6 &  24.0 &   4.7\\\\\n",
       "\t11\\_2003 & 231.7 & 328.0 & 158.0\\\\\n",
       "\t12\\_2003 & 302.5 & 389.7 & 241.4\\\\\n",
       "\t01\\_2004 & 240.8 & 335.3 & 250.0\\\\\n",
       "\t02\\_2004 & 269.4 & 420.9 & 259.2\\\\\n",
       "\t03\\_2004 & 317.9 & 374.7 & 316.3\\\\\n",
       "\t04\\_2004 &  69.1 & 125.1 &  86.6\\\\\n",
       "\t05\\_2004 &  65.8 &  96.4 &  31.2\\\\\n",
       "\t06\\_2004 &  21.5 &  13.8 &   1.0\\\\\n",
       "\t07\\_2004 &  23.1 &  15.1 &   4.8\\\\\n",
       "\t08\\_2004 &   0.3 &   0.0 &   0.4\\\\\n",
       "\t09\\_2004 &   4.1 &  35.9 &  19.4\\\\\n",
       "\t⋮ & ⋮ & ⋮ & ⋮\\\\\n",
       "\t01\\_2021 & 363.8 & 429.4 & 394.9\\\\\n",
       "\t02\\_2021 & 355.4 & 399.5 & 332.3\\\\\n",
       "\t03\\_2021 & 301.9 & 370.9 & 423.3\\\\\n",
       "\t04\\_2021 & 124.5 & 165.8 & 203.0\\\\\n",
       "\t05\\_2021 &  34.4 &  42.9 &  64.9\\\\\n",
       "\t06\\_2021 & 201.2 & 205.7 & 181.7\\\\\n",
       "\t07\\_2021 &   5.6 &  18.4 &   5.5\\\\\n",
       "\t08\\_2021 &  14.6 &  37.2 &  16.3\\\\\n",
       "\t09\\_2021 &  97.5 & 127.4 & 119.4\\\\\n",
       "\t10\\_2021 &  33.3 &  87.6 &  13.8\\\\\n",
       "\t11\\_2021 & 323.2 & 485.5 & 278.1\\\\\n",
       "\t12\\_2021 & 186.9 & 252.7 & 202.5\\\\\n",
       "\t01\\_2022 & 311.4 & 305.5 & 241.8\\\\\n",
       "\t02\\_2022 & 271.4 & 278.0 & 311.4\\\\\n",
       "\t03\\_2022 & 423.8 & 436.2 & 344.4\\\\\n",
       "\t04\\_2022 & 151.8 & 194.5 & 235.0\\\\\n",
       "\t05\\_2022 & 144.2 & 172.3 & 234.7\\\\\n",
       "\t06\\_2022 & 139.6 & 215.7 & 167.5\\\\\n",
       "\t07\\_2022 &   9.4 &  13.8 &  27.5\\\\\n",
       "\t08\\_2022 &  67.5 &  74.3 &  24.0\\\\\n",
       "\t09\\_2022 &  40.1 &  95.5 &  57.9\\\\\n",
       "\t10\\_2022 & 481.6 & 430.4 & 230.7\\\\\n",
       "\t11\\_2022 & 409.4 & 506.3 & 452.0\\\\\n",
       "\t12\\_2022 & 248.6 & 297.8 & 262.9\\\\\n",
       "\t01\\_2023 & 144.7 & 189.5 & 210.3\\\\\n",
       "\t02\\_2023 & 384.3 & 387.8 & 417.0\\\\\n",
       "\t03\\_2023 & 283.2 & 324.5 & 312.0\\\\\n",
       "\t04\\_2023 & 196.4 & 182.4 & 143.9\\\\\n",
       "\t05\\_2023 & 108.7 & 128.4 &  43.6\\\\\n",
       "\t06\\_2023 &  27.1 &  39.3 &   9.6\\\\\n",
       "\\end{tabular}\n",
       "\n",
       "\\item[\\$FIT] A matrix: 255 × 3 of type dbl\n",
       "\\begin{tabular}{lll}\n",
       "\t  1.804918e+02 & 250.529695 & 207.9871493\\\\\n",
       "\t  1.648411e+02 & 176.345487 & 144.9432634\\\\\n",
       "\t  4.360626e+01 &  82.647783 &  69.1375101\\\\\n",
       "\t  1.128374e+00 &   7.759894 &   4.7908519\\\\\n",
       "\t  1.712230e-01 &   7.919726 &   2.7114769\\\\\n",
       "\t -9.175993e-14 &  19.890654 &   0.3879430\\\\\n",
       "\t  5.907190e+00 &   9.703487 &   0.5531770\\\\\n",
       "\t  3.700071e+00 &   3.413743 &   1.2007386\\\\\n",
       "\t  6.696342e+01 & 145.158306 &  61.5525332\\\\\n",
       "\t  1.774935e+02 & 255.618953 & 102.7614753\\\\\n",
       "\t  2.774437e+02 & 334.772138 & 306.5839737\\\\\n",
       "\t  2.459021e+02 & 285.079051 & 310.4233454\\\\\n",
       "\t  2.405369e+02 & 351.402336 & 296.4333144\\\\\n",
       "\t  9.780338e+01 & 112.675281 &  97.2857534\\\\\n",
       "\t  9.257720e+01 & 103.161459 &  73.6530902\\\\\n",
       "\t  1.477297e+01 &  28.907063 &  13.6224882\\\\\n",
       "\t -2.938335e-01 &  25.519033 &   2.9266677\\\\\n",
       "\t -2.172603e+00 &   3.763648 &   1.4554744\\\\\n",
       "\t  8.831284e+00 &  18.837428 &   4.9349991\\\\\n",
       "\t  1.668562e+01 &  23.459811 &   4.5052234\\\\\n",
       "\t  2.002264e+02 & 290.862298 & 132.9363622\\\\\n",
       "\t  2.579987e+02 & 351.195040 & 193.2021242\\\\\n",
       "\t  2.063899e+02 & 291.856646 & 209.4370136\\\\\n",
       "\t  2.310380e+02 & 339.955535 & 223.1827637\\\\\n",
       "\t  2.619990e+02 & 327.177529 & 259.9794755\\\\\n",
       "\t  4.702447e+01 & 103.014117 &  79.0679903\\\\\n",
       "\t  5.406890e+01 &  71.699151 &  35.4814740\\\\\n",
       "\t  1.585694e+01 &   5.773787 &   1.6156450\\\\\n",
       "\t  1.233753e+01 &  47.356782 &   6.3853439\\\\\n",
       "\t  5.485489e+00 &   5.102987 &   0.4998454\\\\\n",
       "\t ⋮ & ⋮ & ⋮\\\\\n",
       "\t 203.380783 & 270.04588 & 186.568072\\\\\n",
       "\t 307.383365 & 374.09496 & 330.520369\\\\\n",
       "\t 296.188314 & 342.16864 & 277.390197\\\\\n",
       "\t 246.913770 & 335.98312 & 348.932217\\\\\n",
       "\t  98.269330 & 121.77097 & 174.602227\\\\\n",
       "\t  27.902584 &  33.65388 &  61.180723\\\\\n",
       "\t 163.432846 & 186.30244 & 150.926214\\\\\n",
       "\t   4.632098 &  43.59951 &   3.080194\\\\\n",
       "\t  15.308987 &  39.24702 &  19.383774\\\\\n",
       "\t  90.288064 & 100.95973 &  98.559812\\\\\n",
       "\t  28.051230 & 100.13397 &  13.570597\\\\\n",
       "\t 276.160498 & 425.57494 & 231.368937\\\\\n",
       "\t 163.696897 & 217.77536 & 160.366906\\\\\n",
       "\t 259.060167 & 282.32370 & 210.902511\\\\\n",
       "\t 226.029797 & 222.81453 & 255.639297\\\\\n",
       "\t 346.419590 & 407.89653 & 290.970284\\\\\n",
       "\t 119.244280 & 160.78513 & 189.631885\\\\\n",
       "\t 125.413613 & 145.26580 & 203.042171\\\\\n",
       "\t 118.660472 & 179.63606 & 142.370137\\\\\n",
       "\t   3.417078 &  32.60241 &  21.508954\\\\\n",
       "\t  55.722771 &  58.79248 &  27.203563\\\\\n",
       "\t  41.380222 &  94.65602 &  46.989612\\\\\n",
       "\t 400.587548 & 414.13800 & 193.290636\\\\\n",
       "\t 346.593619 & 462.39336 & 363.115529\\\\\n",
       "\t 214.520828 & 257.69499 & 226.164096\\\\\n",
       "\t 122.116419 & 115.48741 & 182.325472\\\\\n",
       "\t 309.807643 & 351.19012 & 345.025718\\\\\n",
       "\t 231.051396 & 322.85806 & 254.292414\\\\\n",
       "\t 162.664025 & 163.98046 & 125.618388\\\\\n",
       "\t  99.567750 &  71.55623 &  45.759420\\\\\n",
       "\\end{tabular}\n",
       "\n",
       "\\item[\\$RES] A matrix: 255 × 3 of type dbl\n",
       "\\begin{tabular}{r|lll}\n",
       "  & JATIM\\_18 & JATIM\\_21 & JATIM\\_22\\\\\n",
       "\\hline\n",
       "\t04\\_2002 &   16.3082267 &  -53.929695 &  -54.4871493\\\\\n",
       "\t05\\_2002 & -114.4410661 &  -88.345487 &  -66.8432634\\\\\n",
       "\t06\\_2002 &  -42.2062579 &  -82.447783 &  -69.1375101\\\\\n",
       "\t07\\_2002 &   -0.9283736 &   -7.459894 &   -4.7908519\\\\\n",
       "\t08\\_2002 &   -0.1712230 &   -7.919726 &   -2.7114769\\\\\n",
       "\t09\\_2002 &    0.2000000 &  -19.790654 &   -0.3879430\\\\\n",
       "\t10\\_2002 &   -5.5071897 &   -6.203487 &   -0.5531770\\\\\n",
       "\t11\\_2002 &   68.0999287 &  164.086257 &   70.9992614\\\\\n",
       "\t12\\_2002 &  140.8365843 &  143.541694 &   64.8474668\\\\\n",
       "\t01\\_2003 &  151.7064931 &  103.081047 &  277.2385247\\\\\n",
       "\t02\\_2003 &   13.6563044 &  -19.172138 &   65.8160263\\\\\n",
       "\t03\\_2003 &   38.4978927 &  130.120949 &   39.8766546\\\\\n",
       "\t04\\_2003 & -113.4368822 & -179.802336 & -181.4333144\\\\\n",
       "\t05\\_2003 &   21.0966178 &   12.924719 &  -17.2857534\\\\\n",
       "\t06\\_2003 &  -73.3772023 &  -75.061459 &  -58.6530902\\\\\n",
       "\t07\\_2003 &  -14.3729728 &  -28.907063 &  -13.6224882\\\\\n",
       "\t08\\_2003 &    0.2938335 &  -25.519033 &   -2.9266677\\\\\n",
       "\t09\\_2003 &    5.3726026 &    3.236352 &    2.9445256\\\\\n",
       "\t10\\_2003 &    8.7687160 &    5.162572 &   -0.2349991\\\\\n",
       "\t11\\_2003 &  215.0143809 &  304.540189 &  153.4947766\\\\\n",
       "\t12\\_2003 &  102.2736105 &   98.837702 &  108.4636378\\\\\n",
       "\t01\\_2004 &  -17.1986763 &  -15.895040 &   56.7978758\\\\\n",
       "\t02\\_2004 &   63.0100998 &  129.043354 &   49.7629864\\\\\n",
       "\t03\\_2004 &   86.8619529 &   34.744465 &   93.1172363\\\\\n",
       "\t04\\_2004 & -192.8989502 & -202.077529 & -173.3794755\\\\\n",
       "\t05\\_2004 &   18.7755251 &   -6.614117 &  -47.8679903\\\\\n",
       "\t06\\_2004 &  -32.5688996 &  -57.899151 &  -34.4814740\\\\\n",
       "\t07\\_2004 &    7.2430560 &    9.326213 &    3.1843550\\\\\n",
       "\t08\\_2004 &  -12.0375277 &  -47.356782 &   -5.9853439\\\\\n",
       "\t09\\_2004 &   -1.3854887 &   30.797013 &   18.9001546\\\\\n",
       "\t⋮ & ⋮ & ⋮ & ⋮\\\\\n",
       "\t01\\_2021 &  160.419217 &  159.354118 &  208.331928\\\\\n",
       "\t02\\_2021 &   48.016635 &   25.405039 &    1.779631\\\\\n",
       "\t03\\_2021 &    5.711686 &   28.731356 &  145.909803\\\\\n",
       "\t04\\_2021 & -122.413770 & -170.183118 & -145.932217\\\\\n",
       "\t05\\_2021 &  -63.869330 &  -78.870966 & -109.702227\\\\\n",
       "\t06\\_2021 &  173.297416 &  172.046123 &  120.519277\\\\\n",
       "\t07\\_2021 & -157.832846 & -167.902442 & -145.426214\\\\\n",
       "\t08\\_2021 &    9.967902 &   -6.399507 &   13.219806\\\\\n",
       "\t09\\_2021 &   82.191013 &   88.152985 &  100.016226\\\\\n",
       "\t10\\_2021 &  -56.988064 &  -13.359726 &  -84.759812\\\\\n",
       "\t11\\_2021 &  295.148770 &  385.366028 &  264.529403\\\\\n",
       "\t12\\_2021 &  -89.260498 & -172.874943 &  -28.868937\\\\\n",
       "\t01\\_2022 &  147.703103 &   87.724640 &   81.433094\\\\\n",
       "\t02\\_2022 &   12.339833 &   -4.323702 &  100.497489\\\\\n",
       "\t03\\_2022 &  197.770203 &  213.385470 &   88.760703\\\\\n",
       "\t04\\_2022 & -194.619590 & -213.396531 &  -55.970284\\\\\n",
       "\t05\\_2022 &   24.955720 &   11.514873 &   45.068115\\\\\n",
       "\t06\\_2022 &   14.186387 &   70.434198 &  -35.542171\\\\\n",
       "\t07\\_2022 & -109.260472 & -165.836062 & -114.870137\\\\\n",
       "\t08\\_2022 &   64.082922 &   41.697589 &    2.491046\\\\\n",
       "\t09\\_2022 &  -15.622771 &   36.707520 &   30.696437\\\\\n",
       "\t10\\_2022 &  440.219778 &  335.743980 &  183.710388\\\\\n",
       "\t11\\_2022 &    8.812452 &   92.161996 &  258.709364\\\\\n",
       "\t12\\_2022 &  -97.993619 & -164.593362 & -100.215529\\\\\n",
       "\t01\\_2023 &  -69.820828 &  -68.194991 &  -15.864096\\\\\n",
       "\t02\\_2023 &  262.183581 &  272.312587 &  234.674528\\\\\n",
       "\t03\\_2023 &  -26.607643 &  -26.690124 &  -33.025718\\\\\n",
       "\t04\\_2023 &  -34.651396 & -140.458064 & -110.392414\\\\\n",
       "\t05\\_2023 &  -53.964025 &  -35.580460 &  -82.018388\\\\\n",
       "\t06\\_2023 &  -72.467750 &  -32.256226 &  -36.159420\\\\\n",
       "\\end{tabular}\n",
       "\n",
       "\\item[\\$P] 1\n",
       "\\item[\\$D] 0\n",
       "\\item[\\$Q] 2\n",
       "\\item[\\$W] \\textbf{\\$w1} = A matrix: 3 × 3 of type dbl\n",
       "\\begin{tabular}{r|lll}\n",
       "\t1 & 0.0 & 1 & 0.0\\\\\n",
       "\t2 & 0.5 & 0 & 0.5\\\\\n",
       "\t3 & 0.0 & 1 & 0.0\\\\\n",
       "\\end{tabular}\n",
       "\n",
       "\\end{description}\n"
      ],
      "text/markdown": [
       "$BETA\n",
       ":   1. 0.800703869411015\n",
       "2. 0.0738814301372126\n",
       "3. -0.0147877629898255\n",
       "4. 0.0238396200844014\n",
       "5. -0.0207062042516759\n",
       "6. -0.101895466576656\n",
       "\n",
       "\n",
       "\n",
       "$PVAL\n",
       ":   1. 1.11973760166175e-55\n",
       "2. 0.0838844350701194\n",
       "3. 0.828012440622398\n",
       "4. 0.711654675377077\n",
       "5. 0.742591165187772\n",
       "6. 0.083879688371497\n",
       "\n",
       "\n",
       "\n",
       "$NRMSE\n",
       ":   1. 0.790915420288603\n",
       "2. 0.790565885828283\n",
       "3. 0.766642447393641\n",
       "\n",
       "\n",
       "\n",
       "$OBS\n",
       ":   \n",
       "A matrix: 255 × 3 of type dbl\n",
       "\n",
       "| <!--/--> | JATIM_18 | JATIM_21 | JATIM_22 |\n",
       "|---|---|---|---|\n",
       "| 04_2002 | 196.8 | 196.6 | 153.5 |\n",
       "| 05_2002 |  50.4 |  88.0 |  78.1 |\n",
       "| 06_2002 |   1.4 |   0.2 |   0.0 |\n",
       "| 07_2002 |   0.2 |   0.3 |   0.0 |\n",
       "| 08_2002 |   0.0 |   0.0 |   0.0 |\n",
       "| 09_2002 |   0.2 |   0.1 |   0.0 |\n",
       "| 10_2002 |   0.4 |   3.5 |   0.0 |\n",
       "| 11_2002 |  71.8 | 167.5 |  72.2 |\n",
       "| 12_2002 | 207.8 | 288.7 | 126.4 |\n",
       "| 01_2003 | 329.2 | 358.7 | 380.0 |\n",
       "| 02_2003 | 291.1 | 315.6 | 372.4 |\n",
       "| 03_2003 | 284.4 | 415.2 | 350.3 |\n",
       "| 04_2003 | 127.1 | 171.6 | 115.0 |\n",
       "| 05_2003 | 118.9 | 125.6 |  80.0 |\n",
       "| 06_2003 |  19.2 |  28.1 |  15.0 |\n",
       "| 07_2003 |   0.4 |   0.0 |   0.0 |\n",
       "| 08_2003 |   0.0 |   0.0 |   0.0 |\n",
       "| 09_2003 |   3.2 |   7.0 |   4.4 |\n",
       "| 10_2003 |  17.6 |  24.0 |   4.7 |\n",
       "| 11_2003 | 231.7 | 328.0 | 158.0 |\n",
       "| 12_2003 | 302.5 | 389.7 | 241.4 |\n",
       "| 01_2004 | 240.8 | 335.3 | 250.0 |\n",
       "| 02_2004 | 269.4 | 420.9 | 259.2 |\n",
       "| 03_2004 | 317.9 | 374.7 | 316.3 |\n",
       "| 04_2004 |  69.1 | 125.1 |  86.6 |\n",
       "| 05_2004 |  65.8 |  96.4 |  31.2 |\n",
       "| 06_2004 |  21.5 |  13.8 |   1.0 |\n",
       "| 07_2004 |  23.1 |  15.1 |   4.8 |\n",
       "| 08_2004 |   0.3 |   0.0 |   0.4 |\n",
       "| 09_2004 |   4.1 |  35.9 |  19.4 |\n",
       "| ⋮ | ⋮ | ⋮ | ⋮ |\n",
       "| 01_2021 | 363.8 | 429.4 | 394.9 |\n",
       "| 02_2021 | 355.4 | 399.5 | 332.3 |\n",
       "| 03_2021 | 301.9 | 370.9 | 423.3 |\n",
       "| 04_2021 | 124.5 | 165.8 | 203.0 |\n",
       "| 05_2021 |  34.4 |  42.9 |  64.9 |\n",
       "| 06_2021 | 201.2 | 205.7 | 181.7 |\n",
       "| 07_2021 |   5.6 |  18.4 |   5.5 |\n",
       "| 08_2021 |  14.6 |  37.2 |  16.3 |\n",
       "| 09_2021 |  97.5 | 127.4 | 119.4 |\n",
       "| 10_2021 |  33.3 |  87.6 |  13.8 |\n",
       "| 11_2021 | 323.2 | 485.5 | 278.1 |\n",
       "| 12_2021 | 186.9 | 252.7 | 202.5 |\n",
       "| 01_2022 | 311.4 | 305.5 | 241.8 |\n",
       "| 02_2022 | 271.4 | 278.0 | 311.4 |\n",
       "| 03_2022 | 423.8 | 436.2 | 344.4 |\n",
       "| 04_2022 | 151.8 | 194.5 | 235.0 |\n",
       "| 05_2022 | 144.2 | 172.3 | 234.7 |\n",
       "| 06_2022 | 139.6 | 215.7 | 167.5 |\n",
       "| 07_2022 |   9.4 |  13.8 |  27.5 |\n",
       "| 08_2022 |  67.5 |  74.3 |  24.0 |\n",
       "| 09_2022 |  40.1 |  95.5 |  57.9 |\n",
       "| 10_2022 | 481.6 | 430.4 | 230.7 |\n",
       "| 11_2022 | 409.4 | 506.3 | 452.0 |\n",
       "| 12_2022 | 248.6 | 297.8 | 262.9 |\n",
       "| 01_2023 | 144.7 | 189.5 | 210.3 |\n",
       "| 02_2023 | 384.3 | 387.8 | 417.0 |\n",
       "| 03_2023 | 283.2 | 324.5 | 312.0 |\n",
       "| 04_2023 | 196.4 | 182.4 | 143.9 |\n",
       "| 05_2023 | 108.7 | 128.4 |  43.6 |\n",
       "| 06_2023 |  27.1 |  39.3 |   9.6 |\n",
       "\n",
       "\n",
       "$FIT\n",
       ":   \n",
       "A matrix: 255 × 3 of type dbl\n",
       "\n",
       "|  1.804918e+02 | 250.529695 | 207.9871493 |\n",
       "|  1.648411e+02 | 176.345487 | 144.9432634 |\n",
       "|  4.360626e+01 |  82.647783 |  69.1375101 |\n",
       "|  1.128374e+00 |   7.759894 |   4.7908519 |\n",
       "|  1.712230e-01 |   7.919726 |   2.7114769 |\n",
       "| -9.175993e-14 |  19.890654 |   0.3879430 |\n",
       "|  5.907190e+00 |   9.703487 |   0.5531770 |\n",
       "|  3.700071e+00 |   3.413743 |   1.2007386 |\n",
       "|  6.696342e+01 | 145.158306 |  61.5525332 |\n",
       "|  1.774935e+02 | 255.618953 | 102.7614753 |\n",
       "|  2.774437e+02 | 334.772138 | 306.5839737 |\n",
       "|  2.459021e+02 | 285.079051 | 310.4233454 |\n",
       "|  2.405369e+02 | 351.402336 | 296.4333144 |\n",
       "|  9.780338e+01 | 112.675281 |  97.2857534 |\n",
       "|  9.257720e+01 | 103.161459 |  73.6530902 |\n",
       "|  1.477297e+01 |  28.907063 |  13.6224882 |\n",
       "| -2.938335e-01 |  25.519033 |   2.9266677 |\n",
       "| -2.172603e+00 |   3.763648 |   1.4554744 |\n",
       "|  8.831284e+00 |  18.837428 |   4.9349991 |\n",
       "|  1.668562e+01 |  23.459811 |   4.5052234 |\n",
       "|  2.002264e+02 | 290.862298 | 132.9363622 |\n",
       "|  2.579987e+02 | 351.195040 | 193.2021242 |\n",
       "|  2.063899e+02 | 291.856646 | 209.4370136 |\n",
       "|  2.310380e+02 | 339.955535 | 223.1827637 |\n",
       "|  2.619990e+02 | 327.177529 | 259.9794755 |\n",
       "|  4.702447e+01 | 103.014117 |  79.0679903 |\n",
       "|  5.406890e+01 |  71.699151 |  35.4814740 |\n",
       "|  1.585694e+01 |   5.773787 |   1.6156450 |\n",
       "|  1.233753e+01 |  47.356782 |   6.3853439 |\n",
       "|  5.485489e+00 |   5.102987 |   0.4998454 |\n",
       "| ⋮ | ⋮ | ⋮ |\n",
       "| 203.380783 | 270.04588 | 186.568072 |\n",
       "| 307.383365 | 374.09496 | 330.520369 |\n",
       "| 296.188314 | 342.16864 | 277.390197 |\n",
       "| 246.913770 | 335.98312 | 348.932217 |\n",
       "|  98.269330 | 121.77097 | 174.602227 |\n",
       "|  27.902584 |  33.65388 |  61.180723 |\n",
       "| 163.432846 | 186.30244 | 150.926214 |\n",
       "|   4.632098 |  43.59951 |   3.080194 |\n",
       "|  15.308987 |  39.24702 |  19.383774 |\n",
       "|  90.288064 | 100.95973 |  98.559812 |\n",
       "|  28.051230 | 100.13397 |  13.570597 |\n",
       "| 276.160498 | 425.57494 | 231.368937 |\n",
       "| 163.696897 | 217.77536 | 160.366906 |\n",
       "| 259.060167 | 282.32370 | 210.902511 |\n",
       "| 226.029797 | 222.81453 | 255.639297 |\n",
       "| 346.419590 | 407.89653 | 290.970284 |\n",
       "| 119.244280 | 160.78513 | 189.631885 |\n",
       "| 125.413613 | 145.26580 | 203.042171 |\n",
       "| 118.660472 | 179.63606 | 142.370137 |\n",
       "|   3.417078 |  32.60241 |  21.508954 |\n",
       "|  55.722771 |  58.79248 |  27.203563 |\n",
       "|  41.380222 |  94.65602 |  46.989612 |\n",
       "| 400.587548 | 414.13800 | 193.290636 |\n",
       "| 346.593619 | 462.39336 | 363.115529 |\n",
       "| 214.520828 | 257.69499 | 226.164096 |\n",
       "| 122.116419 | 115.48741 | 182.325472 |\n",
       "| 309.807643 | 351.19012 | 345.025718 |\n",
       "| 231.051396 | 322.85806 | 254.292414 |\n",
       "| 162.664025 | 163.98046 | 125.618388 |\n",
       "|  99.567750 |  71.55623 |  45.759420 |\n",
       "\n",
       "\n",
       "$RES\n",
       ":   \n",
       "A matrix: 255 × 3 of type dbl\n",
       "\n",
       "| <!--/--> | JATIM_18 | JATIM_21 | JATIM_22 |\n",
       "|---|---|---|---|\n",
       "| 04_2002 |   16.3082267 |  -53.929695 |  -54.4871493 |\n",
       "| 05_2002 | -114.4410661 |  -88.345487 |  -66.8432634 |\n",
       "| 06_2002 |  -42.2062579 |  -82.447783 |  -69.1375101 |\n",
       "| 07_2002 |   -0.9283736 |   -7.459894 |   -4.7908519 |\n",
       "| 08_2002 |   -0.1712230 |   -7.919726 |   -2.7114769 |\n",
       "| 09_2002 |    0.2000000 |  -19.790654 |   -0.3879430 |\n",
       "| 10_2002 |   -5.5071897 |   -6.203487 |   -0.5531770 |\n",
       "| 11_2002 |   68.0999287 |  164.086257 |   70.9992614 |\n",
       "| 12_2002 |  140.8365843 |  143.541694 |   64.8474668 |\n",
       "| 01_2003 |  151.7064931 |  103.081047 |  277.2385247 |\n",
       "| 02_2003 |   13.6563044 |  -19.172138 |   65.8160263 |\n",
       "| 03_2003 |   38.4978927 |  130.120949 |   39.8766546 |\n",
       "| 04_2003 | -113.4368822 | -179.802336 | -181.4333144 |\n",
       "| 05_2003 |   21.0966178 |   12.924719 |  -17.2857534 |\n",
       "| 06_2003 |  -73.3772023 |  -75.061459 |  -58.6530902 |\n",
       "| 07_2003 |  -14.3729728 |  -28.907063 |  -13.6224882 |\n",
       "| 08_2003 |    0.2938335 |  -25.519033 |   -2.9266677 |\n",
       "| 09_2003 |    5.3726026 |    3.236352 |    2.9445256 |\n",
       "| 10_2003 |    8.7687160 |    5.162572 |   -0.2349991 |\n",
       "| 11_2003 |  215.0143809 |  304.540189 |  153.4947766 |\n",
       "| 12_2003 |  102.2736105 |   98.837702 |  108.4636378 |\n",
       "| 01_2004 |  -17.1986763 |  -15.895040 |   56.7978758 |\n",
       "| 02_2004 |   63.0100998 |  129.043354 |   49.7629864 |\n",
       "| 03_2004 |   86.8619529 |   34.744465 |   93.1172363 |\n",
       "| 04_2004 | -192.8989502 | -202.077529 | -173.3794755 |\n",
       "| 05_2004 |   18.7755251 |   -6.614117 |  -47.8679903 |\n",
       "| 06_2004 |  -32.5688996 |  -57.899151 |  -34.4814740 |\n",
       "| 07_2004 |    7.2430560 |    9.326213 |    3.1843550 |\n",
       "| 08_2004 |  -12.0375277 |  -47.356782 |   -5.9853439 |\n",
       "| 09_2004 |   -1.3854887 |   30.797013 |   18.9001546 |\n",
       "| ⋮ | ⋮ | ⋮ | ⋮ |\n",
       "| 01_2021 |  160.419217 |  159.354118 |  208.331928 |\n",
       "| 02_2021 |   48.016635 |   25.405039 |    1.779631 |\n",
       "| 03_2021 |    5.711686 |   28.731356 |  145.909803 |\n",
       "| 04_2021 | -122.413770 | -170.183118 | -145.932217 |\n",
       "| 05_2021 |  -63.869330 |  -78.870966 | -109.702227 |\n",
       "| 06_2021 |  173.297416 |  172.046123 |  120.519277 |\n",
       "| 07_2021 | -157.832846 | -167.902442 | -145.426214 |\n",
       "| 08_2021 |    9.967902 |   -6.399507 |   13.219806 |\n",
       "| 09_2021 |   82.191013 |   88.152985 |  100.016226 |\n",
       "| 10_2021 |  -56.988064 |  -13.359726 |  -84.759812 |\n",
       "| 11_2021 |  295.148770 |  385.366028 |  264.529403 |\n",
       "| 12_2021 |  -89.260498 | -172.874943 |  -28.868937 |\n",
       "| 01_2022 |  147.703103 |   87.724640 |   81.433094 |\n",
       "| 02_2022 |   12.339833 |   -4.323702 |  100.497489 |\n",
       "| 03_2022 |  197.770203 |  213.385470 |   88.760703 |\n",
       "| 04_2022 | -194.619590 | -213.396531 |  -55.970284 |\n",
       "| 05_2022 |   24.955720 |   11.514873 |   45.068115 |\n",
       "| 06_2022 |   14.186387 |   70.434198 |  -35.542171 |\n",
       "| 07_2022 | -109.260472 | -165.836062 | -114.870137 |\n",
       "| 08_2022 |   64.082922 |   41.697589 |    2.491046 |\n",
       "| 09_2022 |  -15.622771 |   36.707520 |   30.696437 |\n",
       "| 10_2022 |  440.219778 |  335.743980 |  183.710388 |\n",
       "| 11_2022 |    8.812452 |   92.161996 |  258.709364 |\n",
       "| 12_2022 |  -97.993619 | -164.593362 | -100.215529 |\n",
       "| 01_2023 |  -69.820828 |  -68.194991 |  -15.864096 |\n",
       "| 02_2023 |  262.183581 |  272.312587 |  234.674528 |\n",
       "| 03_2023 |  -26.607643 |  -26.690124 |  -33.025718 |\n",
       "| 04_2023 |  -34.651396 | -140.458064 | -110.392414 |\n",
       "| 05_2023 |  -53.964025 |  -35.580460 |  -82.018388 |\n",
       "| 06_2023 |  -72.467750 |  -32.256226 |  -36.159420 |\n",
       "\n",
       "\n",
       "$P\n",
       ":   1\n",
       "$D\n",
       ":   0\n",
       "$Q\n",
       ":   2\n",
       "$W\n",
       ":   **$w1** = \n",
       "A matrix: 3 × 3 of type dbl\n",
       "\n",
       "| 1 | 0.0 | 1 | 0.0 |\n",
       "| 2 | 0.5 | 0 | 0.5 |\n",
       "| 3 | 0.0 | 1 | 0.0 |\n",
       "\n",
       "\n",
       "\n",
       "\n"
      ],
      "text/plain": [
       "$BETA\n",
       "[1]  0.80070387  0.07388143 -0.01478776  0.02383962 -0.02070620 -0.10189547\n",
       "\n",
       "$PVAL\n",
       "[1] 1.119738e-55 8.388444e-02 8.280124e-01 7.116547e-01 7.425912e-01\n",
       "[6] 8.387969e-02\n",
       "\n",
       "$NRMSE\n",
       "[1] 0.7909154 0.7905659 0.7666424\n",
       "\n",
       "$OBS\n",
       "        JATIM_18 JATIM_21 JATIM_22\n",
       "04_2002    196.8    196.6    153.5\n",
       "05_2002     50.4     88.0     78.1\n",
       "06_2002      1.4      0.2      0.0\n",
       "07_2002      0.2      0.3      0.0\n",
       "08_2002      0.0      0.0      0.0\n",
       "09_2002      0.2      0.1      0.0\n",
       "10_2002      0.4      3.5      0.0\n",
       "11_2002     71.8    167.5     72.2\n",
       "12_2002    207.8    288.7    126.4\n",
       "01_2003    329.2    358.7    380.0\n",
       "02_2003    291.1    315.6    372.4\n",
       "03_2003    284.4    415.2    350.3\n",
       "04_2003    127.1    171.6    115.0\n",
       "05_2003    118.9    125.6     80.0\n",
       "06_2003     19.2     28.1     15.0\n",
       "07_2003      0.4      0.0      0.0\n",
       "08_2003      0.0      0.0      0.0\n",
       "09_2003      3.2      7.0      4.4\n",
       "10_2003     17.6     24.0      4.7\n",
       "11_2003    231.7    328.0    158.0\n",
       "12_2003    302.5    389.7    241.4\n",
       "01_2004    240.8    335.3    250.0\n",
       "02_2004    269.4    420.9    259.2\n",
       "03_2004    317.9    374.7    316.3\n",
       "04_2004     69.1    125.1     86.6\n",
       "05_2004     65.8     96.4     31.2\n",
       "06_2004     21.5     13.8      1.0\n",
       "07_2004     23.1     15.1      4.8\n",
       "08_2004      0.3      0.0      0.4\n",
       "09_2004      4.1     35.9     19.4\n",
       "10_2004      8.2     19.4      9.4\n",
       "11_2004    206.8    252.3    143.0\n",
       "12_2004    297.4    489.0    307.1\n",
       "01_2005    227.6    259.7    111.4\n",
       "02_2005    228.9    238.8    144.1\n",
       "03_2005    247.4    316.9    250.2\n",
       "04_2005    264.5    239.1    191.0\n",
       "05_2005     15.7      5.0     10.6\n",
       "06_2005     21.8     51.9     59.7\n",
       "07_2005     26.9     49.4     12.1\n",
       "08_2005      2.9      0.2      0.2\n",
       "09_2005      8.1     28.9      5.5\n",
       "10_2005     80.2     95.3     25.9\n",
       "11_2005     56.5    105.7     79.6\n",
       "12_2005    397.8    460.5    246.5\n",
       "01_2006    349.1    425.0    333.3\n",
       "02_2006    328.2    359.2    281.7\n",
       "03_2006    257.5    325.5    316.4\n",
       "04_2006    314.6    353.4    295.0\n",
       "05_2006    111.7    176.3    144.3\n",
       "06_2006      0.6      2.0      2.2\n",
       "07_2006      0.0      0.1      0.0\n",
       "08_2006      0.0      0.0      0.0\n",
       "09_2006      0.0      0.0      0.0\n",
       "10_2006      6.4      3.9      0.1\n",
       "11_2006     25.6     62.3     17.2\n",
       "12_2006    205.9    290.8    201.9\n",
       "01_2007     83.5    113.1     62.5\n",
       "02_2007    241.0    301.1    211.7\n",
       "03_2007    284.5    348.3    344.5\n",
       "04_2007    209.4    309.1    232.0\n",
       "05_2007    134.0    148.7     50.6\n",
       "06_2007     51.1     88.6     56.3\n",
       "07_2007      3.4     19.8     26.3\n",
       "08_2007      0.0      0.2      0.0\n",
       "09_2007      0.0      0.5      0.0\n",
       "10_2007     26.1     57.5     17.5\n",
       "11_2007    126.5    221.7    108.7\n",
       "12_2007    416.5    557.5    359.4\n",
       "01_2008    193.1    279.2    263.0\n",
       "02_2008    245.1    256.0    343.0\n",
       "03_2008    365.9    456.8    381.5\n",
       "04_2008    131.1    156.2    109.0\n",
       "05_2008     45.7     85.5     76.0\n",
       "06_2008      5.9     14.5      4.6\n",
       "07_2008      0.0      0.0      0.0\n",
       "08_2008      0.0      0.8     14.9\n",
       "09_2008      0.0      3.4      0.0\n",
       "10_2008     94.3    188.1    113.5\n",
       "11_2008    340.1    421.9    204.2\n",
       "12_2008    155.6    152.2     84.2\n",
       "01_2009    320.3    400.5    411.2\n",
       "02_2009    346.2    392.9    355.7\n",
       "03_2009    159.4    194.9    169.1\n",
       "04_2009    132.9    206.5    126.5\n",
       "05_2009    152.9    246.4    127.0\n",
       "06_2009     10.2     48.1     34.3\n",
       "07_2009     23.4     26.8      0.7\n",
       "08_2009      0.0      0.0      0.0\n",
       "09_2009      0.5      4.5      0.4\n",
       "10_2009      9.8     49.4     22.2\n",
       "11_2009    142.4    204.9    115.9\n",
       "12_2009    104.9    188.4     90.5\n",
       "01_2010    321.4    372.4    391.1\n",
       "02_2010    298.9    431.6    308.6\n",
       "03_2010    431.8    393.5    357.7\n",
       "04_2010    274.9    349.9    255.0\n",
       "05_2010    286.6    359.7    255.4\n",
       "06_2010    162.5    194.5     84.2\n",
       "07_2010    148.5    141.1    106.3\n",
       "08_2010     30.5    106.7     30.7\n",
       "09_2010    290.8    274.2    147.3\n",
       "10_2010    237.8    341.8    176.0\n",
       "11_2010    350.6    441.9    289.1\n",
       "12_2010    392.5    331.1    316.9\n",
       "01_2011    315.1    335.3    289.9\n",
       "02_2011    262.8    199.3    192.7\n",
       "03_2011    301.5    330.8    335.7\n",
       "04_2011    221.4    241.1    275.0\n",
       "05_2011    152.0    147.7    187.7\n",
       "06_2011     22.1     13.7      0.3\n",
       "07_2011      0.8      1.7      2.9\n",
       "08_2011      0.0      0.0      0.0\n",
       "09_2011      0.0      0.0      0.0\n",
       "10_2011     16.6     57.7      8.6\n",
       "11_2011    204.8    251.9    171.5\n",
       "12_2011    162.8    197.5    188.8\n",
       "01_2012    412.0    440.8    381.6\n",
       "02_2012    188.7    269.7    170.0\n",
       "03_2012    285.3    291.3    175.9\n",
       "04_2012    227.4    219.9    108.3\n",
       "05_2012    119.6    100.0     49.8\n",
       "06_2012      4.2      3.5     11.5\n",
       "07_2012      0.6      3.7      0.0\n",
       "08_2012      0.0      0.0      0.0\n",
       "09_2012      1.7      1.8      0.0\n",
       "10_2012     29.6     86.4     47.8\n",
       "11_2012     96.7    159.5    117.1\n",
       "12_2012    262.8    285.8    299.8\n",
       "01_2013    403.2    479.8    392.3\n",
       "02_2013    255.5    381.1    425.0\n",
       "03_2013    257.2    258.7    242.4\n",
       "04_2013    206.7    268.2    295.0\n",
       "05_2013    157.5    250.1    213.5\n",
       "06_2013    266.0    286.1    254.8\n",
       "07_2013     59.5     94.4     81.2\n",
       "08_2013      0.4      1.0      5.1\n",
       "09_2013      0.4      0.9      0.0\n",
       "10_2013     18.1     81.5     36.1\n",
       "11_2013    282.7    359.2    258.7\n",
       "12_2013    355.2    507.2    304.4\n",
       "01_2014    293.6    325.3    265.2\n",
       "02_2014    231.7    220.4    226.5\n",
       "03_2014     85.9    134.4    133.8\n",
       "04_2014    159.0    208.1    156.5\n",
       "05_2014     98.2    120.3     81.9\n",
       "06_2014     45.0     92.2     66.3\n",
       "07_2014     10.7      9.7     22.0\n",
       "08_2014      0.9      2.9      3.2\n",
       "09_2014      0.0      0.0      0.0\n",
       "10_2014      2.8      6.9      6.7\n",
       "11_2014    176.2    214.3    152.5\n",
       "12_2014    400.3    469.8    240.3\n",
       "01_2015    252.0    260.3    276.0\n",
       "02_2015    288.6    350.5    337.1\n",
       "03_2015    293.1    348.8    393.6\n",
       "04_2015    298.5    348.1    287.2\n",
       "05_2015     64.0    109.4     87.7\n",
       "06_2015      8.3     30.6     15.1\n",
       "07_2015      0.0      0.0      0.0\n",
       "08_2015      0.0      0.0      0.0\n",
       "09_2015      0.0      0.0      0.1\n",
       "10_2015      1.0      1.0      6.8\n",
       "11_2015     80.6    205.0    103.2\n",
       "12_2015    323.4    333.2    314.7\n",
       "01_2016    325.5    324.8    307.0\n",
       "02_2016    384.7    421.8    417.4\n",
       "03_2016    216.3    324.6    329.4\n",
       "04_2016    286.5    284.5    115.0\n",
       "05_2016    185.3    272.9    192.2\n",
       "06_2016    180.0    231.1    123.0\n",
       "07_2016     55.8     73.5     78.8\n",
       "08_2016    133.0    113.2     56.3\n",
       "09_2016    112.7    174.4    117.4\n",
       "10_2016    243.5    314.0    215.7\n",
       "11_2016    477.4    533.4    288.0\n",
       "12_2016    309.4    294.0    213.0\n",
       "01_2017    359.8    418.7    366.8\n",
       "02_2017    320.5    291.1    288.5\n",
       "03_2017    279.0    288.8    307.0\n",
       "04_2017    275.5    250.1    318.0\n",
       "05_2017     65.0    119.1     68.6\n",
       "06_2017     11.3     75.2     71.5\n",
       "07_2017     23.9     17.7     20.5\n",
       "08_2017      0.5      1.5      0.8\n",
       "09_2017     28.3     23.7     17.2\n",
       "10_2017     91.1     95.9     36.2\n",
       "11_2017    264.3    374.4    296.7\n",
       "12_2017    212.5    234.9    315.8\n",
       "01_2018    442.8    545.5    405.9\n",
       "02_2018    456.8    447.0    302.9\n",
       "03_2018    237.9    272.2    253.6\n",
       "04_2018    209.1    236.9     93.1\n",
       "05_2018     11.8     48.0     21.1\n",
       "06_2018     14.5     33.1      9.5\n",
       "07_2018     16.0     12.6     21.4\n",
       "08_2018      0.1      0.1      0.0\n",
       "09_2018      2.1      1.9      4.0\n",
       "10_2018      3.6      0.8      1.5\n",
       "11_2018    146.1    164.6     76.5\n",
       "12_2018    144.6    207.8     73.0\n",
       "01_2019    300.1    358.3    406.1\n",
       "02_2019    309.1    352.8    280.7\n",
       "03_2019    302.1    309.9    427.3\n",
       "04_2019    169.0    231.9    204.9\n",
       "05_2019      8.9     50.9     25.8\n",
       "06_2019      0.3      0.0      0.0\n",
       "07_2019      0.5      0.5      2.6\n",
       "08_2019      0.0      0.0      0.0\n",
       "09_2019      0.0      0.0      3.1\n",
       "10_2019      0.0      3.0      3.2\n",
       "11_2019     10.4     14.4     25.7\n",
       "12_2019    194.7    285.1    162.0\n",
       "01_2020    243.5    336.1    356.2\n",
       "02_2020    422.2    398.2    403.0\n",
       "03_2020    360.5    368.3    216.4\n",
       "04_2020    147.8    186.9    199.8\n",
       "05_2020    192.8    211.1    170.2\n",
       "06_2020     85.3     85.0     40.6\n",
       "07_2020     25.9     41.2     22.7\n",
       "08_2020     19.0     31.2     49.2\n",
       "09_2020     30.6     53.0      6.3\n",
       "10_2020    100.9    164.6    108.4\n",
       "11_2020    264.2    390.0    247.3\n",
       "12_2020    237.9    296.5    229.6\n",
       "01_2021    363.8    429.4    394.9\n",
       "02_2021    355.4    399.5    332.3\n",
       "03_2021    301.9    370.9    423.3\n",
       "04_2021    124.5    165.8    203.0\n",
       "05_2021     34.4     42.9     64.9\n",
       "06_2021    201.2    205.7    181.7\n",
       "07_2021      5.6     18.4      5.5\n",
       "08_2021     14.6     37.2     16.3\n",
       "09_2021     97.5    127.4    119.4\n",
       "10_2021     33.3     87.6     13.8\n",
       "11_2021    323.2    485.5    278.1\n",
       "12_2021    186.9    252.7    202.5\n",
       "01_2022    311.4    305.5    241.8\n",
       "02_2022    271.4    278.0    311.4\n",
       "03_2022    423.8    436.2    344.4\n",
       "04_2022    151.8    194.5    235.0\n",
       "05_2022    144.2    172.3    234.7\n",
       "06_2022    139.6    215.7    167.5\n",
       "07_2022      9.4     13.8     27.5\n",
       "08_2022     67.5     74.3     24.0\n",
       "09_2022     40.1     95.5     57.9\n",
       "10_2022    481.6    430.4    230.7\n",
       "11_2022    409.4    506.3    452.0\n",
       "12_2022    248.6    297.8    262.9\n",
       "01_2023    144.7    189.5    210.3\n",
       "02_2023    384.3    387.8    417.0\n",
       "03_2023    283.2    324.5    312.0\n",
       "04_2023    196.4    182.4    143.9\n",
       "05_2023    108.7    128.4     43.6\n",
       "06_2023     27.1     39.3      9.6\n",
       "\n",
       "$FIT\n",
       "                [,1]        [,2]          [,3]\n",
       "  [1,]  1.804918e+02 250.5296949 207.987149340\n",
       "  [2,]  1.648411e+02 176.3454867 144.943263394\n",
       "  [3,]  4.360626e+01  82.6477828  69.137510081\n",
       "  [4,]  1.128374e+00   7.7598940   4.790851861\n",
       "  [5,]  1.712230e-01   7.9197256   2.711476916\n",
       "  [6,] -9.175993e-14  19.8906536   0.387943007\n",
       "  [7,]  5.907190e+00   9.7034866   0.553177027\n",
       "  [8,]  3.700071e+00   3.4137430   1.200738610\n",
       "  [9,]  6.696342e+01 145.1583059  61.552533172\n",
       " [10,]  1.774935e+02 255.6189528 102.761475307\n",
       " [11,]  2.774437e+02 334.7721384 306.583973696\n",
       " [12,]  2.459021e+02 285.0790507 310.423345356\n",
       " [13,]  2.405369e+02 351.4023361 296.433314414\n",
       " [14,]  9.780338e+01 112.6752812  97.285753366\n",
       " [15,]  9.257720e+01 103.1614586  73.653090236\n",
       " [16,]  1.477297e+01  28.9070634  13.622488160\n",
       " [17,] -2.938335e-01  25.5190332   2.926667691\n",
       " [18,] -2.172603e+00   3.7636478   1.455474440\n",
       " [19,]  8.831284e+00  18.8374281   4.934999054\n",
       " [20,]  1.668562e+01  23.4598113   4.505223388\n",
       " [21,]  2.002264e+02 290.8622977 132.936362233\n",
       " [22,]  2.579987e+02 351.1950397 193.202124195\n",
       " [23,]  2.063899e+02 291.8566460 209.437013583\n",
       " [24,]  2.310380e+02 339.9555354 223.182763678\n",
       " [25,]  2.619990e+02 327.1775289 259.979475528\n",
       " [26,]  4.702447e+01 103.0141170  79.067990255\n",
       " [27,]  5.406890e+01  71.6991513  35.481473999\n",
       " [28,]  1.585694e+01   5.7737874   1.615644997\n",
       " [29,]  1.233753e+01  47.3567824   6.385343929\n",
       " [30,]  5.485489e+00   5.1029869   0.499845424\n",
       " [31,]  1.009664e+01  35.5794919  18.531523504\n",
       " [32,]  9.148054e+00  17.0672818   7.427343479\n",
       " [33,]  1.768754e+02 227.7507105 119.987207459\n",
       " [34,]  2.565592e+02 435.6226506 249.735874601\n",
       " [35,]  1.936611e+02 223.3482243  93.809576816\n",
       " [36,]  1.906960e+02 180.1863453 128.964199258\n",
       " [37,]  2.052215e+02 271.4532356 209.246075652\n",
       " [38,]  2.088590e+02 235.9544782 158.296703640\n",
       " [39,]  4.568541e+00  -8.1062310  14.460708247\n",
       " [40,]  2.696397e+01  32.3346214  56.674579410\n",
       " [41,]  2.116272e+01  47.9569714  10.017172926\n",
       " [42,] -3.825660e+00  27.4340715  -1.124947653\n",
       " [43,]  1.586227e+01  19.8821050   7.557384650\n",
       " [44,]  7.402260e+01  90.3888436  23.289875445\n",
       " [45,]  4.632228e+01  96.0065768  63.244353028\n",
       " [46,]  3.354247e+02 411.6434036 208.463467656\n",
       " [47,]  2.970317e+02 383.0594543 266.388699613\n",
       " [48,]  2.745375e+02 312.6235131 241.143551546\n",
       " [49,]  2.159975e+02 254.1665730 265.701321629\n",
       " [50,]  2.547873e+02 313.6019710 248.939911785\n",
       " [51,]  8.541974e+01 153.3769725 120.665859156\n",
       " [52,] -1.406095e-02  -7.9327884   9.655144702\n",
       " [53,]  2.080954e+00  -3.4269172   4.951440332\n",
       " [54,] -3.547680e+00  28.4168508  -0.601685839\n",
       " [55,]  8.323708e-01  17.1859550  -0.007329148\n",
       " [56,]  1.167417e+01   4.8717935   1.822220963\n",
       " [57,]  2.840630e+01  54.1785458  15.930998044\n",
       " [58,]  1.751937e+02 261.9522466 164.645403033\n",
       " [59,]  7.105431e+01  98.9953105  49.651674850\n",
       " [60,]  2.056800e+02 261.8961849 181.291692704\n",
       " [61,]  2.406758e+02 300.1772039 278.967295472\n",
       " [62,]  1.714174e+02 286.4485581 197.272580860\n",
       " [63,]  1.078605e+02  97.4033852  48.029505661\n",
       " [64,]  4.498113e+01  57.7636502  51.842773634\n",
       " [65,] -4.851634e+00  32.0823489  23.206377917\n",
       " [66,] -2.145532e+00  16.7684294   2.005871681\n",
       " [67,]  7.977150e-01   7.0826716   1.287663601\n",
       " [68,]  3.007892e+01  56.0478111  16.155709277\n",
       " [69,]  1.095821e+02 196.2408442  89.960577406\n",
       " [70,]  3.552888e+02 501.7097752 294.409477253\n",
       " [71,]  1.668065e+02 247.8632381 211.685105986\n",
       " [72,]  2.056932e+02 215.8478434 292.659734685\n",
       " [73,]  3.047457e+02 378.1636984 321.250641361\n",
       " [74,]  9.632267e+01 152.7705976  88.325538441\n",
       " [75,]  3.336415e+01  47.5674161  71.139224376\n",
       " [76,]  1.148761e+01   4.0261970   8.678643094\n",
       " [77,] -3.411764e+00  36.3277624   0.268461410\n",
       " [78,] -3.561299e+00   8.9872744  12.109725112\n",
       " [79,]  8.739553e+00  11.9897009   2.521389085\n",
       " [80,]  8.542387e+01 168.0755941  94.359992094\n",
       " [81,]  2.891462e+02 375.6047546 168.510127193\n",
       " [82,]  1.304605e+02 133.6478880  66.288098980\n",
       " [83,]  2.731568e+02 347.5968886 345.553009324\n",
       " [84,]  2.889987e+02 343.1770955 293.332352720\n",
       " [85,]  1.215053e+02 182.1811056 143.904825750\n",
       " [86,]  1.114692e+02 133.9906198 113.515629408\n",
       " [87,]  1.341580e+02 218.0247139 107.774477162\n",
       " [88,] -6.749552e-01  63.8957693  26.681221339\n",
       " [89,]  2.261132e+01  21.6321946   9.224439686\n",
       " [90,]  4.044520e+00   3.6850732   1.630932064\n",
       " [91,] -2.177217e+00  20.3242336   1.378484622\n",
       " [92,]  8.524771e+00  42.2079572  18.920705585\n",
       " [93,]  1.273196e+02 185.9628427  96.267289450\n",
       " [94,]  9.397568e+01 164.6859621  73.506542801\n",
       " [95,]  2.717100e+02 340.9877808 319.803366569\n",
       " [96,]  2.546698e+02 371.3698492 259.257129851\n",
       " [97,]  3.554202e+02 361.9797026 294.379508744\n",
       " [98,]  2.282481e+02 267.0620622 219.031799742\n",
       " [99,]  2.365971e+02 322.5547845 215.967090041\n",
       "[100,]  1.307983e+02 149.0726831  74.025850772\n",
       "[101,]  1.173001e+02 140.4023647  93.315259390\n",
       "[102,]  3.277405e+01  88.6698599  30.973640317\n",
       "[103,]  2.398477e+02 268.9273918 124.656140005\n",
       "[104,]  2.021266e+02 302.5625477 145.357335166\n",
       "[105,]  3.016293e+02 405.0192956 241.750707215\n",
       "[106,]  3.289680e+02 281.7043438 261.955974224\n",
       "[107,]  2.585993e+02 301.7772988 249.099713719\n",
       "[108,]  2.137620e+02 164.4349901 161.488501447\n",
       "[109,]  2.462325e+02 292.1871752 280.594123559\n",
       "[110,]  1.820444e+02 232.1641197 225.388821592\n",
       "[111,]  1.327457e+02 138.3531649 159.649472920\n",
       "[112,]  1.613930e+01  -8.7153166   7.798036398\n",
       "[113,]  3.004647e+00   6.1685301   4.901405906\n",
       "[114,] -5.488151e+00  12.3220302  -0.511059851\n",
       "[115,]  3.329533e+00  24.8046162   0.317438776\n",
       "[116,]  2.193692e+01  50.6277382   9.194445697\n",
       "[117,]  1.771216e+02 230.2154168 140.663659252\n",
       "[118,]  1.368624e+02 182.2779496 151.710496262\n",
       "[119,]  3.464625e+02 400.0471274 318.570335491\n",
       "[120,]  1.612775e+02 211.8618501 141.938454642\n",
       "[121,]  2.330541e+02 248.8134994 153.379024695\n",
       "[122,]  1.848588e+02 163.8504007  92.567891312\n",
       "[123,]  9.403843e+01 116.2464426  45.261025798\n",
       "[124,]  5.627650e-01  -8.7636199  13.237375389\n",
       "[125,]  8.405491e-01  10.6681532   5.142720342\n",
       "[126,] -7.075889e-01  13.7118076  -0.764069373\n",
       "[127,]  4.392057e+00  11.5622735   0.599436297\n",
       "[128,]  3.108558e+01  76.8230484  40.617624086\n",
       "[129,]  8.679298e+01 143.9739362  94.979931964\n",
       "[130,]  2.204714e+02 267.1937200 243.722613576\n",
       "[131,]  3.411792e+02 433.1915062 325.099137492\n",
       "[132,]  2.181746e+02 332.9337525 346.149469816\n",
       "[133,]  2.104595e+02 198.6257188 210.985495898\n",
       "[134,]  1.686939e+02 223.6008061 245.461138522\n",
       "[135,]  1.274167e+02 227.4130212 178.845655775\n",
       "[136,]  2.188867e+02 269.6935908 210.745282117\n",
       "[137,]  5.193192e+01  79.9642775  71.055629240\n",
       "[138,]  4.404898e+00   0.9259773  11.755892692\n",
       "[139,] -3.389564e+00 -11.1362709   2.658052747\n",
       "[140,]  1.322955e+01  98.1240867  30.183541068\n",
       "[141,]  2.441137e+02 338.0279369 210.406638337\n",
       "[142,]  3.098570e+02 453.9472214 251.475700896\n",
       "[143,]  2.499575e+02 284.1929059 219.114259799\n",
       "[144,]  1.922938e+02 159.0608481 196.933862318\n",
       "[145,]  6.285018e+01 108.9375074 116.714111902\n",
       "[146,]  1.247280e+02 188.2957044 131.133861691\n",
       "[147,]  7.867471e+01 113.0926602  67.350016307\n",
       "[148,]  4.653477e+01  94.4529923  59.014942164\n",
       "[149,]  1.356935e+01   1.2697579  20.438036328\n",
       "[150,] -2.900692e+00   9.7517217   6.342965074\n",
       "[151,] -1.663673e+00   5.8019676  -0.299246544\n",
       "[152,]  6.042950e+00  12.2244678   5.850349857\n",
       "[153,]  1.506694e+02 199.1774394 125.873923552\n",
       "[154,]  3.415107e+02 423.3638056 198.470780678\n",
       "[155,]  2.110660e+02 236.7426601 220.091936752\n",
       "[156,]  2.445195e+02 287.8704209 290.112964557\n",
       "[157,]  2.430133e+02 302.0351442 322.874561670\n",
       "[158,]  2.391371e+02 313.6204026 242.234714680\n",
       "[159,]  5.046173e+01  77.6440413  75.465213009\n",
       "[160,]  1.162576e+01  11.0964760  21.321250251\n",
       "[161,] -5.296506e+00   8.9256209   1.387880068\n",
       "[162,] -3.243520e+00  31.5421462   0.169981301\n",
       "[163,]  3.680081e+00  10.1792067   0.829317935\n",
       "[164,]  8.177539e+00   4.5206518   7.093799784\n",
       "[165,]  7.378805e+01 177.5133713  87.318705601\n",
       "[166,]  2.715585e+02 312.9305520 251.393020645\n",
       "[167,]  2.734871e+02 299.7902653 254.358046561\n",
       "[168,]  3.254314e+02 372.4252556 346.842111488\n",
       "[169,]  1.824404e+02 252.8897784 274.166619066\n",
       "[170,]  2.261208e+02 239.1010907 106.637807860\n",
       "[171,]  1.555498e+02 224.6937455 156.956266995\n",
       "[172,]  1.504371e+02 219.8594780 107.777180151\n",
       "[173,]  4.593852e+01  73.7386736  66.618501113\n",
       "[174,]  1.086442e+02 100.9743411  55.771235886\n",
       "[175,]  9.780578e+01 162.4881287  96.517105796\n",
       "[176,]  2.034478e+02 292.2813525 178.708478329\n",
       "[177,]  4.051315e+02 474.3193923 241.316477215\n",
       "[178,]  2.621029e+02 261.3349529 174.017116664\n",
       "[179,]  3.028052e+02 354.0580368 313.197022954\n",
       "[180,]  2.600117e+02 250.0111443 239.352011438\n",
       "[181,]  2.232715e+02 274.5371569 257.701420640\n",
       "[182,]  2.273618e+02 219.3335970 262.860520665\n",
       "[183,]  6.027612e+01 102.0794825  65.920844788\n",
       "[184,]  6.527709e+00  56.4585463  60.699628795\n",
       "[185,]  2.273770e+01  14.2707470  19.566467398\n",
       "[186,] -1.587111e+00  36.5418399   2.122021292\n",
       "[187,]  2.946424e+01  27.1652634  14.760839963\n",
       "[188,]  7.872530e+01  88.6325118  32.513155603\n",
       "[189,]  2.258029e+02 344.3635458 241.543351749\n",
       "[190,]  1.816768e+02 219.4924158 253.313761714\n",
       "[191,]  3.745143e+02 479.1220661 346.872431544\n",
       "[192,]  3.820177e+02 375.3828782 247.056769107\n",
       "[193,]  1.928074e+02 232.0565602 214.673527447\n",
       "[194,]  1.673733e+02 177.3121890  90.457363420\n",
       "[195,]  9.244626e+00  40.5692504  17.887399534\n",
       "[196,]  1.564416e+00  41.9431726  13.965494941\n",
       "[197,]  2.007436e+01  30.2648460  17.974957939\n",
       "[198,]  1.613911e+00  20.0994224   2.254007127\n",
       "[199,]  5.532676e+00   2.0941626   4.543918349\n",
       "[200,]  5.791057e+00  -0.6787777   2.257862841\n",
       "[201,]  1.236594e+02 151.6125193  64.518633309\n",
       "[202,]  1.259048e+02 181.9237410  58.769853152\n",
       "[203,]  2.547690e+02 332.6568605 328.778990041\n",
       "[204,]  2.615110e+02 306.7018896 237.586945294\n",
       "[205,]  2.495744e+02 286.9617505 348.577716791\n",
       "[206,]  1.379185e+02 163.9438449 179.685257289\n",
       "[207,]  2.241139e+00  38.3466894  25.364464605\n",
       "[208,] -5.604991e+00 -17.9106747   2.862852473\n",
       "[209,]  5.447574e-02  29.6965374   3.262577528\n",
       "[210,]  2.566264e+00  27.2641411  -0.588550941\n",
       "[211,]  3.962657e+00   1.7039580   4.145097671\n",
       "[212,]  3.220111e+00   2.9899771   4.150612193\n",
       "[213,]  1.048578e+01  14.2072312  20.584678195\n",
       "[214,]  1.659447e+02 253.9523120 135.282442365\n",
       "[215,]  2.092191e+02 313.1906362 283.079047746\n",
       "[216,]  3.541400e+02 366.4034146 335.821331016\n",
       "[217,]  3.018742e+02 303.4042174 187.151757047\n",
       "[218,]  1.193094e+02 138.7278395 164.960407711\n",
       "[219,]  1.507668e+02 166.2659680 149.488380410\n",
       "[220,]  6.507403e+01  93.5783851  34.537820666\n",
       "[221,]  2.289285e+01  45.5124597  21.959728196\n",
       "[222,]  1.990551e+01  28.5357251  42.678887204\n",
       "[223,]  2.688591e+01  62.8229996   8.665558609\n",
       "[224,]  8.674571e+01 150.9366486  88.234525979\n",
       "[225,]  2.296540e+02 347.5147153 204.785999680\n",
       "[226,]  2.033808e+02 270.0458818 186.568072038\n",
       "[227,]  3.073834e+02 374.0949612 330.520368895\n",
       "[228,]  2.961883e+02 342.1686439 277.390196654\n",
       "[229,]  2.469138e+02 335.9831184 348.932217477\n",
       "[230,]  9.826933e+01 121.7709663 174.602227109\n",
       "[231,]  2.790258e+01  33.6538767  61.180723005\n",
       "[232,]  1.634328e+02 186.3024422 150.926214111\n",
       "[233,]  4.632098e+00  43.5995071   3.080193731\n",
       "[234,]  1.530899e+01  39.2470153  19.383774208\n",
       "[235,]  9.028806e+01 100.9597259  98.559811552\n",
       "[236,]  2.805123e+01 100.1339723  13.570596723\n",
       "[237,]  2.761605e+02 425.5749427 231.368937335\n",
       "[238,]  1.636969e+02 217.7753597 160.366906071\n",
       "[239,]  2.590602e+02 282.3237024 210.902510597\n",
       "[240,]  2.260298e+02 222.8145301 255.639296846\n",
       "[241,]  3.464196e+02 407.8965314 290.970283537\n",
       "[242,]  1.192443e+02 160.7851275 189.631885198\n",
       "[243,]  1.254136e+02 145.2658023 203.042171376\n",
       "[244,]  1.186605e+02 179.6360625 142.370137211\n",
       "[245,]  3.417078e+00  32.6024110  21.508953750\n",
       "[246,]  5.572277e+01  58.7924803  27.203562646\n",
       "[247,]  4.138022e+01  94.6560203  46.989611939\n",
       "[248,]  4.005875e+02 414.1380041 193.290635531\n",
       "[249,]  3.465936e+02 462.3933616 363.115528820\n",
       "[250,]  2.145208e+02 257.6949911 226.164095759\n",
       "[251,]  1.221164e+02 115.4874134 182.325471990\n",
       "[252,]  3.098076e+02 351.1901239 345.025717729\n",
       "[253,]  2.310514e+02 322.8580641 254.292413918\n",
       "[254,]  1.626640e+02 163.9804596 125.618387523\n",
       "[255,]  9.956775e+01  71.5562262  45.759419910\n",
       "\n",
       "$RES\n",
       "             JATIM_18      JATIM_21     JATIM_22\n",
       "04_2002   16.30822672  -53.92969488  -54.4871493\n",
       "05_2002 -114.44106608  -88.34548672  -66.8432634\n",
       "06_2002  -42.20625794  -82.44778281  -69.1375101\n",
       "07_2002   -0.92837356   -7.45989399   -4.7908519\n",
       "08_2002   -0.17122299   -7.91972562   -2.7114769\n",
       "09_2002    0.20000000  -19.79065357   -0.3879430\n",
       "10_2002   -5.50718969   -6.20348664   -0.5531770\n",
       "11_2002   68.09992874  164.08625698   70.9992614\n",
       "12_2002  140.83658430  143.54169405   64.8474668\n",
       "01_2003  151.70649315  103.08104719  277.2385247\n",
       "02_2003   13.65630441  -19.17213842   65.8160263\n",
       "03_2003   38.49789273  130.12094929   39.8766546\n",
       "04_2003 -113.43688225 -179.80233614 -181.4333144\n",
       "05_2003   21.09661777   12.92471877  -17.2857534\n",
       "06_2003  -73.37720233  -75.06145859  -58.6530902\n",
       "07_2003  -14.37297276  -28.90706342  -13.6224882\n",
       "08_2003    0.29383354  -25.51903324   -2.9266677\n",
       "09_2003    5.37260261    3.23635216    2.9445256\n",
       "10_2003    8.76871604    5.16257190   -0.2349991\n",
       "11_2003  215.01438089  304.54018868  153.4947766\n",
       "12_2003  102.27361047   98.83770226  108.4636378\n",
       "01_2004  -17.19867632  -15.89503974   56.7978758\n",
       "02_2004   63.01009976  129.04335401   49.7629864\n",
       "03_2004   86.86195294   34.74446456   93.1172363\n",
       "04_2004 -192.89895017 -202.07752887 -173.3794755\n",
       "05_2004   18.77552506   -6.61411703  -47.8679903\n",
       "06_2004  -32.56889958  -57.89915127  -34.4814740\n",
       "07_2004    7.24305605    9.32621255    3.1843550\n",
       "08_2004  -12.03752768  -47.35678242   -5.9853439\n",
       "09_2004   -1.38548865   30.79701306   18.9001546\n",
       "10_2004   -1.89664051  -16.17949193   -9.1315235\n",
       "11_2004  197.65194575  235.23271818  135.5726565\n",
       "12_2004  120.52456090  261.24928946  187.1127925\n",
       "01_2005  -28.95916046 -175.92265060 -138.3358746\n",
       "02_2005   35.23890133   15.45177568   50.2904232\n",
       "03_2005   56.70395406  136.71365468  121.2358007\n",
       "04_2005   59.27847534  -32.35323562  -18.2460757\n",
       "05_2005 -193.15904273 -230.95447824 -147.6967036\n",
       "06_2005   17.23145868   60.00623104   45.2392918\n",
       "07_2005   -0.06397403   17.06537864  -44.5745794\n",
       "08_2005  -18.26271942  -47.75697136   -9.8171729\n",
       "09_2005   11.92566042    1.46592854    6.6249477\n",
       "10_2005   64.33772620   75.41789501   18.3426153\n",
       "11_2005  -17.52260407   15.31115637   56.3101246\n",
       "12_2005  351.47772140  364.49342317  183.2556470\n",
       "01_2006   13.67527137   13.35659638  124.8365323\n",
       "02_2006   31.16827289  -23.85945434   15.3113004\n",
       "03_2006  -17.03751206   12.87648691   75.2564485\n",
       "04_2006   98.60253257   99.23342696   29.2986784\n",
       "05_2006 -143.08727821 -137.30197100 -104.6399118\n",
       "06_2006  -84.81974304 -151.37697254 -118.4658592\n",
       "07_2006    0.01406095    8.03278839   -9.6551447\n",
       "08_2006   -2.08095408    3.42691718   -4.9514403\n",
       "09_2006    3.54768032  -28.41685078    0.6016858\n",
       "10_2006    5.56762917  -13.28595505    0.1073291\n",
       "11_2006   13.92583309   57.42820651   15.3777790\n",
       "12_2006  177.49370343  236.62145418  185.9690020\n",
       "01_2007  -91.69366293 -148.85224662 -102.1454030\n",
       "02_2007  169.94569454  202.10468950  162.0483251\n",
       "03_2007   78.81995061   86.40381510  163.2083073\n",
       "04_2007  -31.27582936    8.92279607  -46.9672955\n",
       "05_2007  -37.41741401 -137.74855813 -146.6725809\n",
       "06_2007  -56.76048522   -8.80338518    8.2704943\n",
       "07_2007  -41.58113041  -37.96365022  -25.5427736\n",
       "08_2007    4.85163398  -31.88234893  -23.2063779\n",
       "09_2007    2.14553177  -16.26842943   -2.0058717\n",
       "10_2007   25.30228503   50.41732845   16.2123364\n",
       "11_2007   96.42107508  165.65218894   92.5442907\n",
       "12_2007  306.91790642  361.25915582  269.4394226\n",
       "01_2008 -162.18883024 -222.50977520  -31.4094773\n",
       "02_2008   78.29353955    8.13676191  131.3148940\n",
       "03_2008  160.20681023  240.95215658   88.8402653\n",
       "04_2008 -173.64574669 -221.96369842 -212.2506414\n",
       "05_2008  -50.62267304  -67.27059760  -12.3255384\n",
       "06_2008  -27.46414555  -33.06741606  -66.5392244\n",
       "07_2008  -11.48761475   -4.02619703   -8.6786431\n",
       "08_2008    3.41176396  -35.52776244   14.6315386\n",
       "09_2008    3.56129916   -5.58727438  -12.1097251\n",
       "10_2008   85.56044743  176.11029914  110.9786109\n",
       "11_2008  254.67613383  253.82440591  109.8400079\n",
       "12_2008 -133.54620853 -223.40475458  -84.3101272\n",
       "01_2009  189.83946565  266.85211203  344.9119010\n",
       "02_2009   73.04321815   45.30311142   10.1469907\n",
       "03_2009 -129.59870999 -148.27709552 -124.2323527\n",
       "04_2009   11.39471014   24.31889436  -17.4048257\n",
       "05_2009   41.43081203  112.40938016   13.4843706\n",
       "06_2009 -123.95804061 -169.92471392  -73.4744772\n",
       "07_2009   24.07495517  -37.09576934  -25.9812213\n",
       "08_2009  -22.61131636  -21.63219464   -9.2244397\n",
       "09_2009   -3.54451964    0.81492680   -1.2309321\n",
       "10_2009   11.97721665   29.07576643   20.8215154\n",
       "11_2009  133.87522901  162.69204282   96.9792944\n",
       "12_2009  -22.41959149    2.43715731   -5.7672895\n",
       "01_2010  227.42431913  207.71403792  317.5934572\n",
       "02_2010   27.19000949   90.61221922  -11.2033666\n",
       "03_2010  177.13016010   22.13015083   98.4428701\n",
       "04_2010  -80.52020760  -12.07970264  -39.3795087\n",
       "05_2010   58.35190284   92.63793784   36.3682003\n",
       "06_2010  -74.09708042 -128.05478453 -131.7670900\n",
       "07_2010   17.70169915   -7.97268311   32.2741492\n",
       "08_2010  -86.80009729  -33.70236472  -62.6152594\n",
       "09_2010  258.02594684  185.53014010  116.3263597\n",
       "10_2010   -2.04770747   72.87260815   51.3438600\n",
       "11_2010  148.47339487  139.33745229  143.7426648\n",
       "12_2010   90.87069316  -73.91929560   75.1492928\n",
       "01_2011  -13.86803471   53.59565624   27.9440258\n",
       "02_2011    4.20065027 -102.47729884  -56.3997137\n",
       "03_2011   87.73801470  166.36500993  174.2114986\n",
       "04_2011  -24.83253015  -51.08717522   -5.5941236\n",
       "05_2011  -30.04438480  -84.46411972  -37.6888216\n",
       "06_2011 -110.64567103 -124.65316492 -159.3494729\n",
       "07_2011  -15.33929715   10.41531665   -4.8980364\n",
       "08_2011   -3.00464740   -6.16853009   -4.9014059\n",
       "09_2011    5.48815090  -12.32203020    0.5110599\n",
       "10_2011   13.27046741   32.89538380    8.2825612\n",
       "11_2011  182.86307888  201.27226184  162.3055543\n",
       "12_2011  -14.32156707  -32.71541682   48.1363407\n",
       "01_2012  275.13764319  258.52205040  229.8895037\n",
       "02_2012 -157.76251813 -130.34712741 -148.5703355\n",
       "03_2012  124.02246384   79.43814988   33.9615454\n",
       "04_2012   -5.65413375  -28.91349942  -45.0790247\n",
       "05_2012  -65.25883395  -63.85040074  -42.7678913\n",
       "06_2012  -89.83843445 -112.74644256  -33.7610258\n",
       "07_2012    0.03723499   12.46361990  -13.2373754\n",
       "08_2012   -0.84054907  -10.66815322   -5.1427203\n",
       "09_2012    2.40758885  -11.91180762    0.7640694\n",
       "10_2012   25.20794339   74.83772654   47.2005637\n",
       "11_2012   65.61441539   82.67695164   76.4823759\n",
       "12_2012  176.00701799  141.82606377  204.8200680\n",
       "01_2013  182.72859395  212.60627999  148.5773864\n",
       "02_2013  -85.67915640  -52.09150622   99.9008625\n",
       "03_2013   39.02535097  -74.23375246 -103.7494698\n",
       "04_2013   -3.75948012   69.57428120   84.0145041\n",
       "05_2013  -11.19391925   26.49919393  -31.9611385\n",
       "06_2013  138.58332543   58.68697881   75.9543442\n",
       "07_2013 -159.38665180 -175.29359079 -129.5452821\n",
       "08_2013  -51.53192134  -78.96427745  -65.9556292\n",
       "09_2013   -4.00489789   -0.02597726  -11.7558927\n",
       "10_2013   21.48956414   92.63627090   33.4419473\n",
       "11_2013  269.47045399  261.07591328  228.5164589\n",
       "12_2013  111.08630150  169.17206313   93.9933617\n",
       "01_2014  -16.25700605 -128.64722139   13.7242991\n",
       "02_2014  -18.25751262  -63.79290594    7.3857402\n",
       "03_2014 -106.39381303  -24.66084808  -63.1338623\n",
       "04_2014   96.14982129   99.16249263   39.7858881\n",
       "05_2014  -26.52795175  -67.99570442  -49.2338617\n",
       "06_2014  -33.67471264  -20.89266019   -1.0500163\n",
       "07_2014  -35.83477377  -84.75299226  -37.0149422\n",
       "08_2014  -12.66935090    1.63024214  -17.2380363\n",
       "09_2014    2.90069240   -9.75172169   -6.3429651\n",
       "10_2014    4.46367348    1.09803236    6.9992465\n",
       "11_2014  170.15705000  202.07553222  146.6496501\n",
       "12_2014  249.63056912  270.62256062  114.4260764\n",
       "01_2015  -89.51066561 -163.06380563   77.5292193\n",
       "02_2015   77.53398061  113.75733991  117.0080632\n",
       "03_2015   48.58053892   60.92957909  103.4870354\n",
       "04_2015   55.48665519   46.06485582  -35.6745617\n",
       "05_2015 -175.13709634 -204.22040258 -154.5347147\n",
       "06_2015  -42.16173250  -47.04404127  -60.3652130\n",
       "07_2015  -11.62576353  -11.09647602  -21.3212503\n",
       "08_2015    5.29650562   -8.92562092   -1.3878801\n",
       "09_2015    3.24352002  -31.54214620   -0.0699813\n",
       "10_2015   -2.68008135   -9.17920668    5.9706821\n",
       "11_2015   72.42246118  200.47934824   96.1062002\n",
       "12_2015  249.61195197  155.68662871  227.3812944\n",
       "01_2016   53.94145146   11.86944805   55.6069794\n",
       "02_2016  111.21294476  122.00973472  163.0419534\n",
       "03_2016 -109.13136299  -47.82525559  -17.4421115\n",
       "04_2016  104.05957864   31.61022164 -159.1666191\n",
       "05_2016  -40.82080567   33.79890927   85.5621921\n",
       "06_2016   24.45023760    6.40625449  -33.9562670\n",
       "07_2016  -94.63714807 -146.35947804  -28.9771802\n",
       "08_2016   87.06147811   39.46132638  -10.3185011\n",
       "09_2016    4.05583053   73.42565894   61.6287641\n",
       "10_2016  145.69421669  151.51187132  119.1828942\n",
       "11_2016  273.95224251  241.11864749  109.2915217\n",
       "12_2016  -95.73145124 -180.31939228  -28.3164772\n",
       "01_2017   97.69707422  157.36504710  192.7828833\n",
       "02_2017   17.69478296  -62.95803684  -24.6970230\n",
       "03_2017   18.98825855   38.78885569   67.6479886\n",
       "04_2017   52.22850037  -24.43715694   60.2985794\n",
       "05_2017 -162.36177680 -100.23359700 -194.2605207\n",
       "06_2017  -48.97611597  -26.87948251    5.5791552\n",
       "07_2017   17.37229109  -38.75854634  -40.1996288\n",
       "08_2017  -22.23770046  -12.77074697  -18.7664674\n",
       "09_2017   29.88711070  -12.84183993   15.0779787\n",
       "10_2017   61.63576405   68.73473660   21.4391600\n",
       "11_2017  185.57469821  285.76748821  264.1868444\n",
       "12_2017  -13.30288698 -109.46354583   74.2566483\n",
       "01_2018  261.12318219  326.00758422  152.5862383\n",
       "02_2018   82.28567490  -32.12206613  -43.9724315\n",
       "03_2018 -144.11771436 -103.18287816    6.5432309\n",
       "04_2018   16.29260730    4.84343977 -121.5735274\n",
       "05_2018 -155.57326623 -129.31218904  -69.3573634\n",
       "06_2018    5.25537379   -7.46925042   -8.3873995\n",
       "07_2018   14.43558424  -29.34317257    7.4345051\n",
       "08_2018  -19.97436208  -30.16484605  -17.9749579\n",
       "09_2018    0.48608918  -18.19942240    1.7459929\n",
       "10_2018   -1.93267566   -1.29416255   -3.0439183\n",
       "11_2018  140.30894345  165.27877768   74.2421372\n",
       "12_2018   20.94057262   56.18748075    8.4813667\n",
       "01_2019  174.19515705  176.37625896  347.3301468\n",
       "02_2019   54.33102895   20.14313949  -48.0789900\n",
       "03_2019   40.58896364    3.19811041  189.7130547\n",
       "04_2019  -80.57442348  -55.06175045 -143.6777168\n",
       "05_2019 -129.01845963 -113.04384491 -153.8852573\n",
       "06_2019   -1.94113923  -38.34668942  -25.3644646\n",
       "07_2019    6.10499143   18.41067471   -0.2628525\n",
       "08_2019   -0.05447574  -29.69653735   -3.2625775\n",
       "09_2019   -2.56626440  -27.26414108    3.6885509\n",
       "10_2019   -3.96265661    1.29604205   -0.9450977\n",
       "11_2019    7.17988896   11.41002286   21.5493878\n",
       "12_2019  184.21421934  270.89276877  141.4153218\n",
       "01_2020   77.55534337   82.14768798  220.9175576\n",
       "02_2020  212.98094313   85.00936376  119.9209523\n",
       "03_2020    6.35998540    1.89658535 -119.4213310\n",
       "04_2020 -154.07420802 -116.50421742   12.6482430\n",
       "05_2020   73.49059415   72.37216049    5.2395923\n",
       "06_2020  -65.46676200  -81.26596801 -108.8883804\n",
       "07_2020  -39.17402993  -52.37838507  -11.8378207\n",
       "08_2020   -3.89285256  -14.31245966   27.2402718\n",
       "09_2020   10.69449033   24.46427494  -36.3788872\n",
       "10_2020   74.01408634  101.77700042   99.7344414\n",
       "11_2020  177.45428574  239.06335142  159.0654740\n",
       "12_2020    8.24596966  -51.01471528   24.8140003\n",
       "01_2021  160.41921651  159.35411817  208.3319280\n",
       "02_2021   48.01663473   25.40503877    1.7796311\n",
       "03_2021    5.71168636   28.73135610  145.9098033\n",
       "04_2021 -122.41377041 -170.18311836 -145.9322175\n",
       "05_2021  -63.86933030  -78.87096629 -109.7022271\n",
       "06_2021  173.29741614  172.04612328  120.5192770\n",
       "07_2021 -157.83284611 -167.90244217 -145.4262141\n",
       "08_2021    9.96790171   -6.39950710   13.2198063\n",
       "09_2021   82.19101291   88.15298467  100.0162258\n",
       "10_2021  -56.98806440  -13.35972590  -84.7598116\n",
       "11_2021  295.14877032  385.36602770  264.5294033\n",
       "12_2021  -89.26049817 -172.87494265  -28.8689373\n",
       "01_2022  147.70310257   87.72464031   81.4330939\n",
       "02_2022   12.33983331   -4.32370236  100.4974894\n",
       "03_2022  197.77020269  213.38546986   88.7607032\n",
       "04_2022 -194.61958981 -213.39653139  -55.9702835\n",
       "05_2022   24.95571956   11.51487254   45.0681148\n",
       "06_2022   14.18638735   70.43419770  -35.5421714\n",
       "07_2022 -109.26047189 -165.83606245 -114.8701372\n",
       "08_2022   64.08292243   41.69758902    2.4910463\n",
       "09_2022  -15.62277125   36.70751973   30.6964374\n",
       "10_2022  440.21977798  335.74397967  183.7103881\n",
       "11_2022    8.81245188   92.16199591  258.7093645\n",
       "12_2022  -97.99361920 -164.59336157 -100.2155288\n",
       "01_2023  -69.82082776  -68.19499106  -15.8640958\n",
       "02_2023  262.18358057  272.31258663  234.6745280\n",
       "03_2023  -26.60764301  -26.69012392  -33.0257177\n",
       "04_2023  -34.65139638 -140.45806414 -110.3924139\n",
       "05_2023  -53.96402540  -35.58045957  -82.0183875\n",
       "06_2023  -72.46775001  -32.25622623  -36.1594199\n",
       "\n",
       "$P\n",
       "[1] 1\n",
       "\n",
       "$D\n",
       "[1] 0\n",
       "\n",
       "$Q\n",
       "[1] 2\n",
       "\n",
       "$W\n",
       "$W$w1\n",
       "  [,1] [,2] [,3]\n",
       "1  0.0    1  0.0\n",
       "2  0.5    0  0.5\n",
       "3  0.0    1  0.0\n",
       "attr(,\"call\")\n",
       "nb2mat(neighbours = nbrs)\n",
       "\n"
      ]
     },
     "metadata": {},
     "output_type": "display_data"
    }
   ],
   "source": [
    "# Fit space-time autoregressive integrated moving average (STARIMA) models with different orders\n",
    "fit.star1 <- starima_fit(Z = jatim_rainfall_mat2[1:258, ], W = W_fit, p = 1, d = 0, q = 1)\n",
    "fit.star2 <- starima_fit(Z = jatim_rainfall_mat2[1:258, ], W = W_fit, p = 1, d = 0, q = 2)\n",
    "\n",
    "fit.star1\n",
    "fit.star2"
   ]
  },
  {
   "cell_type": "code",
   "execution_count": 67,
   "id": "a412f322",
   "metadata": {},
   "outputs": [
    {
     "data": {
      "text/html": [
       "<style>\n",
       ".list-inline {list-style: none; margin:0; padding: 0}\n",
       ".list-inline>li {display: inline-block}\n",
       ".list-inline>li:not(:last-child)::after {content: \"\\00b7\"; padding: 0 .5ex}\n",
       "</style>\n",
       "<ol class=list-inline><li>0.801877264281635</li><li>0.790439208480748</li><li>0.759768349835294</li></ol>\n"
      ],
      "text/latex": [
       "\\begin{enumerate*}\n",
       "\\item 0.801877264281635\n",
       "\\item 0.790439208480748\n",
       "\\item 0.759768349835294\n",
       "\\end{enumerate*}\n"
      ],
      "text/markdown": [
       "1. 0.801877264281635\n",
       "2. 0.790439208480748\n",
       "3. 0.759768349835294\n",
       "\n",
       "\n"
      ],
      "text/plain": [
       "[1] 0.8018773 0.7904392 0.7597683"
      ]
     },
     "metadata": {},
     "output_type": "display_data"
    },
    {
     "data": {
      "text/html": [
       "<style>\n",
       ".list-inline {list-style: none; margin:0; padding: 0}\n",
       ".list-inline>li {display: inline-block}\n",
       ".list-inline>li:not(:last-child)::after {content: \"\\00b7\"; padding: 0 .5ex}\n",
       "</style>\n",
       "<ol class=list-inline><li>0.790915420288603</li><li>0.790565885828283</li><li>0.766642447393641</li></ol>\n"
      ],
      "text/latex": [
       "\\begin{enumerate*}\n",
       "\\item 0.790915420288603\n",
       "\\item 0.790565885828283\n",
       "\\item 0.766642447393641\n",
       "\\end{enumerate*}\n"
      ],
      "text/markdown": [
       "1. 0.790915420288603\n",
       "2. 0.790565885828283\n",
       "3. 0.766642447393641\n",
       "\n",
       "\n"
      ],
      "text/plain": [
       "[1] 0.7909154 0.7905659 0.7666424"
      ]
     },
     "metadata": {},
     "output_type": "display_data"
    }
   ],
   "source": [
    "# Extract NRMSE values from STARIMA model fits\n",
    "# NRMSE: Normalized Root Mean Squared Error, indicating the goodness-of-fit of the models\n",
    "fit.star1$NRMSE\n",
    "fit.star2$NRMSE # The best ST-ARIMA(1,0,2) model (The lowest NRMSE)"
   ]
  },
  {
   "cell_type": "code",
   "execution_count": 68,
   "id": "5eafc03b",
   "metadata": {},
   "outputs": [
    {
     "data": {
      "text/html": [
       "<dl>\n",
       "\t<dt>$stacf</dt>\n",
       "\t\t<dd><table class=\"dataframe\">\n",
       "<caption>A matrix: 51 × 1 of type dbl</caption>\n",
       "<tbody>\n",
       "\t<tr><td> 1.0000000000</td></tr>\n",
       "\t<tr><td>-0.0254702392</td></tr>\n",
       "\t<tr><td> 0.0325663377</td></tr>\n",
       "\t<tr><td>-0.0225096861</td></tr>\n",
       "\t<tr><td>-0.0600437944</td></tr>\n",
       "\t<tr><td>-0.2431724076</td></tr>\n",
       "\t<tr><td>-0.2421166231</td></tr>\n",
       "\t<tr><td>-0.2754764668</td></tr>\n",
       "\t<tr><td>-0.0725421742</td></tr>\n",
       "\t<tr><td>-0.0111070966</td></tr>\n",
       "\t<tr><td> 0.1379971978</td></tr>\n",
       "\t<tr><td> 0.1562073074</td></tr>\n",
       "\t<tr><td> 0.4110280872</td></tr>\n",
       "\t<tr><td> 0.1114860020</td></tr>\n",
       "\t<tr><td> 0.1161238835</td></tr>\n",
       "\t<tr><td>-0.0439552924</td></tr>\n",
       "\t<tr><td>-0.0794392651</td></tr>\n",
       "\t<tr><td>-0.2276801847</td></tr>\n",
       "\t<tr><td>-0.2847900625</td></tr>\n",
       "\t<tr><td>-0.2540745776</td></tr>\n",
       "\t<tr><td>-0.0185787467</td></tr>\n",
       "\t<tr><td>-0.0493663335</td></tr>\n",
       "\t<tr><td> 0.1382128657</td></tr>\n",
       "\t<tr><td> 0.2794214783</td></tr>\n",
       "\t<tr><td> 0.2366348082</td></tr>\n",
       "\t<tr><td> 0.1720873508</td></tr>\n",
       "\t<tr><td> 0.1371763306</td></tr>\n",
       "\t<tr><td>-0.0004914923</td></tr>\n",
       "\t<tr><td>-0.1715431024</td></tr>\n",
       "\t<tr><td>-0.2101490495</td></tr>\n",
       "\t<tr><td>-0.2888249904</td></tr>\n",
       "\t<tr><td>-0.2048023586</td></tr>\n",
       "\t<tr><td>-0.1136490657</td></tr>\n",
       "\t<tr><td> 0.0826329293</td></tr>\n",
       "\t<tr><td> 0.0634015428</td></tr>\n",
       "\t<tr><td> 0.2602188778</td></tr>\n",
       "\t<tr><td> 0.2711969325</td></tr>\n",
       "\t<tr><td> 0.2110435471</td></tr>\n",
       "\t<tr><td> 0.1046440524</td></tr>\n",
       "\t<tr><td>-0.0120773674</td></tr>\n",
       "\t<tr><td>-0.1201209195</td></tr>\n",
       "\t<tr><td>-0.2019900343</td></tr>\n",
       "\t<tr><td>-0.4056358620</td></tr>\n",
       "\t<tr><td>-0.0626602865</td></tr>\n",
       "\t<tr><td>-0.1811547243</td></tr>\n",
       "\t<tr><td> 0.0466781381</td></tr>\n",
       "\t<tr><td> 0.0783115512</td></tr>\n",
       "\t<tr><td> 0.2351821138</td></tr>\n",
       "\t<tr><td> 0.2267439107</td></tr>\n",
       "\t<tr><td> 0.2794323222</td></tr>\n",
       "\t<tr><td> 0.0881423373</td></tr>\n",
       "</tbody>\n",
       "</table>\n",
       "</dd>\n",
       "\t<dt>$ubound</dt>\n",
       "\t\t<dd>0.0806477838545512</dd>\n",
       "\t<dt>$lbound</dt>\n",
       "\t\t<dd>-0.0806477838545512</dd>\n",
       "</dl>\n"
      ],
      "text/latex": [
       "\\begin{description}\n",
       "\\item[\\$stacf] A matrix: 51 × 1 of type dbl\n",
       "\\begin{tabular}{l}\n",
       "\t  1.0000000000\\\\\n",
       "\t -0.0254702392\\\\\n",
       "\t  0.0325663377\\\\\n",
       "\t -0.0225096861\\\\\n",
       "\t -0.0600437944\\\\\n",
       "\t -0.2431724076\\\\\n",
       "\t -0.2421166231\\\\\n",
       "\t -0.2754764668\\\\\n",
       "\t -0.0725421742\\\\\n",
       "\t -0.0111070966\\\\\n",
       "\t  0.1379971978\\\\\n",
       "\t  0.1562073074\\\\\n",
       "\t  0.4110280872\\\\\n",
       "\t  0.1114860020\\\\\n",
       "\t  0.1161238835\\\\\n",
       "\t -0.0439552924\\\\\n",
       "\t -0.0794392651\\\\\n",
       "\t -0.2276801847\\\\\n",
       "\t -0.2847900625\\\\\n",
       "\t -0.2540745776\\\\\n",
       "\t -0.0185787467\\\\\n",
       "\t -0.0493663335\\\\\n",
       "\t  0.1382128657\\\\\n",
       "\t  0.2794214783\\\\\n",
       "\t  0.2366348082\\\\\n",
       "\t  0.1720873508\\\\\n",
       "\t  0.1371763306\\\\\n",
       "\t -0.0004914923\\\\\n",
       "\t -0.1715431024\\\\\n",
       "\t -0.2101490495\\\\\n",
       "\t -0.2888249904\\\\\n",
       "\t -0.2048023586\\\\\n",
       "\t -0.1136490657\\\\\n",
       "\t  0.0826329293\\\\\n",
       "\t  0.0634015428\\\\\n",
       "\t  0.2602188778\\\\\n",
       "\t  0.2711969325\\\\\n",
       "\t  0.2110435471\\\\\n",
       "\t  0.1046440524\\\\\n",
       "\t -0.0120773674\\\\\n",
       "\t -0.1201209195\\\\\n",
       "\t -0.2019900343\\\\\n",
       "\t -0.4056358620\\\\\n",
       "\t -0.0626602865\\\\\n",
       "\t -0.1811547243\\\\\n",
       "\t  0.0466781381\\\\\n",
       "\t  0.0783115512\\\\\n",
       "\t  0.2351821138\\\\\n",
       "\t  0.2267439107\\\\\n",
       "\t  0.2794323222\\\\\n",
       "\t  0.0881423373\\\\\n",
       "\\end{tabular}\n",
       "\n",
       "\\item[\\$ubound] 0.0806477838545512\n",
       "\\item[\\$lbound] -0.0806477838545512\n",
       "\\end{description}\n"
      ],
      "text/markdown": [
       "$stacf\n",
       ":   \n",
       "A matrix: 51 × 1 of type dbl\n",
       "\n",
       "|  1.0000000000 |\n",
       "| -0.0254702392 |\n",
       "|  0.0325663377 |\n",
       "| -0.0225096861 |\n",
       "| -0.0600437944 |\n",
       "| -0.2431724076 |\n",
       "| -0.2421166231 |\n",
       "| -0.2754764668 |\n",
       "| -0.0725421742 |\n",
       "| -0.0111070966 |\n",
       "|  0.1379971978 |\n",
       "|  0.1562073074 |\n",
       "|  0.4110280872 |\n",
       "|  0.1114860020 |\n",
       "|  0.1161238835 |\n",
       "| -0.0439552924 |\n",
       "| -0.0794392651 |\n",
       "| -0.2276801847 |\n",
       "| -0.2847900625 |\n",
       "| -0.2540745776 |\n",
       "| -0.0185787467 |\n",
       "| -0.0493663335 |\n",
       "|  0.1382128657 |\n",
       "|  0.2794214783 |\n",
       "|  0.2366348082 |\n",
       "|  0.1720873508 |\n",
       "|  0.1371763306 |\n",
       "| -0.0004914923 |\n",
       "| -0.1715431024 |\n",
       "| -0.2101490495 |\n",
       "| -0.2888249904 |\n",
       "| -0.2048023586 |\n",
       "| -0.1136490657 |\n",
       "|  0.0826329293 |\n",
       "|  0.0634015428 |\n",
       "|  0.2602188778 |\n",
       "|  0.2711969325 |\n",
       "|  0.2110435471 |\n",
       "|  0.1046440524 |\n",
       "| -0.0120773674 |\n",
       "| -0.1201209195 |\n",
       "| -0.2019900343 |\n",
       "| -0.4056358620 |\n",
       "| -0.0626602865 |\n",
       "| -0.1811547243 |\n",
       "|  0.0466781381 |\n",
       "|  0.0783115512 |\n",
       "|  0.2351821138 |\n",
       "|  0.2267439107 |\n",
       "|  0.2794323222 |\n",
       "|  0.0881423373 |\n",
       "\n",
       "\n",
       "$ubound\n",
       ":   0.0806477838545512\n",
       "$lbound\n",
       ":   -0.0806477838545512\n",
       "\n",
       "\n"
      ],
      "text/plain": [
       "$stacf\n",
       "               [,1]\n",
       " [1,]  1.0000000000\n",
       " [2,] -0.0254702392\n",
       " [3,]  0.0325663377\n",
       " [4,] -0.0225096861\n",
       " [5,] -0.0600437944\n",
       " [6,] -0.2431724076\n",
       " [7,] -0.2421166231\n",
       " [8,] -0.2754764668\n",
       " [9,] -0.0725421742\n",
       "[10,] -0.0111070966\n",
       "[11,]  0.1379971978\n",
       "[12,]  0.1562073074\n",
       "[13,]  0.4110280872\n",
       "[14,]  0.1114860020\n",
       "[15,]  0.1161238835\n",
       "[16,] -0.0439552924\n",
       "[17,] -0.0794392651\n",
       "[18,] -0.2276801847\n",
       "[19,] -0.2847900625\n",
       "[20,] -0.2540745776\n",
       "[21,] -0.0185787467\n",
       "[22,] -0.0493663335\n",
       "[23,]  0.1382128657\n",
       "[24,]  0.2794214783\n",
       "[25,]  0.2366348082\n",
       "[26,]  0.1720873508\n",
       "[27,]  0.1371763306\n",
       "[28,] -0.0004914923\n",
       "[29,] -0.1715431024\n",
       "[30,] -0.2101490495\n",
       "[31,] -0.2888249904\n",
       "[32,] -0.2048023586\n",
       "[33,] -0.1136490657\n",
       "[34,]  0.0826329293\n",
       "[35,]  0.0634015428\n",
       "[36,]  0.2602188778\n",
       "[37,]  0.2711969325\n",
       "[38,]  0.2110435471\n",
       "[39,]  0.1046440524\n",
       "[40,] -0.0120773674\n",
       "[41,] -0.1201209195\n",
       "[42,] -0.2019900343\n",
       "[43,] -0.4056358620\n",
       "[44,] -0.0626602865\n",
       "[45,] -0.1811547243\n",
       "[46,]  0.0466781381\n",
       "[47,]  0.0783115512\n",
       "[48,]  0.2351821138\n",
       "[49,]  0.2267439107\n",
       "[50,]  0.2794323222\n",
       "[51,]  0.0881423373\n",
       "\n",
       "$ubound\n",
       "[1] 0.08064778\n",
       "\n",
       "$lbound\n",
       "[1] -0.08064778\n"
      ]
     },
     "metadata": {},
     "output_type": "display_data"
    },
    {
     "data": {
      "image/png": "[encoded data removed]",
      "text/plain": [
       "Plot with title \"Space-Time Autocorrelation Function\""
      ]
     },
     "metadata": {
      "image/png": {
       "height": 420,
       "width": 420
      }
     },
     "output_type": "display_data"
    }
   ],
   "source": [
    "# Diagnostic Checking----------------------------------------------------------\n",
    "stacf(fit.star2$RES,W1,50) \n"
   ]
  },
  {
   "cell_type": "code",
   "execution_count": 69,
   "id": "742564f5",
   "metadata": {},
   "outputs": [
    {
     "data": {
      "image/png": "[encoded data removed]",
      "text/plain": [
       "Plot with title \"Histogram of fit.star2$RES[, 1]\""
      ]
     },
     "metadata": {
      "image/png": {
       "height": 420,
       "width": 420
      }
     },
     "output_type": "display_data"
    },
    {
     "data": {
      "image/png": "[encoded data removed]",
      "text/plain": [
       "Plot with title \"Histogram of fit.star2$RES[, 2]\""
      ]
     },
     "metadata": {
      "image/png": {
       "height": 420,
       "width": 420
      }
     },
     "output_type": "display_data"
    },
    {
     "data": {
      "image/png": "[encoded data removed]",
      "text/plain": [
       "Plot with title \"Histogram of fit.star2$RES[, 3]\""
      ]
     },
     "metadata": {
      "image/png": {
       "height": 420,
       "width": 420
      }
     },
     "output_type": "display_data"
    }
   ],
   "source": [
    "# Histogram of residual\n",
    "hist(fit.star2$RES[,1])\n",
    "hist(fit.star2$RES[,2])\n",
    "hist(fit.star2$RES[,3])"
   ]
  },
  {
   "cell_type": "code",
   "execution_count": 70,
   "id": "5ed37c0c",
   "metadata": {},
   "outputs": [
    {
     "data": {
      "text/plain": [
       "\n",
       "\tBox-Ljung test\n",
       "\n",
       "data:  fit.star2$RES[, 1]\n",
       "X-squared = 3.1362, df = 1, p-value = 0.07657\n"
      ]
     },
     "metadata": {},
     "output_type": "display_data"
    },
    {
     "data": {
      "text/plain": [
       "\n",
       "\tBox-Ljung test\n",
       "\n",
       "data:  fit.star2$RES[, 2]\n",
       "X-squared = 1.7988, df = 1, p-value = 0.1799\n"
      ]
     },
     "metadata": {},
     "output_type": "display_data"
    },
    {
     "data": {
      "text/plain": [
       "\n",
       "\tBox-Ljung test\n",
       "\n",
       "data:  fit.star2$RES[, 3]\n",
       "X-squared = 0.70414, df = 1, p-value = 0.4014\n"
      ]
     },
     "metadata": {},
     "output_type": "display_data"
    }
   ],
   "source": [
    "# Perform the Ljung-Box test on the residuals of the STARIMA model\n",
    "#JATIM_18 -> STARIMA(1,0,2) -> Best model\n",
    "Box.test(fit.star2$RES[,1],lag=1, type=\"Ljung\")\n",
    "#JATIM_21 -> STARIMA(1,0,2) -> Best model\n",
    "Box.test(fit.star2$RES[,2],lag=1, type=\"Ljung\")\n",
    "#JATIM_22 -> STARIMA(1,0,2) -> Best model\n",
    "Box.test(fit.star2$RES[,3],lag=1, type=\"Ljung\")"
   ]
  },
  {
   "cell_type": "code",
   "execution_count": 71,
   "id": "ec2d7ef0",
   "metadata": {},
   "outputs": [
    {
     "data": {
      "image/png": "[encoded data removed]",
      "text/plain": [
       "Plot with title \"Prediction Rainfall of JATIM_18 (ST-ARIMA)\""
      ]
     },
     "metadata": {
      "image/png": {
       "height": 420,
       "width": 420
      }
     },
     "output_type": "display_data"
    },
    {
     "data": {
      "image/png": "[encoded data removed]",
      "text/plain": [
       "Plot with title \"Prediction Rainfall of JATIM_21 (ST-ARIMA)\""
      ]
     },
     "metadata": {
      "image/png": {
       "height": 420,
       "width": 420
      }
     },
     "output_type": "display_data"
    },
    {
     "data": {
      "image/png": "[encoded data removed]",
      "text/plain": [
       "Plot with title \"Prediction Rainfall of JATIM_22 (ST-ARIMA)\""
      ]
     },
     "metadata": {
      "image/png": {
       "height": 420,
       "width": 420
      }
     },
     "output_type": "display_data"
    }
   ],
   "source": [
    "#PREDICTION\n",
    "pre.star <- starima_pre(jatim_rainfall_mat2[(258-0-3+1):264,],\n",
    "                        model=fit.star2)\n",
    "matplot(1:6,cbind(jatim_rainfall_mat2[259:264,1],pre.star$PRE[,1]),type=\"l\", main=\"Prediction Rainfall of JATIM_18 (ST-ARIMA)\")\n",
    "matplot(1:6,cbind(jatim_rainfall_mat2[259:264,2],pre.star$PRE[,2]),type=\"l\", main=\"Prediction Rainfall of JATIM_21 (ST-ARIMA)\")\n",
    "matplot(1:6,cbind(jatim_rainfall_mat2[259:264,3],pre.star$PRE[,3]),type=\"l\", main=\"Prediction Rainfall of JATIM_22 (ST-ARIMA)\")"
   ]
  },
  {
   "cell_type": "code",
   "execution_count": 72,
   "id": "ca1ba5e3",
   "metadata": {},
   "outputs": [
    {
     "data": {
      "text/html": [
       "<style>\n",
       ".list-inline {list-style: none; margin:0; padding: 0}\n",
       ".list-inline>li {display: inline-block}\n",
       ".list-inline>li:not(:last-child)::after {content: \"\\00b7\"; padding: 0 .5ex}\n",
       "</style>\n",
       "<ol class=list-inline><li>0.791079489012747</li><li>0.751979911194733</li><li>0.764319867964116</li></ol>\n"
      ],
      "text/latex": [
       "\\begin{enumerate*}\n",
       "\\item 0.791079489012747\n",
       "\\item 0.751979911194733\n",
       "\\item 0.764319867964116\n",
       "\\end{enumerate*}\n"
      ],
      "text/markdown": [
       "1. 0.791079489012747\n",
       "2. 0.751979911194733\n",
       "3. 0.764319867964116\n",
       "\n",
       "\n"
      ],
      "text/plain": [
       "[1] 0.7910795 0.7519799 0.7643199"
      ]
     },
     "metadata": {},
     "output_type": "display_data"
    }
   ],
   "source": [
    "#Check the NRMSE of the ST-ARIMA Prediction\n",
    "pre.star$NRMSE"
   ]
  },
  {
   "cell_type": "markdown",
   "id": "b995e69a",
   "metadata": {},
   "source": [
    "## Discussion and Conclusion\n",
    "\n",
    "**ST-ARIMA model outperforms the ARIMA model in all seasonal zones, displaying better prediction plots and lower NRMSE values.** The superior performance of the STARIMA model over the univariate ARIMA model may be attributed to the inclusion of spatial information, specifically the neighboring effect represented by the spatial weight matrix. In terms of interpretability and ease of implementation, ST-ARIMA is superior because model identification is performed only once and then applied to all areas. This results in faster computation times, especially when analyzing multiple areas simultaneously. The performance of the ARIMA and ST-ARIMA models varies across different areas due to the unique characteristics of rainfall in each region. However, both models effectively interpret the variations in the time series data and generate meaningful forecasts. It is important to note that these models have limitations; they are suitable only for short-term predictions in time series data, and the quality of the results is highly influenced by the training data. Furthermore, it is observed that the prediction plots and accuracy values of both models are moderately low. To enhance performance, longer historical data can be utilized to help the models better understand patterns and thereby produce more accurate predictions. **To conclude, the ST-ARIMA(1,0,2) outperforms ARIMA models in all seasonal zone and could be used to forecast short-time future rainfall in Jawa Timur.**"
   ]
  },
  {
   "cell_type": "markdown",
   "id": "6ecdef94",
   "metadata": {},
   "source": [
    "Check out my full publication on [GitHub](https://github.com/adefebrisp/RainfallForecast-ARIMA-STARIMA)."
   ]
  },
  {
   "cell_type": "code",
   "execution_count": null,
   "id": "f8dc2d84",
   "metadata": {},
   "outputs": [],
   "source": []
  }
 ],
 "metadata": {
  "kernelspec": {
   "display_name": "R",
   "language": "R",
   "name": "ir"
  },
  "language_info": {
   "codemirror_mode": "r",
   "file_extension": ".r",
   "mimetype": "text/x-r-source",
   "name": "R",
   "pygments_lexer": "r",
   "version": "4.3.1"
  }
 },
 "nbformat": 4,
 "nbformat_minor": 5
}
